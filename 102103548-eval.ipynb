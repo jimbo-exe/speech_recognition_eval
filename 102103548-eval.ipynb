{
  "cells": [
    {
      "cell_type": "code",
      "execution_count": null,
      "metadata": {
        "id": "IcJoObpd66GJ"
      },
      "outputs": [],
      "source": [
        "%matplotlib inline"
      ]
    },
    {
      "cell_type": "markdown",
      "metadata": {
        "id": "eQ8imxsR66GN"
      },
      "source": [
        "\n",
        "# Speech Command Classification with torchaudio\n",
        "\n",
        "This tutorial will show you how to correctly format an audio dataset and\n",
        "then train/test an audio classifier network on the dataset.\n",
        "\n",
        "Colab has GPU option available. In the menu tabs, select “Runtime” then\n",
        "“Change runtime type”. In the pop-up that follows, you can choose GPU.\n",
        "After the change, your runtime should automatically restart (which means\n",
        "information from executed cells disappear).\n",
        "\n",
        "First, let’s import the common torch packages such as\n",
        "[torchaudio](https://github.com/pytorch/audio)_ that can be installed\n",
        "by following the instructions on the website.\n"
      ]
    },
    {
      "cell_type": "code",
      "execution_count": null,
      "metadata": {
        "colab": {
          "base_uri": "https://localhost:8080/"
        },
        "id": "ze1DW7gx66GR",
        "outputId": "d8f623bf-bf21-4a80-f8e9-2fd716714a5b"
      },
      "outputs": [
        {
          "output_type": "stream",
          "name": "stdout",
          "text": [
            "Looking in indexes: https://pypi.org/simple, https://download.pytorch.org/whl/cu117\n",
            "Collecting pydub\n",
            "  Downloading pydub-0.25.1-py2.py3-none-any.whl.metadata (1.4 kB)\n",
            "Collecting torch==1.13.1+cu117\n",
            "  Downloading https://download.pytorch.org/whl/cu117/torch-1.13.1%2Bcu117-cp310-cp310-linux_x86_64.whl (1801.8 MB)\n",
            "\u001b[2K     \u001b[90m━━━━━━━━━━━━━━━━━━━━━━━━━━━━━━━━━━━━━━━━\u001b[0m \u001b[32m1.8/1.8 GB\u001b[0m \u001b[31m1.1 MB/s\u001b[0m eta \u001b[36m0:00:00\u001b[0m\n",
            "\u001b[?25hCollecting torchvision==0.14.1+cu117\n",
            "  Downloading https://download.pytorch.org/whl/cu117/torchvision-0.14.1%2Bcu117-cp310-cp310-linux_x86_64.whl (24.3 MB)\n",
            "\u001b[2K     \u001b[90m━━━━━━━━━━━━━━━━━━━━━━━━━━━━━━━━━━━━━━━━\u001b[0m \u001b[32m24.3/24.3 MB\u001b[0m \u001b[31m64.0 MB/s\u001b[0m eta \u001b[36m0:00:00\u001b[0m\n",
            "\u001b[?25hCollecting torchaudio==0.13.1\n",
            "  Downloading https://download.pytorch.org/whl/cu117/torchaudio-0.13.1%2Bcu117-cp310-cp310-linux_x86_64.whl (4.2 MB)\n",
            "\u001b[2K     \u001b[90m━━━━━━━━━━━━━━━━━━━━━━━━━━━━━━━━━━━━━━━━\u001b[0m \u001b[32m4.2/4.2 MB\u001b[0m \u001b[31m81.3 MB/s\u001b[0m eta \u001b[36m0:00:00\u001b[0m\n",
            "\u001b[?25hRequirement already satisfied: typing-extensions in /usr/local/lib/python3.10/dist-packages (from torch==1.13.1+cu117) (4.12.2)\n",
            "Requirement already satisfied: numpy in /usr/local/lib/python3.10/dist-packages (from torchvision==0.14.1+cu117) (1.26.4)\n",
            "Requirement already satisfied: requests in /usr/local/lib/python3.10/dist-packages (from torchvision==0.14.1+cu117) (2.32.3)\n",
            "Requirement already satisfied: pillow!=8.3.*,>=5.3.0 in /usr/local/lib/python3.10/dist-packages (from torchvision==0.14.1+cu117) (9.4.0)\n",
            "Requirement already satisfied: charset-normalizer<4,>=2 in /usr/local/lib/python3.10/dist-packages (from requests->torchvision==0.14.1+cu117) (3.3.2)\n",
            "Requirement already satisfied: idna<4,>=2.5 in /usr/local/lib/python3.10/dist-packages (from requests->torchvision==0.14.1+cu117) (3.8)\n",
            "Requirement already satisfied: urllib3<3,>=1.21.1 in /usr/local/lib/python3.10/dist-packages (from requests->torchvision==0.14.1+cu117) (2.0.7)\n",
            "Requirement already satisfied: certifi>=2017.4.17 in /usr/local/lib/python3.10/dist-packages (from requests->torchvision==0.14.1+cu117) (2024.8.30)\n",
            "Downloading pydub-0.25.1-py2.py3-none-any.whl (32 kB)\n",
            "Installing collected packages: pydub, torch, torchvision, torchaudio\n",
            "  Attempting uninstall: torch\n",
            "    Found existing installation: torch 2.4.0+cu121\n",
            "    Uninstalling torch-2.4.0+cu121:\n",
            "      Successfully uninstalled torch-2.4.0+cu121\n",
            "  Attempting uninstall: torchvision\n",
            "    Found existing installation: torchvision 0.19.0+cu121\n",
            "    Uninstalling torchvision-0.19.0+cu121:\n",
            "      Successfully uninstalled torchvision-0.19.0+cu121\n",
            "  Attempting uninstall: torchaudio\n",
            "    Found existing installation: torchaudio 2.4.0+cu121\n",
            "    Uninstalling torchaudio-2.4.0+cu121:\n",
            "      Successfully uninstalled torchaudio-2.4.0+cu121\n",
            "Successfully installed pydub-0.25.1 torch-1.13.1+cu117 torchaudio-0.13.1+cu117 torchvision-0.14.1+cu117\n"
          ]
        }
      ],
      "source": [
        "# Uncomment the line corresponding to your \"runtime type\" to run in Google Colab\n",
        "\n",
        "# CPU:\n",
        "# !pip install pydub torch==1.7.0+cpu torchvision==0.8.1+cpu torchaudio==0.7.0 -f https://download.pytorch.org/whl/torch_stable.html\n",
        "\n",
        "# GPU:\n",
        "# !pip install pydub torch==1.7.0+cu101 torchvision==0.8.1+cu101 torchaudio==0.7.0 -f https://download.pytorch.org/whl/torch_stable.html\n",
        "!pip install pydub torch==1.13.1+cu117 torchvision==0.14.1+cu117 torchaudio==0.13.1 --extra-index-url https://download.pytorch.org/whl/cu117\n",
        "\n",
        "\n",
        "import torch\n",
        "import torch.nn as nn\n",
        "import torch.nn.functional as F\n",
        "import torch.optim as optim\n",
        "import torchaudio\n",
        "import sys\n",
        "\n",
        "import matplotlib.pyplot as plt\n",
        "import IPython.display as ipd\n",
        "\n",
        "from tqdm import tqdm"
      ]
    },
    {
      "cell_type": "markdown",
      "metadata": {
        "id": "AofgKn-Q66GR"
      },
      "source": [
        "Let’s check if a CUDA GPU is available and select our device. Running\n",
        "the network on a GPU will greatly decrease the training/testing runtime.\n",
        "\n",
        "\n"
      ]
    },
    {
      "cell_type": "code",
      "execution_count": null,
      "metadata": {
        "colab": {
          "base_uri": "https://localhost:8080/"
        },
        "id": "Eg4O5Udj66GS",
        "outputId": "b24f3a64-9aed-4627-833e-5eb7c33db42e"
      },
      "outputs": [
        {
          "output_type": "stream",
          "name": "stdout",
          "text": [
            "cuda\n"
          ]
        }
      ],
      "source": [
        "device = torch.device(\"cuda\" if torch.cuda.is_available() else \"cpu\")\n",
        "print(device)"
      ]
    },
    {
      "cell_type": "markdown",
      "metadata": {
        "id": "b8Tsu4iS66GV"
      },
      "source": [
        "## Importing the Dataset\n",
        "\n",
        "We use torchaudio to download and represent the dataset. Here we use\n",
        "[SpeechCommands](https://arxiv.org/abs/1804.03209)_, which is a\n",
        "datasets of 35 commands spoken by different people. The dataset\n",
        "``SPEECHCOMMANDS`` is a ``torch.utils.data.Dataset`` version of the\n",
        "dataset. In this dataset, all audio files are about 1 second long (and\n",
        "so about 16000 time frames long).\n",
        "\n",
        "The actual loading and formatting steps happen when a data point is\n",
        "being accessed, and torchaudio takes care of converting the audio files\n",
        "to tensors. If one wants to load an audio file directly instead,\n",
        "``torchaudio.load()`` can be used. It returns a tuple containing the\n",
        "newly created tensor along with the sampling frequency of the audio file\n",
        "(16kHz for SpeechCommands).\n",
        "\n",
        "Going back to the dataset, here we create a subclass that splits it into\n",
        "standard training, validation, testing subsets.\n",
        "\n",
        "\n"
      ]
    },
    {
      "cell_type": "code",
      "execution_count": null,
      "metadata": {
        "colab": {
          "base_uri": "https://localhost:8080/",
          "height": 49,
          "referenced_widgets": [
            "e94056cef8fb4927a77912271104d2b9",
            "fce6ebb655574ff9bba8b79f3287e8d0",
            "c4b49cedfc09477e9da086695cf2cf71",
            "cdaf8d7601c347daa6d2728686f13df5",
            "f849f314cbea4a819295b3d717643211",
            "696e0836ddd9426084a97a608e630426",
            "fdeda8e0737e45039d7022b2aec31ba4",
            "0c5b7414434849a0b909414a52d47967",
            "7c894401bb53410bbc4492abfeee3a46",
            "a98cd080db8b465e88304b9498393727",
            "a0f39cce7e46435eb3632bf1c74eff02"
          ]
        },
        "id": "VqNwP2K566GX",
        "outputId": "f1b982e7-1143-426b-eae7-968de0cf4ce3"
      },
      "outputs": [
        {
          "output_type": "display_data",
          "data": {
            "text/plain": [
              "  0%|          | 0.00/2.26G [00:00<?, ?B/s]"
            ],
            "application/vnd.jupyter.widget-view+json": {
              "version_major": 2,
              "version_minor": 0,
              "model_id": "e94056cef8fb4927a77912271104d2b9"
            }
          },
          "metadata": {}
        }
      ],
      "source": [
        "from torchaudio.datasets import SPEECHCOMMANDS\n",
        "import os\n",
        "\n",
        "\n",
        "class SubsetSC(SPEECHCOMMANDS):\n",
        "    def __init__(self, subset: str = None):\n",
        "        super().__init__(\"./\", download=True)\n",
        "\n",
        "        def load_list(filename):\n",
        "            filepath = os.path.join(self._path, filename)\n",
        "            with open(filepath) as fileobj:\n",
        "                return [os.path.normpath(os.path.join(self._path, line.strip())) for line in fileobj]\n",
        "\n",
        "        if subset == \"validation\":\n",
        "            self._walker = load_list(\"validation_list.txt\")\n",
        "        elif subset == \"testing\":\n",
        "            self._walker = load_list(\"testing_list.txt\")\n",
        "        elif subset == \"training\":\n",
        "            excludes = load_list(\"validation_list.txt\") + load_list(\"testing_list.txt\")\n",
        "            excludes = set(excludes)\n",
        "            self._walker = [w for w in self._walker if w not in excludes]\n",
        "\n",
        "\n",
        "# Create training and testing split of the data. We do not use validation in this tutorial.\n",
        "train_set = SubsetSC(\"training\")\n",
        "test_set = SubsetSC(\"testing\")\n",
        "\n",
        "waveform, sample_rate, label, speaker_id, utterance_number = train_set[0]"
      ]
    },
    {
      "cell_type": "markdown",
      "metadata": {
        "id": "seZafXCg66GZ"
      },
      "source": [
        "A data point in the SPEECHCOMMANDS dataset is a tuple made of a waveform\n",
        "(the audio signal), the sample rate, the utterance (label), the ID of\n",
        "the speaker, the number of the utterance.\n",
        "\n",
        "\n"
      ]
    },
    {
      "cell_type": "code",
      "execution_count": null,
      "metadata": {
        "colab": {
          "base_uri": "https://localhost:8080/",
          "height": 465
        },
        "id": "FbRlEkBA66GZ",
        "outputId": "2743a1a0-7007-4675-b040-9b1f50009ee3"
      },
      "outputs": [
        {
          "output_type": "stream",
          "name": "stdout",
          "text": [
            "Shape of waveform: torch.Size([1, 16000])\n",
            "Sample rate of waveform: 16000\n"
          ]
        },
        {
          "output_type": "display_data",
          "data": {
            "text/plain": [
              "<Figure size 640x480 with 1 Axes>"
            ],
            "image/png": "[encoded data removed]"
          },
          "metadata": {}
        }
      ],
      "source": [
        "print(\"Shape of waveform: {}\".format(waveform.size()))\n",
        "print(\"Sample rate of waveform: {}\".format(sample_rate))\n",
        "\n",
        "plt.plot(waveform.t().numpy());"
      ]
    },
    {
      "cell_type": "markdown",
      "metadata": {
        "id": "J2j7aTNB66Gd"
      },
      "source": [
        "Let’s find the list of labels available in the dataset.\n",
        "\n",
        "\n"
      ]
    },
    {
      "cell_type": "code",
      "execution_count": null,
      "metadata": {
        "colab": {
          "base_uri": "https://localhost:8080/"
        },
        "id": "fi0D4Isx66Ge",
        "outputId": "a3c9547a-07ea-4bd4-d897-ef06a01e1e04"
      },
      "outputs": [
        {
          "output_type": "execute_result",
          "data": {
            "text/plain": [
              "['backward',\n",
              " 'bed',\n",
              " 'bird',\n",
              " 'cat',\n",
              " 'dog',\n",
              " 'down',\n",
              " 'eight',\n",
              " 'five',\n",
              " 'follow',\n",
              " 'forward',\n",
              " 'four',\n",
              " 'go',\n",
              " 'happy',\n",
              " 'house',\n",
              " 'learn',\n",
              " 'left',\n",
              " 'marvin',\n",
              " 'nine',\n",
              " 'no',\n",
              " 'off',\n",
              " 'on',\n",
              " 'one',\n",
              " 'right',\n",
              " 'seven',\n",
              " 'sheila',\n",
              " 'six',\n",
              " 'stop',\n",
              " 'three',\n",
              " 'tree',\n",
              " 'two',\n",
              " 'up',\n",
              " 'visual',\n",
              " 'wow',\n",
              " 'yes',\n",
              " 'zero']"
            ]
          },
          "metadata": {},
          "execution_count": 6
        }
      ],
      "source": [
        "labels = sorted(list(set(datapoint[2] for datapoint in train_set)))\n",
        "labels"
      ]
    },
    {
      "cell_type": "markdown",
      "metadata": {
        "id": "wf_eIeI566Gf"
      },
      "source": [
        "The 35 audio labels are commands that are said by users. The first few\n",
        "files are people saying “marvin”.\n",
        "\n",
        "\n"
      ]
    },
    {
      "cell_type": "code",
      "execution_count": null,
      "metadata": {
        "colab": {
          "base_uri": "https://localhost:8080/",
          "height": 61
        },
        "id": "Z1l-BSIU66Gf",
        "outputId": "576205f0-a9b6-47e0-b4ca-dc704e18d118"
      },
      "outputs": [
        {
          "output_type": "execute_result",
          "data": {
            "text/plain": [
              "<IPython.lib.display.Audio object>"
            ],
            "text/html": [
              "\n",
              "                <audio  controls=\"controls\" >\n",
              "                    <source src=\"data:audio/wav;base64,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\" type=\"audio/wav\" />\n",
              "                    Your browser does not support the audio element.\n",
              "                </audio>\n",
              "              "
            ]
          },
          "metadata": {},
          "execution_count": 7
        }
      ],
      "source": [
        "waveform_first, *_ = train_set[0]\n",
        "ipd.Audio(waveform_first.numpy(), rate=sample_rate)\n",
        "\n",
        "waveform_second, *_ = train_set[1]\n",
        "ipd.Audio(waveform_second.numpy(), rate=sample_rate)"
      ]
    },
    {
      "cell_type": "markdown",
      "metadata": {
        "id": "mr13m23E66Gg"
      },
      "source": [
        "The last file is someone saying “visual”.\n",
        "\n",
        "\n"
      ]
    },
    {
      "cell_type": "code",
      "execution_count": null,
      "metadata": {
        "colab": {
          "base_uri": "https://localhost:8080/",
          "height": 61
        },
        "id": "lixoknBF66Gg",
        "outputId": "67dcabf3-a9bf-4587-f2b6-0a4cc86e743f"
      },
      "outputs": [
        {
          "output_type": "execute_result",
          "data": {
            "text/plain": [
              "<IPython.lib.display.Audio object>"
            ],
            "text/html": [
              "\n",
              "                <audio  controls=\"controls\" >\n",
              "                    <source src=\"data:audio/wav;base64,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\" type=\"audio/wav\" />\n",
              "                    Your browser does not support the audio element.\n",
              "                </audio>\n",
              "              "
            ]
          },
          "metadata": {},
          "execution_count": 8
        }
      ],
      "source": [
        "waveform_last, *_ = train_set[-1]\n",
        "ipd.Audio(waveform_last.numpy(), rate=sample_rate)"
      ]
    },
    {
      "cell_type": "markdown",
      "metadata": {
        "id": "NgGrGuZa66Gh"
      },
      "source": [
        "## Formatting the Data\n",
        "\n",
        "This is a good place to apply transformations to the data. For the\n",
        "waveform, we downsample the audio for faster processing without losing\n",
        "too much of the classification power.\n",
        "\n",
        "We don’t need to apply other transformations here. It is common for some\n",
        "datasets though to have to reduce the number of channels (say from\n",
        "stereo to mono) by either taking the mean along the channel dimension,\n",
        "or simply keeping only one of the channels. Since SpeechCommands uses a\n",
        "single channel for audio, this is not needed here.\n",
        "\n",
        "\n"
      ]
    },
    {
      "cell_type": "code",
      "execution_count": null,
      "metadata": {
        "colab": {
          "base_uri": "https://localhost:8080/",
          "height": 61
        },
        "id": "hC74Yke766Gh",
        "outputId": "e0cd4e3f-4f1b-4e15-f85c-1c0c4d76726f"
      },
      "outputs": [
        {
          "output_type": "execute_result",
          "data": {
            "text/plain": [
              "<IPython.lib.display.Audio object>"
            ],
            "text/html": [
              "\n",
              "                <audio  controls=\"controls\" >\n",
              "                    <source src=\"data:audio/wav;base64,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\" type=\"audio/wav\" />\n",
              "                    Your browser does not support the audio element.\n",
              "                </audio>\n",
              "              "
            ]
          },
          "metadata": {},
          "execution_count": 9
        }
      ],
      "source": [
        "new_sample_rate = 8000\n",
        "transform = torchaudio.transforms.Resample(orig_freq=sample_rate, new_freq=new_sample_rate)\n",
        "transformed = transform(waveform)\n",
        "\n",
        "ipd.Audio(transformed.numpy(), rate=new_sample_rate)"
      ]
    },
    {
      "cell_type": "markdown",
      "metadata": {
        "id": "1F-YoC1H66Gi"
      },
      "source": [
        "We are encoding each word using its index in the list of labels.\n",
        "\n",
        "\n"
      ]
    },
    {
      "cell_type": "code",
      "execution_count": null,
      "metadata": {
        "colab": {
          "base_uri": "https://localhost:8080/"
        },
        "id": "qguOKUQc66Gi",
        "outputId": "d7f40ee8-19b9-415e-9793-0fc316244ace"
      },
      "outputs": [
        {
          "output_type": "stream",
          "name": "stdout",
          "text": [
            "yes --> tensor(33) --> yes\n"
          ]
        }
      ],
      "source": [
        "def label_to_index(word):\n",
        "    # Return the position of the word in labels\n",
        "    return torch.tensor(labels.index(word))\n",
        "\n",
        "\n",
        "def index_to_label(index):\n",
        "    # Return the word corresponding to the index in labels\n",
        "    # This is the inverse of label_to_index\n",
        "    return labels[index]\n",
        "\n",
        "\n",
        "word_start = \"yes\"\n",
        "index = label_to_index(word_start)\n",
        "word_recovered = index_to_label(index)\n",
        "\n",
        "print(word_start, \"-->\", index, \"-->\", word_recovered)"
      ]
    },
    {
      "cell_type": "markdown",
      "metadata": {
        "id": "bphL6NTg66Gj"
      },
      "source": [
        "To turn a list of data point made of audio recordings and utterances\n",
        "into two batched tensors for the model, we implement a collate function\n",
        "which is used by the PyTorch DataLoader that allows us to iterate over a\n",
        "dataset by batches. Please see [the\n",
        "documentation](https://pytorch.org/docs/stable/data.html#working-with-collate-fn)_\n",
        "for more information about working with a collate function.\n",
        "\n",
        "In the collate function, we also apply the resampling, and the text\n",
        "encoding.\n",
        "\n",
        "\n"
      ]
    },
    {
      "cell_type": "code",
      "execution_count": null,
      "metadata": {
        "id": "c9rK5tGJ66Gk"
      },
      "outputs": [],
      "source": [
        "def pad_sequence(batch):\n",
        "    # Make all tensor in a batch the same length by padding with zeros\n",
        "    batch = [item.t() for item in batch]\n",
        "    batch = torch.nn.utils.rnn.pad_sequence(batch, batch_first=True, padding_value=0.)\n",
        "    return batch.permute(0, 2, 1)\n",
        "\n",
        "\n",
        "def collate_fn(batch):\n",
        "\n",
        "    # A data tuple has the form:\n",
        "    # waveform, sample_rate, label, speaker_id, utterance_number\n",
        "\n",
        "    tensors, targets = [], []\n",
        "\n",
        "    # Gather in lists, and encode labels as indices\n",
        "    for waveform, _, label, *_ in batch:\n",
        "        tensors += [waveform]\n",
        "        targets += [label_to_index(label)]\n",
        "\n",
        "    # Group the list of tensors into a batched tensor\n",
        "    tensors = pad_sequence(tensors)\n",
        "    targets = torch.stack(targets)\n",
        "\n",
        "    return tensors, targets\n",
        "\n",
        "\n",
        "batch_size = 256\n",
        "\n",
        "if device == \"cuda\":\n",
        "    num_workers = 16\n",
        "    pin_memory = True\n",
        "else:\n",
        "    num_workers = 0\n",
        "    pin_memory = False\n",
        "\n",
        "train_loader = torch.utils.data.DataLoader(\n",
        "    train_set,\n",
        "    batch_size=batch_size,\n",
        "    shuffle=True,\n",
        "    collate_fn=collate_fn,\n",
        "    num_workers=num_workers,\n",
        "    pin_memory=pin_memory,\n",
        ")\n",
        "test_loader = torch.utils.data.DataLoader(\n",
        "    test_set,\n",
        "    batch_size=batch_size,\n",
        "    shuffle=False,\n",
        "    drop_last=False,\n",
        "    collate_fn=collate_fn,\n",
        "    num_workers=num_workers,\n",
        "    pin_memory=pin_memory,\n",
        ")"
      ]
    },
    {
      "cell_type": "markdown",
      "metadata": {
        "id": "eMnqFwEB66Gk"
      },
      "source": [
        "## Define the Network\n",
        "\n",
        "For this tutorial we will use a convolutional neural network to process\n",
        "the raw audio data. Usually more advanced transforms are applied to the\n",
        "audio data, however CNNs can be used to accurately process the raw data.\n",
        "The specific architecture is modeled after the M5 network architecture\n",
        "described in [this paper](https://arxiv.org/pdf/1610.00087.pdf)_. An\n",
        "important aspect of models processing raw audio data is the receptive\n",
        "field of their first layer’s filters. Our model’s first filter is length\n",
        "80 so when processing audio sampled at 8kHz the receptive field is\n",
        "around 10ms (and at 4kHz, around 20 ms). This size is similar to speech\n",
        "processing applications that often use receptive fields ranging from\n",
        "20ms to 40ms.\n",
        "\n",
        "\n"
      ]
    },
    {
      "cell_type": "code",
      "execution_count": null,
      "metadata": {
        "colab": {
          "base_uri": "https://localhost:8080/"
        },
        "id": "jYf0gdO366Gl",
        "outputId": "b6e91aef-3f9e-4671-ae31-be022c91348b"
      },
      "outputs": [
        {
          "output_type": "stream",
          "name": "stdout",
          "text": [
            "M5(\n",
            "  (conv1): Conv1d(1, 32, kernel_size=(80,), stride=(16,))\n",
            "  (bn1): BatchNorm1d(32, eps=1e-05, momentum=0.1, affine=True, track_running_stats=True)\n",
            "  (pool1): MaxPool1d(kernel_size=4, stride=4, padding=0, dilation=1, ceil_mode=False)\n",
            "  (conv2): Conv1d(32, 32, kernel_size=(3,), stride=(1,))\n",
            "  (bn2): BatchNorm1d(32, eps=1e-05, momentum=0.1, affine=True, track_running_stats=True)\n",
            "  (pool2): MaxPool1d(kernel_size=4, stride=4, padding=0, dilation=1, ceil_mode=False)\n",
            "  (conv3): Conv1d(32, 64, kernel_size=(3,), stride=(1,))\n",
            "  (bn3): BatchNorm1d(64, eps=1e-05, momentum=0.1, affine=True, track_running_stats=True)\n",
            "  (pool3): MaxPool1d(kernel_size=4, stride=4, padding=0, dilation=1, ceil_mode=False)\n",
            "  (conv4): Conv1d(64, 64, kernel_size=(3,), stride=(1,))\n",
            "  (bn4): BatchNorm1d(64, eps=1e-05, momentum=0.1, affine=True, track_running_stats=True)\n",
            "  (pool4): MaxPool1d(kernel_size=4, stride=4, padding=0, dilation=1, ceil_mode=False)\n",
            "  (fc1): Linear(in_features=64, out_features=35, bias=True)\n",
            ")\n",
            "Number of parameters: 26915\n"
          ]
        }
      ],
      "source": [
        "class M5(nn.Module):\n",
        "    def __init__(self, n_input=1, n_output=35, stride=16, n_channel=32):\n",
        "        super().__init__()\n",
        "        self.conv1 = nn.Conv1d(n_input, n_channel, kernel_size=80, stride=stride)\n",
        "        self.bn1 = nn.BatchNorm1d(n_channel)\n",
        "        self.pool1 = nn.MaxPool1d(4)\n",
        "        self.conv2 = nn.Conv1d(n_channel, n_channel, kernel_size=3)\n",
        "        self.bn2 = nn.BatchNorm1d(n_channel)\n",
        "        self.pool2 = nn.MaxPool1d(4)\n",
        "        self.conv3 = nn.Conv1d(n_channel, 2 * n_channel, kernel_size=3)\n",
        "        self.bn3 = nn.BatchNorm1d(2 * n_channel)\n",
        "        self.pool3 = nn.MaxPool1d(4)\n",
        "        self.conv4 = nn.Conv1d(2 * n_channel, 2 * n_channel, kernel_size=3)\n",
        "        self.bn4 = nn.BatchNorm1d(2 * n_channel)\n",
        "        self.pool4 = nn.MaxPool1d(4)\n",
        "        self.fc1 = nn.Linear(2 * n_channel, n_output)\n",
        "\n",
        "    def forward(self, x):\n",
        "        x = self.conv1(x)\n",
        "        x = F.relu(self.bn1(x))\n",
        "        x = self.pool1(x)\n",
        "        x = self.conv2(x)\n",
        "        x = F.relu(self.bn2(x))\n",
        "        x = self.pool2(x)\n",
        "        x = self.conv3(x)\n",
        "        x = F.relu(self.bn3(x))\n",
        "        x = self.pool3(x)\n",
        "        x = self.conv4(x)\n",
        "        x = F.relu(self.bn4(x))\n",
        "        x = self.pool4(x)\n",
        "        x = F.avg_pool1d(x, x.shape[-1])\n",
        "        x = x.permute(0, 2, 1)\n",
        "        x = self.fc1(x)\n",
        "        return F.log_softmax(x, dim=2)\n",
        "\n",
        "\n",
        "model = M5(n_input=transformed.shape[0], n_output=len(labels))\n",
        "model.to(device)\n",
        "print(model)\n",
        "\n",
        "\n",
        "def count_parameters(model):\n",
        "    return sum(p.numel() for p in model.parameters() if p.requires_grad)\n",
        "\n",
        "\n",
        "n = count_parameters(model)\n",
        "print(\"Number of parameters: %s\" % n)"
      ]
    },
    {
      "cell_type": "markdown",
      "metadata": {
        "id": "K7r2p-wr66Gm"
      },
      "source": [
        "We will use the same optimization technique used in the paper, an Adam\n",
        "optimizer with weight decay set to 0.0001. At first, we will train with\n",
        "a learning rate of 0.01, but we will use a ``scheduler`` to decrease it\n",
        "to 0.001 during training after 20 epochs.\n",
        "\n",
        "\n"
      ]
    },
    {
      "cell_type": "code",
      "execution_count": null,
      "metadata": {
        "id": "X5WUoesx66Gm"
      },
      "outputs": [],
      "source": [
        "optimizer = optim.Adam(model.parameters(), lr=0.01, weight_decay=0.0001)\n",
        "scheduler = optim.lr_scheduler.StepLR(optimizer, step_size=20, gamma=0.1)  # reduce the learning after 20 epochs by a factor of 10"
      ]
    },
    {
      "cell_type": "markdown",
      "metadata": {
        "id": "ykSibLfy66Gn"
      },
      "source": [
        "## Training and Testing the Network\n",
        "\n",
        "Now let’s define a training function that will feed our training data\n",
        "into the model and perform the backward pass and optimization steps. For\n",
        "training, the loss we will use is the negative log-likelihood. The\n",
        "network will then be tested after each epoch to see how the accuracy\n",
        "varies during the training.\n",
        "\n",
        "\n"
      ]
    },
    {
      "cell_type": "code",
      "execution_count": null,
      "metadata": {
        "id": "L-kWyMgB66Gn"
      },
      "outputs": [],
      "source": [
        "def train(model, epoch, log_interval):\n",
        "    model.train()\n",
        "    for batch_idx, (data, target) in enumerate(train_loader):\n",
        "\n",
        "        data = data.to(device)\n",
        "        target = target.to(device)\n",
        "\n",
        "        # apply transform and model on whole batch directly on device\n",
        "        data = transform(data.contiguous()) # Ensure data is contiguous before applying transform\n",
        "\n",
        "        data = data.mean(dim=1, keepdim=True)\n",
        "\n",
        "        output = model(data)\n",
        "\n",
        "        # negative log-likelihood for a tensor of size (batch x 1 x n_output)\n",
        "        loss = F.nll_loss(output.squeeze(), target)\n",
        "\n",
        "        optimizer.zero_grad()\n",
        "        loss.backward()\n",
        "        optimizer.step()\n",
        "\n",
        "        # print training stats\n",
        "        if batch_idx % log_interval == 0:\n",
        "            print(f\"Train Epoch: {epoch} [{batch_idx * len(data)}/{len(train_loader.dataset)} ({100. * batch_idx / len(train_loader):.0f}%)]\\tLoss: {loss.item():.6f}\")\n",
        "\n",
        "        # update progress bar\n",
        "        pbar.update(pbar_update)\n",
        "        # record loss\n",
        "        losses.append(loss.item())"
      ]
    },
    {
      "cell_type": "markdown",
      "metadata": {
        "id": "4mhcfEqD66Go"
      },
      "source": [
        "Now that we have a training function, we need to make one for testing\n",
        "the networks accuracy. We will set the model to ``eval()`` mode and then\n",
        "run inference on the test dataset. Calling ``eval()`` sets the training\n",
        "variable in all modules in the network to false. Certain layers like\n",
        "batch normalization and dropout layers behave differently during\n",
        "training so this step is crucial for getting correct results.\n",
        "\n",
        "\n"
      ]
    },
    {
      "cell_type": "code",
      "execution_count": null,
      "metadata": {
        "id": "zwmzf7kG66Go"
      },
      "outputs": [],
      "source": [
        "def number_of_correct(pred, target):\n",
        "    # count number of correct predictions\n",
        "    return pred.squeeze().eq(target).sum().item()\n",
        "\n",
        "\n",
        "def get_likely_index(tensor):\n",
        "    # find most likely label index for each element in the batch\n",
        "    return tensor.argmax(dim=-1)\n",
        "\n",
        "\n",
        "def test(model, epoch):\n",
        "    model.eval()\n",
        "    correct = 0\n",
        "    for data, target in test_loader:\n",
        "\n",
        "        data = data.to(device)\n",
        "        target = target.to(device)\n",
        "\n",
        "        # apply transform and model on whole batch directly on device\n",
        "        data = transform(data.contiguous())\n",
        "\n",
        "        data = data.mean(dim=1, keepdim=True)\n",
        "        output = model(data)\n",
        "\n",
        "        pred = get_likely_index(output)\n",
        "        correct += number_of_correct(pred, target)\n",
        "\n",
        "        # update progress bar\n",
        "        pbar.update(pbar_update)\n",
        "\n",
        "    print(f\"\\nTest Epoch: {epoch}\\tAccuracy: {correct}/{len(test_loader.dataset)} ({100. * correct / len(test_loader.dataset):.0f}%)\\n\")"
      ]
    },
    {
      "cell_type": "markdown",
      "metadata": {
        "id": "HW5Ie3Th66Gp"
      },
      "source": [
        "Finally, we can train and test the network. We will train the network\n",
        "for ten epochs then reduce the learn rate and train for ten more epochs.\n",
        "The network will be tested after each epoch to see how the accuracy\n",
        "varies during the training.\n",
        "\n",
        "\n"
      ]
    },
    {
      "cell_type": "code",
      "execution_count": null,
      "metadata": {
        "colab": {
          "base_uri": "https://localhost:8080/"
        },
        "id": "WleyhPLJ66Gq",
        "outputId": "bebbda53-02bc-4162-befe-cd93b528cd1b"
      },
      "outputs": [
        {
          "output_type": "stream",
          "name": "stderr",
          "text": [
            "  0%|          | 0.0026666666666666666/8 [00:07<6:05:34, 2742.77s/it]"
          ]
        },
        {
          "output_type": "stream",
          "name": "stdout",
          "text": [
            "Train Epoch: 1 [0/84843 (0%)]\tLoss: 3.782197\n"
          ]
        },
        {
          "output_type": "stream",
          "name": "stderr",
          "text": [
            "  1%|          | 0.05866666666666665/8 [00:11<10:11, 76.95s/it]"
          ]
        },
        {
          "output_type": "stream",
          "name": "stdout",
          "text": [
            "Train Epoch: 1 [5120/84843 (6%)]\tLoss: 3.017475\n"
          ]
        },
        {
          "output_type": "stream",
          "name": "stderr",
          "text": [
            "  1%|▏         | 0.10933333333333328/8 [00:15<09:32, 72.53s/it]"
          ]
        },
        {
          "output_type": "stream",
          "name": "stdout",
          "text": [
            "Train Epoch: 1 [10240/84843 (12%)]\tLoss: 2.536010\n"
          ]
        },
        {
          "output_type": "stream",
          "name": "stderr",
          "text": [
            "  2%|▏         | 0.16266666666666676/8 [00:19<09:34, 73.29s/it]"
          ]
        },
        {
          "output_type": "stream",
          "name": "stdout",
          "text": [
            "Train Epoch: 1 [15360/84843 (18%)]\tLoss: 2.286800\n"
          ]
        },
        {
          "output_type": "stream",
          "name": "stderr",
          "text": [
            "  3%|▎         | 0.21600000000000033/8 [00:23<10:08, 78.12s/it]"
          ]
        },
        {
          "output_type": "stream",
          "name": "stdout",
          "text": [
            "Train Epoch: 1 [20480/84843 (24%)]\tLoss: 2.173287\n"
          ]
        },
        {
          "output_type": "stream",
          "name": "stderr",
          "text": [
            "  3%|▎         | 0.2693333333333337/8 [00:28<10:23, 80.67s/it] "
          ]
        },
        {
          "output_type": "stream",
          "name": "stdout",
          "text": [
            "Train Epoch: 1 [25600/84843 (30%)]\tLoss: 1.868586\n"
          ]
        },
        {
          "output_type": "stream",
          "name": "stderr",
          "text": [
            "  4%|▍         | 0.32533333333333336/8 [00:32<09:39, 75.56s/it]"
          ]
        },
        {
          "output_type": "stream",
          "name": "stdout",
          "text": [
            "Train Epoch: 1 [30720/84843 (36%)]\tLoss: 1.758817\n"
          ]
        },
        {
          "output_type": "stream",
          "name": "stderr",
          "text": [
            "  5%|▍         | 0.3786666666666664/8 [00:36<09:10, 72.29s/it]"
          ]
        },
        {
          "output_type": "stream",
          "name": "stdout",
          "text": [
            "Train Epoch: 1 [35840/84843 (42%)]\tLoss: 1.749150\n"
          ]
        },
        {
          "output_type": "stream",
          "name": "stderr",
          "text": [
            "  5%|▌         | 0.42933333333333273/8 [00:40<09:30, 75.35s/it]"
          ]
        },
        {
          "output_type": "stream",
          "name": "stdout",
          "text": [
            "Train Epoch: 1 [40960/84843 (48%)]\tLoss: 1.590029\n"
          ]
        },
        {
          "output_type": "stream",
          "name": "stderr",
          "text": [
            "  6%|▌         | 0.4853333333333324/8 [00:44<09:05, 72.53s/it] "
          ]
        },
        {
          "output_type": "stream",
          "name": "stdout",
          "text": [
            "Train Epoch: 1 [46080/84843 (54%)]\tLoss: 1.548656\n"
          ]
        },
        {
          "output_type": "stream",
          "name": "stderr",
          "text": [
            "  7%|▋         | 0.5386666666666662/8 [00:48<08:45, 70.46s/it]"
          ]
        },
        {
          "output_type": "stream",
          "name": "stdout",
          "text": [
            "Train Epoch: 1 [51200/84843 (60%)]\tLoss: 1.342996\n"
          ]
        },
        {
          "output_type": "stream",
          "name": "stderr",
          "text": [
            "  7%|▋         | 0.5893333333333336/8 [00:52<09:41, 78.50s/it]"
          ]
        },
        {
          "output_type": "stream",
          "name": "stdout",
          "text": [
            "Train Epoch: 1 [56320/84843 (66%)]\tLoss: 1.497951\n"
          ]
        },
        {
          "output_type": "stream",
          "name": "stderr",
          "text": [
            "  8%|▊         | 0.6426666666666677/8 [00:56<13:38, 111.27s/it]"
          ]
        },
        {
          "output_type": "stream",
          "name": "stdout",
          "text": [
            "Train Epoch: 1 [61440/84843 (72%)]\tLoss: 1.446984\n"
          ]
        },
        {
          "output_type": "stream",
          "name": "stderr",
          "text": [
            "  9%|▊         | 0.6960000000000018/8 [01:01<09:16, 76.16s/it]"
          ]
        },
        {
          "output_type": "stream",
          "name": "stdout",
          "text": [
            "Train Epoch: 1 [66560/84843 (78%)]\tLoss: 1.243515\n"
          ]
        },
        {
          "output_type": "stream",
          "name": "stderr",
          "text": [
            "  9%|▉         | 0.749333333333336/8 [01:05<10:10, 84.25s/it] "
          ]
        },
        {
          "output_type": "stream",
          "name": "stdout",
          "text": [
            "Train Epoch: 1 [71680/84843 (84%)]\tLoss: 1.190354\n"
          ]
        },
        {
          "output_type": "stream",
          "name": "stderr",
          "text": [
            " 10%|█         | 0.8026666666666701/8 [01:09<09:14, 76.97s/it]"
          ]
        },
        {
          "output_type": "stream",
          "name": "stdout",
          "text": [
            "Train Epoch: 1 [76800/84843 (90%)]\tLoss: 1.219558\n"
          ]
        },
        {
          "output_type": "stream",
          "name": "stderr",
          "text": [
            " 11%|█         | 0.8560000000000042/8 [01:14<09:28, 79.54s/it]"
          ]
        },
        {
          "output_type": "stream",
          "name": "stdout",
          "text": [
            "Train Epoch: 1 [81920/84843 (96%)]\tLoss: 1.065375\n"
          ]
        },
        {
          "output_type": "stream",
          "name": "stderr",
          "text": [
            " 13%|█▎        | 1.0053333333333394/8 [01:27<13:08, 112.66s/it]"
          ]
        },
        {
          "output_type": "stream",
          "name": "stdout",
          "text": [
            "\n",
            "Test Epoch: 1\tAccuracy: 6994/11005 (64%)\n",
            "\n",
            "Train Epoch: 2 [0/84843 (0%)]\tLoss: 1.034406\n"
          ]
        },
        {
          "output_type": "stream",
          "name": "stderr",
          "text": [
            " 13%|█▎        | 1.0586666666666713/8 [01:29<04:30, 38.96s/it]"
          ]
        },
        {
          "output_type": "stream",
          "name": "stdout",
          "text": [
            "Train Epoch: 2 [5120/84843 (6%)]\tLoss: 1.015881\n"
          ]
        },
        {
          "output_type": "stream",
          "name": "stderr",
          "text": [
            " 14%|█▍        | 1.1146666666666698/8 [01:31<03:22, 29.39s/it]"
          ]
        },
        {
          "output_type": "stream",
          "name": "stdout",
          "text": [
            "Train Epoch: 2 [10240/84843 (12%)]\tLoss: 1.008752\n"
          ]
        },
        {
          "output_type": "stream",
          "name": "stderr",
          "text": [
            " 15%|█▍        | 1.1680000000000017/8 [01:32<03:12, 28.15s/it]"
          ]
        },
        {
          "output_type": "stream",
          "name": "stdout",
          "text": [
            "Train Epoch: 2 [15360/84843 (18%)]\tLoss: 1.029832\n"
          ]
        },
        {
          "output_type": "stream",
          "name": "stderr",
          "text": [
            " 15%|█▌        | 1.2213333333333336/8 [01:34<03:06, 27.54s/it]"
          ]
        },
        {
          "output_type": "stream",
          "name": "stdout",
          "text": [
            "Train Epoch: 2 [20480/84843 (24%)]\tLoss: 0.838010\n"
          ]
        },
        {
          "output_type": "stream",
          "name": "stderr",
          "text": [
            " 16%|█▌        | 1.2746666666666655/8 [01:35<03:05, 27.53s/it]"
          ]
        },
        {
          "output_type": "stream",
          "name": "stdout",
          "text": [
            "Train Epoch: 2 [25600/84843 (30%)]\tLoss: 0.967088\n"
          ]
        },
        {
          "output_type": "stream",
          "name": "stderr",
          "text": [
            " 17%|█▋        | 1.3279999999999974/8 [01:37<03:09, 28.43s/it]"
          ]
        },
        {
          "output_type": "stream",
          "name": "stdout",
          "text": [
            "Train Epoch: 2 [30720/84843 (36%)]\tLoss: 0.966265\n"
          ]
        },
        {
          "output_type": "stream",
          "name": "stderr",
          "text": [
            " 17%|█▋        | 1.3813333333333293/8 [01:38<03:04, 27.80s/it]"
          ]
        },
        {
          "output_type": "stream",
          "name": "stdout",
          "text": [
            "Train Epoch: 2 [35840/84843 (42%)]\tLoss: 0.815060\n"
          ]
        },
        {
          "output_type": "stream",
          "name": "stderr",
          "text": [
            " 18%|█▊        | 1.4346666666666612/8 [01:40<03:03, 27.96s/it]"
          ]
        },
        {
          "output_type": "stream",
          "name": "stdout",
          "text": [
            "Train Epoch: 2 [40960/84843 (48%)]\tLoss: 0.953172\n"
          ]
        },
        {
          "output_type": "stream",
          "name": "stderr",
          "text": [
            " 19%|█▊        | 1.48266666666666/8 [01:41<03:51, 35.46s/it]  "
          ]
        },
        {
          "output_type": "stream",
          "name": "stdout",
          "text": [
            "Train Epoch: 2 [46080/84843 (54%)]\tLoss: 0.980906\n"
          ]
        },
        {
          "output_type": "stream",
          "name": "stderr",
          "text": [
            " 19%|█▉        | 1.541333333333325/8 [01:43<03:13, 30.00s/it] "
          ]
        },
        {
          "output_type": "stream",
          "name": "stdout",
          "text": [
            "Train Epoch: 2 [51200/84843 (60%)]\tLoss: 0.974236\n"
          ]
        },
        {
          "output_type": "stream",
          "name": "stderr",
          "text": [
            " 20%|█▉        | 1.594666666666657/8 [01:45<02:56, 27.59s/it] "
          ]
        },
        {
          "output_type": "stream",
          "name": "stdout",
          "text": [
            "Train Epoch: 2 [56320/84843 (66%)]\tLoss: 0.937820\n"
          ]
        },
        {
          "output_type": "stream",
          "name": "stderr",
          "text": [
            " 21%|██        | 1.6479999999999888/8 [01:46<02:59, 28.26s/it]"
          ]
        },
        {
          "output_type": "stream",
          "name": "stdout",
          "text": [
            "Train Epoch: 2 [61440/84843 (72%)]\tLoss: 0.884162\n"
          ]
        },
        {
          "output_type": "stream",
          "name": "stderr",
          "text": [
            " 21%|██▏       | 1.7013333333333207/8 [01:48<02:54, 27.65s/it]"
          ]
        },
        {
          "output_type": "stream",
          "name": "stdout",
          "text": [
            "Train Epoch: 2 [66560/84843 (78%)]\tLoss: 0.775445\n"
          ]
        },
        {
          "output_type": "stream",
          "name": "stderr",
          "text": [
            " 22%|██▏       | 1.7546666666666526/8 [01:49<02:51, 27.46s/it]"
          ]
        },
        {
          "output_type": "stream",
          "name": "stdout",
          "text": [
            "Train Epoch: 2 [71680/84843 (84%)]\tLoss: 0.919609\n"
          ]
        },
        {
          "output_type": "stream",
          "name": "stderr",
          "text": [
            " 23%|██▎       | 1.8079999999999845/8 [01:51<02:56, 28.53s/it]"
          ]
        },
        {
          "output_type": "stream",
          "name": "stdout",
          "text": [
            "Train Epoch: 2 [76800/84843 (90%)]\tLoss: 0.995301\n"
          ]
        },
        {
          "output_type": "stream",
          "name": "stderr",
          "text": [
            " 23%|██▎       | 1.8613333333333164/8 [01:52<02:50, 27.79s/it]"
          ]
        },
        {
          "output_type": "stream",
          "name": "stdout",
          "text": [
            "Train Epoch: 2 [81920/84843 (96%)]\tLoss: 0.825088\n"
          ]
        },
        {
          "output_type": "stream",
          "name": "stderr",
          "text": [
            " 25%|██▌       | 2.002666666666646/8 [01:57<02:55, 29.25s/it] "
          ]
        },
        {
          "output_type": "stream",
          "name": "stdout",
          "text": [
            "\n",
            "Test Epoch: 2\tAccuracy: 8014/11005 (73%)\n",
            "\n",
            "Train Epoch: 3 [0/84843 (0%)]\tLoss: 0.816354\n"
          ]
        },
        {
          "output_type": "stream",
          "name": "stderr",
          "text": [
            " 26%|██▌       | 2.061333333333316/8 [01:59<02:48, 28.34s/it] "
          ]
        },
        {
          "output_type": "stream",
          "name": "stdout",
          "text": [
            "Train Epoch: 3 [5120/84843 (6%)]\tLoss: 0.983707\n"
          ]
        },
        {
          "output_type": "stream",
          "name": "stderr",
          "text": [
            " 26%|██▋       | 2.1146666666666523/8 [02:00<02:40, 27.30s/it]"
          ]
        },
        {
          "output_type": "stream",
          "name": "stdout",
          "text": [
            "Train Epoch: 3 [10240/84843 (12%)]\tLoss: 0.894744\n"
          ]
        },
        {
          "output_type": "stream",
          "name": "stderr",
          "text": [
            " 27%|██▋       | 2.1679999999999886/8 [02:02<02:49, 29.10s/it]"
          ]
        },
        {
          "output_type": "stream",
          "name": "stdout",
          "text": [
            "Train Epoch: 3 [15360/84843 (18%)]\tLoss: 0.892004\n"
          ]
        },
        {
          "output_type": "stream",
          "name": "stderr",
          "text": [
            " 28%|██▊       | 2.221333333333325/8 [02:03<02:40, 27.76s/it] "
          ]
        },
        {
          "output_type": "stream",
          "name": "stdout",
          "text": [
            "Train Epoch: 3 [20480/84843 (24%)]\tLoss: 0.823622\n"
          ]
        },
        {
          "output_type": "stream",
          "name": "stderr",
          "text": [
            " 28%|██▊       | 2.2746666666666613/8 [02:05<02:42, 28.36s/it]"
          ]
        },
        {
          "output_type": "stream",
          "name": "stdout",
          "text": [
            "Train Epoch: 3 [25600/84843 (30%)]\tLoss: 0.939119\n"
          ]
        },
        {
          "output_type": "stream",
          "name": "stderr",
          "text": [
            " 29%|██▉       | 2.322666666666664/8 [02:06<03:25, 36.27s/it] "
          ]
        },
        {
          "output_type": "stream",
          "name": "stdout",
          "text": [
            "Train Epoch: 3 [30720/84843 (36%)]\tLoss: 0.937809\n"
          ]
        },
        {
          "output_type": "stream",
          "name": "stderr",
          "text": [
            " 30%|██▉       | 2.381333333333334/8 [02:08<02:41, 28.73s/it] "
          ]
        },
        {
          "output_type": "stream",
          "name": "stdout",
          "text": [
            "Train Epoch: 3 [35840/84843 (42%)]\tLoss: 0.861133\n"
          ]
        },
        {
          "output_type": "stream",
          "name": "stderr",
          "text": [
            " 30%|███       | 2.4346666666666703/8 [02:10<02:36, 28.05s/it]"
          ]
        },
        {
          "output_type": "stream",
          "name": "stdout",
          "text": [
            "Train Epoch: 3 [40960/84843 (48%)]\tLoss: 0.832437\n"
          ]
        },
        {
          "output_type": "stream",
          "name": "stderr",
          "text": [
            " 31%|███       | 2.4880000000000067/8 [02:11<02:35, 28.14s/it]"
          ]
        },
        {
          "output_type": "stream",
          "name": "stdout",
          "text": [
            "Train Epoch: 3 [46080/84843 (54%)]\tLoss: 0.853064\n"
          ]
        },
        {
          "output_type": "stream",
          "name": "stderr",
          "text": [
            " 32%|███▏      | 2.541333333333343/8 [02:13<02:30, 27.55s/it] "
          ]
        },
        {
          "output_type": "stream",
          "name": "stdout",
          "text": [
            "Train Epoch: 3 [51200/84843 (60%)]\tLoss: 0.806253\n"
          ]
        },
        {
          "output_type": "stream",
          "name": "stderr",
          "text": [
            " 32%|███▏      | 2.5946666666666793/8 [02:14<02:31, 28.10s/it]"
          ]
        },
        {
          "output_type": "stream",
          "name": "stdout",
          "text": [
            "Train Epoch: 3 [56320/84843 (66%)]\tLoss: 0.853721\n"
          ]
        },
        {
          "output_type": "stream",
          "name": "stderr",
          "text": [
            " 33%|███▎      | 2.6480000000000157/8 [02:16<02:27, 27.63s/it]"
          ]
        },
        {
          "output_type": "stream",
          "name": "stdout",
          "text": [
            "Train Epoch: 3 [61440/84843 (72%)]\tLoss: 0.754603\n"
          ]
        },
        {
          "output_type": "stream",
          "name": "stderr",
          "text": [
            " 34%|███▍      | 2.701333333333352/8 [02:17<02:28, 28.11s/it] "
          ]
        },
        {
          "output_type": "stream",
          "name": "stdout",
          "text": [
            "Train Epoch: 3 [66560/84843 (78%)]\tLoss: 0.843354\n"
          ]
        },
        {
          "output_type": "stream",
          "name": "stderr",
          "text": [
            " 34%|███▍      | 2.7546666666666884/8 [02:19<03:06, 35.51s/it]"
          ]
        },
        {
          "output_type": "stream",
          "name": "stdout",
          "text": [
            "Train Epoch: 3 [71680/84843 (84%)]\tLoss: 0.796007\n"
          ]
        },
        {
          "output_type": "stream",
          "name": "stderr",
          "text": [
            " 35%|███▌      | 2.8080000000000247/8 [02:21<02:34, 29.74s/it]"
          ]
        },
        {
          "output_type": "stream",
          "name": "stdout",
          "text": [
            "Train Epoch: 3 [76800/84843 (90%)]\tLoss: 0.795213\n"
          ]
        },
        {
          "output_type": "stream",
          "name": "stderr",
          "text": [
            " 36%|███▌      | 2.861333333333361/8 [02:22<02:25, 28.35s/it] "
          ]
        },
        {
          "output_type": "stream",
          "name": "stdout",
          "text": [
            "Train Epoch: 3 [81920/84843 (96%)]\tLoss: 0.789305\n"
          ]
        },
        {
          "output_type": "stream",
          "name": "stderr",
          "text": [
            " 38%|███▊      | 3.005333333333369/8 [02:26<02:12, 26.50s/it] "
          ]
        },
        {
          "output_type": "stream",
          "name": "stdout",
          "text": [
            "\n",
            "Test Epoch: 3\tAccuracy: 8271/11005 (75%)\n",
            "\n",
            "Train Epoch: 4 [0/84843 (0%)]\tLoss: 0.729027\n"
          ]
        },
        {
          "output_type": "stream",
          "name": "stderr",
          "text": [
            " 38%|███▊      | 3.0586666666667055/8 [02:28<02:18, 28.05s/it]"
          ]
        },
        {
          "output_type": "stream",
          "name": "stdout",
          "text": [
            "Train Epoch: 4 [5120/84843 (6%)]\tLoss: 0.707165\n"
          ]
        },
        {
          "output_type": "stream",
          "name": "stderr",
          "text": [
            " 39%|███▉      | 3.112000000000042/8 [02:29<02:14, 27.50s/it]"
          ]
        },
        {
          "output_type": "stream",
          "name": "stdout",
          "text": [
            "Train Epoch: 4 [10240/84843 (12%)]\tLoss: 0.619154\n"
          ]
        },
        {
          "output_type": "stream",
          "name": "stderr",
          "text": [
            " 40%|███▉      | 3.165333333333378/8 [02:31<02:41, 33.48s/it] "
          ]
        },
        {
          "output_type": "stream",
          "name": "stdout",
          "text": [
            "Train Epoch: 4 [15360/84843 (18%)]\tLoss: 0.682462\n"
          ]
        },
        {
          "output_type": "stream",
          "name": "stderr",
          "text": [
            " 40%|████      | 3.2186666666667145/8 [02:33<02:56, 37.01s/it]"
          ]
        },
        {
          "output_type": "stream",
          "name": "stdout",
          "text": [
            "Train Epoch: 4 [20480/84843 (24%)]\tLoss: 0.750781\n"
          ]
        },
        {
          "output_type": "stream",
          "name": "stderr",
          "text": [
            " 41%|████      | 3.272000000000051/8 [02:34<02:13, 28.18s/it] "
          ]
        },
        {
          "output_type": "stream",
          "name": "stdout",
          "text": [
            "Train Epoch: 4 [25600/84843 (30%)]\tLoss: 0.709514\n"
          ]
        },
        {
          "output_type": "stream",
          "name": "stderr",
          "text": [
            " 42%|████▏     | 3.325333333333387/8 [02:36<02:09, 27.72s/it] "
          ]
        },
        {
          "output_type": "stream",
          "name": "stdout",
          "text": [
            "Train Epoch: 4 [30720/84843 (36%)]\tLoss: 0.765430\n"
          ]
        },
        {
          "output_type": "stream",
          "name": "stderr",
          "text": [
            " 42%|████▏     | 3.3786666666667236/8 [02:37<02:13, 28.97s/it]"
          ]
        },
        {
          "output_type": "stream",
          "name": "stdout",
          "text": [
            "Train Epoch: 4 [35840/84843 (42%)]\tLoss: 0.806550\n"
          ]
        },
        {
          "output_type": "stream",
          "name": "stderr",
          "text": [
            " 43%|████▎     | 3.43200000000006/8 [02:39<02:07, 27.89s/it]  "
          ]
        },
        {
          "output_type": "stream",
          "name": "stdout",
          "text": [
            "Train Epoch: 4 [40960/84843 (48%)]\tLoss: 0.665975\n"
          ]
        },
        {
          "output_type": "stream",
          "name": "stderr",
          "text": [
            " 44%|████▎     | 3.4853333333333962/8 [02:40<02:06, 28.00s/it]"
          ]
        },
        {
          "output_type": "stream",
          "name": "stdout",
          "text": [
            "Train Epoch: 4 [46080/84843 (54%)]\tLoss: 0.670915\n"
          ]
        },
        {
          "output_type": "stream",
          "name": "stderr",
          "text": [
            " 44%|████▍     | 3.5386666666667326/8 [02:42<02:03, 27.67s/it]"
          ]
        },
        {
          "output_type": "stream",
          "name": "stdout",
          "text": [
            "Train Epoch: 4 [51200/84843 (60%)]\tLoss: 0.642438\n"
          ]
        },
        {
          "output_type": "stream",
          "name": "stderr",
          "text": [
            " 45%|████▍     | 3.592000000000069/8 [02:43<02:23, 32.49s/it] "
          ]
        },
        {
          "output_type": "stream",
          "name": "stdout",
          "text": [
            "Train Epoch: 4 [56320/84843 (66%)]\tLoss: 0.645798\n"
          ]
        },
        {
          "output_type": "stream",
          "name": "stderr",
          "text": [
            " 46%|████▌     | 3.6453333333334053/8 [02:45<02:45, 37.93s/it]"
          ]
        },
        {
          "output_type": "stream",
          "name": "stdout",
          "text": [
            "Train Epoch: 4 [61440/84843 (72%)]\tLoss: 0.573388\n"
          ]
        },
        {
          "output_type": "stream",
          "name": "stderr",
          "text": [
            " 46%|████▌     | 3.6986666666667416/8 [02:47<02:00, 28.11s/it]"
          ]
        },
        {
          "output_type": "stream",
          "name": "stdout",
          "text": [
            "Train Epoch: 4 [66560/84843 (78%)]\tLoss: 0.740770\n"
          ]
        },
        {
          "output_type": "stream",
          "name": "stderr",
          "text": [
            " 47%|████▋     | 3.752000000000078/8 [02:48<01:59, 28.04s/it] "
          ]
        },
        {
          "output_type": "stream",
          "name": "stdout",
          "text": [
            "Train Epoch: 4 [71680/84843 (84%)]\tLoss: 0.696727\n"
          ]
        },
        {
          "output_type": "stream",
          "name": "stderr",
          "text": [
            " 48%|████▊     | 3.8053333333334143/8 [02:50<01:54, 27.33s/it]"
          ]
        },
        {
          "output_type": "stream",
          "name": "stdout",
          "text": [
            "Train Epoch: 4 [76800/84843 (90%)]\tLoss: 0.680643\n"
          ]
        },
        {
          "output_type": "stream",
          "name": "stderr",
          "text": [
            " 48%|████▊     | 3.8586666666667506/8 [02:51<02:09, 31.31s/it]"
          ]
        },
        {
          "output_type": "stream",
          "name": "stdout",
          "text": [
            "Train Epoch: 4 [81920/84843 (96%)]\tLoss: 0.758816\n"
          ]
        },
        {
          "output_type": "stream",
          "name": "stderr",
          "text": [
            " 50%|█████     | 4.002666666666758/8 [02:55<01:45, 26.35s/it]"
          ]
        },
        {
          "output_type": "stream",
          "name": "stdout",
          "text": [
            "\n",
            "Test Epoch: 4\tAccuracy: 8450/11005 (77%)\n",
            "\n",
            "Train Epoch: 5 [0/84843 (0%)]\tLoss: 0.555198\n"
          ]
        },
        {
          "output_type": "stream",
          "name": "stderr",
          "text": [
            " 51%|█████     | 4.061333333333418/8 [02:57<02:20, 35.65s/it]"
          ]
        },
        {
          "output_type": "stream",
          "name": "stdout",
          "text": [
            "Train Epoch: 5 [5120/84843 (6%)]\tLoss: 0.636446\n"
          ]
        },
        {
          "output_type": "stream",
          "name": "stderr",
          "text": [
            " 51%|█████▏    | 4.1146666666667455/8 [02:59<01:55, 29.85s/it]"
          ]
        },
        {
          "output_type": "stream",
          "name": "stdout",
          "text": [
            "Train Epoch: 5 [10240/84843 (12%)]\tLoss: 0.637015\n"
          ]
        },
        {
          "output_type": "stream",
          "name": "stderr",
          "text": [
            " 52%|█████▏    | 4.168000000000073/8 [03:00<01:45, 27.62s/it]"
          ]
        },
        {
          "output_type": "stream",
          "name": "stdout",
          "text": [
            "Train Epoch: 5 [15360/84843 (18%)]\tLoss: 0.794866\n"
          ]
        },
        {
          "output_type": "stream",
          "name": "stderr",
          "text": [
            " 53%|█████▎    | 4.2213333333334/8 [03:02<01:44, 27.58s/it]  "
          ]
        },
        {
          "output_type": "stream",
          "name": "stdout",
          "text": [
            "Train Epoch: 5 [20480/84843 (24%)]\tLoss: 0.613244\n"
          ]
        },
        {
          "output_type": "stream",
          "name": "stderr",
          "text": [
            " 53%|█████▎    | 4.274666666666728/8 [03:03<01:44, 28.02s/it]"
          ]
        },
        {
          "output_type": "stream",
          "name": "stdout",
          "text": [
            "Train Epoch: 5 [25600/84843 (30%)]\tLoss: 0.586728\n"
          ]
        },
        {
          "output_type": "stream",
          "name": "stderr",
          "text": [
            " 54%|█████▍    | 4.328000000000055/8 [03:05<01:42, 27.84s/it]"
          ]
        },
        {
          "output_type": "stream",
          "name": "stdout",
          "text": [
            "Train Epoch: 5 [30720/84843 (36%)]\tLoss: 0.692293\n"
          ]
        },
        {
          "output_type": "stream",
          "name": "stderr",
          "text": [
            " 55%|█████▍    | 4.381333333333383/8 [03:06<01:42, 28.34s/it]"
          ]
        },
        {
          "output_type": "stream",
          "name": "stdout",
          "text": [
            "Train Epoch: 5 [35840/84843 (42%)]\tLoss: 0.847703\n"
          ]
        },
        {
          "output_type": "stream",
          "name": "stderr",
          "text": [
            " 55%|█████▌    | 4.43466666666671/8 [03:08<01:39, 27.79s/it]  "
          ]
        },
        {
          "output_type": "stream",
          "name": "stdout",
          "text": [
            "Train Epoch: 5 [40960/84843 (48%)]\tLoss: 0.549443\n"
          ]
        },
        {
          "output_type": "stream",
          "name": "stderr",
          "text": [
            " 56%|█████▌    | 4.482666666666705/8 [03:09<02:01, 34.45s/it]"
          ]
        },
        {
          "output_type": "stream",
          "name": "stdout",
          "text": [
            "Train Epoch: 5 [46080/84843 (54%)]\tLoss: 0.684856\n"
          ]
        },
        {
          "output_type": "stream",
          "name": "stderr",
          "text": [
            " 57%|█████▋    | 4.541333333333365/8 [03:11<01:45, 30.49s/it] "
          ]
        },
        {
          "output_type": "stream",
          "name": "stdout",
          "text": [
            "Train Epoch: 5 [51200/84843 (60%)]\tLoss: 0.714281\n"
          ]
        },
        {
          "output_type": "stream",
          "name": "stderr",
          "text": [
            " 57%|█████▋    | 4.594666666666693/8 [03:13<01:34, 27.74s/it]"
          ]
        },
        {
          "output_type": "stream",
          "name": "stdout",
          "text": [
            "Train Epoch: 5 [56320/84843 (66%)]\tLoss: 0.750413\n"
          ]
        },
        {
          "output_type": "stream",
          "name": "stderr",
          "text": [
            " 58%|█████▊    | 4.64800000000002/8 [03:14<01:32, 27.74s/it] "
          ]
        },
        {
          "output_type": "stream",
          "name": "stdout",
          "text": [
            "Train Epoch: 5 [61440/84843 (72%)]\tLoss: 0.795370\n"
          ]
        },
        {
          "output_type": "stream",
          "name": "stderr",
          "text": [
            " 59%|█████▉    | 4.701333333333348/8 [03:16<01:31, 27.78s/it]"
          ]
        },
        {
          "output_type": "stream",
          "name": "stdout",
          "text": [
            "Train Epoch: 5 [66560/84843 (78%)]\tLoss: 0.673737\n"
          ]
        },
        {
          "output_type": "stream",
          "name": "stderr",
          "text": [
            " 59%|█████▉    | 4.754666666666675/8 [03:17<01:31, 28.07s/it]"
          ]
        },
        {
          "output_type": "stream",
          "name": "stdout",
          "text": [
            "Train Epoch: 5 [71680/84843 (84%)]\tLoss: 0.573111\n"
          ]
        },
        {
          "output_type": "stream",
          "name": "stderr",
          "text": [
            " 60%|██████    | 4.8080000000000025/8 [03:19<01:28, 27.65s/it]"
          ]
        },
        {
          "output_type": "stream",
          "name": "stdout",
          "text": [
            "Train Epoch: 5 [76800/84843 (90%)]\tLoss: 0.580609\n"
          ]
        },
        {
          "output_type": "stream",
          "name": "stderr",
          "text": [
            " 61%|██████    | 4.86133333333333/8 [03:20<01:26, 27.51s/it] "
          ]
        },
        {
          "output_type": "stream",
          "name": "stdout",
          "text": [
            "Train Epoch: 5 [81920/84843 (96%)]\tLoss: 0.577845\n"
          ]
        },
        {
          "output_type": "stream",
          "name": "stderr",
          "text": [
            " 62%|██████▏   | 4.999999999999981/8 [03:26<01:40, 33.55s/it]"
          ]
        },
        {
          "output_type": "stream",
          "name": "stdout",
          "text": [
            "\n",
            "Test Epoch: 5\tAccuracy: 8273/11005 (75%)\n",
            "\n",
            "Train Epoch: 6 [0/84843 (0%)]\tLoss: 0.594096\n"
          ]
        },
        {
          "output_type": "stream",
          "name": "stderr",
          "text": [
            " 63%|██████▎   | 5.061333333333308/8 [03:29<01:56, 39.48s/it]"
          ]
        },
        {
          "output_type": "stream",
          "name": "stdout",
          "text": [
            "Train Epoch: 6 [5120/84843 (6%)]\tLoss: 0.603290\n"
          ]
        },
        {
          "output_type": "stream",
          "name": "stderr",
          "text": [
            " 64%|██████▍   | 5.114666666666635/8 [03:30<01:21, 28.09s/it]"
          ]
        },
        {
          "output_type": "stream",
          "name": "stdout",
          "text": [
            "Train Epoch: 6 [10240/84843 (12%)]\tLoss: 0.649910\n"
          ]
        },
        {
          "output_type": "stream",
          "name": "stderr",
          "text": [
            " 65%|██████▍   | 5.167999999999963/8 [03:32<01:18, 27.72s/it]"
          ]
        },
        {
          "output_type": "stream",
          "name": "stdout",
          "text": [
            "Train Epoch: 6 [15360/84843 (18%)]\tLoss: 0.646535\n"
          ]
        },
        {
          "output_type": "stream",
          "name": "stderr",
          "text": [
            " 65%|██████▌   | 5.218666666666624/8 [03:33<01:56, 41.88s/it]"
          ]
        },
        {
          "output_type": "stream",
          "name": "stdout",
          "text": [
            "Train Epoch: 6 [20480/84843 (24%)]\tLoss: 0.726970\n"
          ]
        },
        {
          "output_type": "stream",
          "name": "stderr",
          "text": [
            " 66%|██████▌   | 5.271999999999951/8 [03:35<01:32, 33.96s/it]"
          ]
        },
        {
          "output_type": "stream",
          "name": "stdout",
          "text": [
            "Train Epoch: 6 [25600/84843 (30%)]\tLoss: 0.729238\n"
          ]
        },
        {
          "output_type": "stream",
          "name": "stderr",
          "text": [
            " 67%|██████▋   | 5.327999999999945/8 [03:37<01:27, 32.79s/it] "
          ]
        },
        {
          "output_type": "stream",
          "name": "stdout",
          "text": [
            "Train Epoch: 6 [30720/84843 (36%)]\tLoss: 0.716877\n"
          ]
        },
        {
          "output_type": "stream",
          "name": "stderr",
          "text": [
            " 67%|██████▋   | 5.381333333333273/8 [03:39<01:14, 28.32s/it]"
          ]
        },
        {
          "output_type": "stream",
          "name": "stdout",
          "text": [
            "Train Epoch: 6 [35840/84843 (42%)]\tLoss: 0.642276\n"
          ]
        },
        {
          "output_type": "stream",
          "name": "stderr",
          "text": [
            " 68%|██████▊   | 5.4346666666666/8 [03:40<01:11, 28.03s/it]  "
          ]
        },
        {
          "output_type": "stream",
          "name": "stdout",
          "text": [
            "Train Epoch: 6 [40960/84843 (48%)]\tLoss: 0.780623\n"
          ]
        },
        {
          "output_type": "stream",
          "name": "stderr",
          "text": [
            " 69%|██████▊   | 5.487999999999928/8 [03:42<01:08, 27.31s/it]"
          ]
        },
        {
          "output_type": "stream",
          "name": "stdout",
          "text": [
            "Train Epoch: 6 [46080/84843 (54%)]\tLoss: 0.698730\n"
          ]
        },
        {
          "output_type": "stream",
          "name": "stderr",
          "text": [
            " 69%|██████▉   | 5.541333333333255/8 [03:43<01:10, 28.66s/it]"
          ]
        },
        {
          "output_type": "stream",
          "name": "stdout",
          "text": [
            "Train Epoch: 6 [51200/84843 (60%)]\tLoss: 0.748750\n"
          ]
        },
        {
          "output_type": "stream",
          "name": "stderr",
          "text": [
            " 70%|██████▉   | 5.5946666666665825/8 [03:45<01:11, 29.71s/it]"
          ]
        },
        {
          "output_type": "stream",
          "name": "stdout",
          "text": [
            "Train Epoch: 6 [56320/84843 (66%)]\tLoss: 0.585381\n"
          ]
        },
        {
          "output_type": "stream",
          "name": "stderr",
          "text": [
            " 71%|███████   | 5.64799999999991/8 [03:46<01:06, 28.48s/it] "
          ]
        },
        {
          "output_type": "stream",
          "name": "stdout",
          "text": [
            "Train Epoch: 6 [61440/84843 (72%)]\tLoss: 0.607055\n"
          ]
        },
        {
          "output_type": "stream",
          "name": "stderr",
          "text": [
            " 71%|███████▏  | 5.701333333333237/8 [03:48<01:19, 34.48s/it]"
          ]
        },
        {
          "output_type": "stream",
          "name": "stdout",
          "text": [
            "Train Epoch: 6 [66560/84843 (78%)]\tLoss: 0.620594\n"
          ]
        },
        {
          "output_type": "stream",
          "name": "stderr",
          "text": [
            " 72%|███████▏  | 5.754666666666565/8 [03:50<01:10, 31.29s/it]"
          ]
        },
        {
          "output_type": "stream",
          "name": "stdout",
          "text": [
            "Train Epoch: 6 [71680/84843 (84%)]\tLoss: 0.666042\n"
          ]
        },
        {
          "output_type": "stream",
          "name": "stderr",
          "text": [
            " 73%|███████▎  | 5.807999999999892/8 [03:51<01:01, 28.23s/it]"
          ]
        },
        {
          "output_type": "stream",
          "name": "stdout",
          "text": [
            "Train Epoch: 6 [76800/84843 (90%)]\tLoss: 0.727294\n"
          ]
        },
        {
          "output_type": "stream",
          "name": "stderr",
          "text": [
            " 73%|███████▎  | 5.86133333333322/8 [03:53<01:00, 28.44s/it] "
          ]
        },
        {
          "output_type": "stream",
          "name": "stdout",
          "text": [
            "Train Epoch: 6 [81920/84843 (96%)]\tLoss: 0.628891\n"
          ]
        },
        {
          "output_type": "stream",
          "name": "stderr",
          "text": [
            " 75%|███████▌  | 6.005333333333204/8 [03:57<00:53, 26.59s/it]"
          ]
        },
        {
          "output_type": "stream",
          "name": "stdout",
          "text": [
            "\n",
            "Test Epoch: 6\tAccuracy: 8589/11005 (78%)\n",
            "\n",
            "Train Epoch: 7 [0/84843 (0%)]\tLoss: 0.518038\n"
          ]
        },
        {
          "output_type": "stream",
          "name": "stderr",
          "text": [
            " 76%|███████▌  | 6.058666666666531/8 [03:58<00:54, 28.26s/it]"
          ]
        },
        {
          "output_type": "stream",
          "name": "stdout",
          "text": [
            "Train Epoch: 7 [5120/84843 (6%)]\tLoss: 0.608882\n"
          ]
        },
        {
          "output_type": "stream",
          "name": "stderr",
          "text": [
            " 76%|███████▋  | 6.111999999999859/8 [04:00<00:59, 31.62s/it]"
          ]
        },
        {
          "output_type": "stream",
          "name": "stdout",
          "text": [
            "Train Epoch: 7 [10240/84843 (12%)]\tLoss: 0.651038\n"
          ]
        },
        {
          "output_type": "stream",
          "name": "stderr",
          "text": [
            " 77%|███████▋  | 6.165333333333186/8 [04:02<01:06, 36.48s/it]"
          ]
        },
        {
          "output_type": "stream",
          "name": "stdout",
          "text": [
            "Train Epoch: 7 [15360/84843 (18%)]\tLoss: 0.526696\n"
          ]
        },
        {
          "output_type": "stream",
          "name": "stderr",
          "text": [
            " 78%|███████▊  | 6.218666666666514/8 [04:03<00:49, 28.01s/it]"
          ]
        },
        {
          "output_type": "stream",
          "name": "stdout",
          "text": [
            "Train Epoch: 7 [20480/84843 (24%)]\tLoss: 0.543351\n"
          ]
        },
        {
          "output_type": "stream",
          "name": "stderr",
          "text": [
            " 78%|███████▊  | 6.271999999999841/8 [04:05<00:47, 27.26s/it] "
          ]
        },
        {
          "output_type": "stream",
          "name": "stdout",
          "text": [
            "Train Epoch: 7 [25600/84843 (30%)]\tLoss: 0.550006\n"
          ]
        },
        {
          "output_type": "stream",
          "name": "stderr",
          "text": [
            " 79%|███████▉  | 6.325333333333169/8 [04:06<00:46, 27.71s/it]"
          ]
        },
        {
          "output_type": "stream",
          "name": "stdout",
          "text": [
            "Train Epoch: 7 [30720/84843 (36%)]\tLoss: 0.685673\n"
          ]
        },
        {
          "output_type": "stream",
          "name": "stderr",
          "text": [
            " 80%|███████▉  | 6.378666666666496/8 [04:08<00:44, 27.73s/it]"
          ]
        },
        {
          "output_type": "stream",
          "name": "stdout",
          "text": [
            "Train Epoch: 7 [35840/84843 (42%)]\tLoss: 0.517636\n"
          ]
        },
        {
          "output_type": "stream",
          "name": "stderr",
          "text": [
            " 80%|████████  | 6.431999999999824/8 [04:09<00:44, 28.11s/it]"
          ]
        },
        {
          "output_type": "stream",
          "name": "stdout",
          "text": [
            "Train Epoch: 7 [40960/84843 (48%)]\tLoss: 0.597546\n"
          ]
        },
        {
          "output_type": "stream",
          "name": "stderr",
          "text": [
            " 81%|████████  | 6.485333333333151/8 [04:11<00:42, 28.23s/it]"
          ]
        },
        {
          "output_type": "stream",
          "name": "stdout",
          "text": [
            "Train Epoch: 7 [46080/84843 (54%)]\tLoss: 0.705261\n"
          ]
        },
        {
          "output_type": "stream",
          "name": "stderr",
          "text": [
            " 82%|████████▏ | 6.5386666666664786/8 [04:12<00:43, 29.46s/it]"
          ]
        },
        {
          "output_type": "stream",
          "name": "stdout",
          "text": [
            "Train Epoch: 7 [51200/84843 (60%)]\tLoss: 0.508768\n"
          ]
        },
        {
          "output_type": "stream",
          "name": "stderr",
          "text": [
            " 82%|████████▏ | 6.591999999999806/8 [04:14<00:51, 36.76s/it]"
          ]
        },
        {
          "output_type": "stream",
          "name": "stdout",
          "text": [
            "Train Epoch: 7 [56320/84843 (66%)]\tLoss: 0.643632\n"
          ]
        },
        {
          "output_type": "stream",
          "name": "stderr",
          "text": [
            " 83%|████████▎ | 6.6453333333331335/8 [04:16<00:37, 28.02s/it]"
          ]
        },
        {
          "output_type": "stream",
          "name": "stdout",
          "text": [
            "Train Epoch: 7 [61440/84843 (72%)]\tLoss: 0.578043\n"
          ]
        },
        {
          "output_type": "stream",
          "name": "stderr",
          "text": [
            " 84%|████████▎ | 6.698666666666461/8 [04:17<00:36, 27.69s/it]"
          ]
        },
        {
          "output_type": "stream",
          "name": "stdout",
          "text": [
            "Train Epoch: 7 [66560/84843 (78%)]\tLoss: 0.536385\n"
          ]
        },
        {
          "output_type": "stream",
          "name": "stderr",
          "text": [
            " 84%|████████▍ | 6.751999999999788/8 [04:19<00:34, 27.44s/it]"
          ]
        },
        {
          "output_type": "stream",
          "name": "stdout",
          "text": [
            "Train Epoch: 7 [71680/84843 (84%)]\tLoss: 0.746229\n"
          ]
        },
        {
          "output_type": "stream",
          "name": "stderr",
          "text": [
            " 85%|████████▌ | 6.805333333333116/8 [04:20<00:33, 28.06s/it]"
          ]
        },
        {
          "output_type": "stream",
          "name": "stdout",
          "text": [
            "Train Epoch: 7 [76800/84843 (90%)]\tLoss: 0.532209\n"
          ]
        },
        {
          "output_type": "stream",
          "name": "stderr",
          "text": [
            " 86%|████████▌ | 6.858666666666443/8 [04:22<00:34, 30.35s/it]"
          ]
        },
        {
          "output_type": "stream",
          "name": "stdout",
          "text": [
            "Train Epoch: 7 [81920/84843 (96%)]\tLoss: 0.571191\n"
          ]
        },
        {
          "output_type": "stream",
          "name": "stderr",
          "text": [
            " 87%|████████▋ | 6.999999999999761/8 [04:26<00:36, 36.68s/it]"
          ]
        },
        {
          "output_type": "stream",
          "name": "stdout",
          "text": [
            "\n",
            "Test Epoch: 7\tAccuracy: 8176/11005 (74%)\n",
            "\n",
            "Train Epoch: 8 [0/84843 (0%)]\tLoss: 0.623141\n"
          ]
        },
        {
          "output_type": "stream",
          "name": "stderr",
          "text": [
            " 88%|████████▊ | 7.061333333333088/8 [04:28<00:27, 29.82s/it]"
          ]
        },
        {
          "output_type": "stream",
          "name": "stdout",
          "text": [
            "Train Epoch: 8 [5120/84843 (6%)]\tLoss: 0.566810\n"
          ]
        },
        {
          "output_type": "stream",
          "name": "stderr",
          "text": [
            " 89%|████████▉ | 7.114666666666415/8 [04:30<00:32, 36.36s/it]"
          ]
        },
        {
          "output_type": "stream",
          "name": "stdout",
          "text": [
            "Train Epoch: 8 [10240/84843 (12%)]\tLoss: 0.495380\n"
          ]
        },
        {
          "output_type": "stream",
          "name": "stderr",
          "text": [
            " 90%|████████▉ | 7.167999999999743/8 [04:32<00:23, 28.65s/it]"
          ]
        },
        {
          "output_type": "stream",
          "name": "stdout",
          "text": [
            "Train Epoch: 8 [15360/84843 (18%)]\tLoss: 0.493050\n"
          ]
        },
        {
          "output_type": "stream",
          "name": "stderr",
          "text": [
            " 90%|█████████ | 7.22133333333307/8 [04:34<00:21, 28.10s/it] "
          ]
        },
        {
          "output_type": "stream",
          "name": "stdout",
          "text": [
            "Train Epoch: 8 [20480/84843 (24%)]\tLoss: 0.607003\n"
          ]
        },
        {
          "output_type": "stream",
          "name": "stderr",
          "text": [
            " 91%|█████████ | 7.2746666666663975/8 [04:35<00:21, 30.06s/it]"
          ]
        },
        {
          "output_type": "stream",
          "name": "stdout",
          "text": [
            "Train Epoch: 8 [25600/84843 (30%)]\tLoss: 0.508925\n"
          ]
        },
        {
          "output_type": "stream",
          "name": "stderr",
          "text": [
            " 92%|█████████▏| 7.327999999999725/8 [04:37<00:18, 28.24s/it]"
          ]
        },
        {
          "output_type": "stream",
          "name": "stdout",
          "text": [
            "Train Epoch: 8 [30720/84843 (36%)]\tLoss: 0.588600\n"
          ]
        },
        {
          "output_type": "stream",
          "name": "stderr",
          "text": [
            " 92%|█████████▏| 7.381333333333052/8 [04:38<00:20, 33.50s/it]"
          ]
        },
        {
          "output_type": "stream",
          "name": "stdout",
          "text": [
            "Train Epoch: 8 [35840/84843 (42%)]\tLoss: 0.618201\n"
          ]
        },
        {
          "output_type": "stream",
          "name": "stderr",
          "text": [
            " 93%|█████████▎| 7.429333333333047/8 [04:40<00:20, 36.40s/it]"
          ]
        },
        {
          "output_type": "stream",
          "name": "stdout",
          "text": [
            "Train Epoch: 8 [40960/84843 (48%)]\tLoss: 0.716544\n"
          ]
        },
        {
          "output_type": "stream",
          "name": "stderr",
          "text": [
            " 94%|█████████▎| 7.485333333333041/8 [04:42<00:14, 28.39s/it]"
          ]
        },
        {
          "output_type": "stream",
          "name": "stdout",
          "text": [
            "Train Epoch: 8 [46080/84843 (54%)]\tLoss: 0.637784\n"
          ]
        },
        {
          "output_type": "stream",
          "name": "stderr",
          "text": [
            " 94%|█████████▍| 7.538666666666368/8 [04:43<00:12, 27.85s/it]"
          ]
        },
        {
          "output_type": "stream",
          "name": "stdout",
          "text": [
            "Train Epoch: 8 [51200/84843 (60%)]\tLoss: 0.553253\n"
          ]
        },
        {
          "output_type": "stream",
          "name": "stderr",
          "text": [
            " 95%|█████████▍| 7.591999999999696/8 [04:45<00:11, 27.83s/it]"
          ]
        },
        {
          "output_type": "stream",
          "name": "stdout",
          "text": [
            "Train Epoch: 8 [56320/84843 (66%)]\tLoss: 0.786368\n"
          ]
        },
        {
          "output_type": "stream",
          "name": "stderr",
          "text": [
            " 96%|█████████▌| 7.645333333333023/8 [04:46<00:10, 28.35s/it]"
          ]
        },
        {
          "output_type": "stream",
          "name": "stdout",
          "text": [
            "Train Epoch: 8 [61440/84843 (72%)]\tLoss: 0.597657\n"
          ]
        },
        {
          "output_type": "stream",
          "name": "stderr",
          "text": [
            " 96%|█████████▌| 7.698666666666351/8 [04:48<00:08, 27.74s/it]"
          ]
        },
        {
          "output_type": "stream",
          "name": "stdout",
          "text": [
            "Train Epoch: 8 [66560/84843 (78%)]\tLoss: 0.587186\n"
          ]
        },
        {
          "output_type": "stream",
          "name": "stderr",
          "text": [
            " 97%|█████████▋| 7.751999999999678/8 [04:49<00:06, 27.92s/it] "
          ]
        },
        {
          "output_type": "stream",
          "name": "stdout",
          "text": [
            "Train Epoch: 8 [71680/84843 (84%)]\tLoss: 0.636223\n"
          ]
        },
        {
          "output_type": "stream",
          "name": "stderr",
          "text": [
            " 98%|█████████▊| 7.805333333333006/8 [04:51<00:06, 32.95s/it]"
          ]
        },
        {
          "output_type": "stream",
          "name": "stdout",
          "text": [
            "Train Epoch: 8 [76800/84843 (90%)]\tLoss: 0.669628\n"
          ]
        },
        {
          "output_type": "stream",
          "name": "stderr",
          "text": [
            " 98%|█████████▊| 7.858666666666333/8 [04:53<00:05, 37.94s/it]"
          ]
        },
        {
          "output_type": "stream",
          "name": "stdout",
          "text": [
            "Train Epoch: 8 [81920/84843 (96%)]\tLoss: 0.525971\n"
          ]
        },
        {
          "output_type": "stream",
          "name": "stderr",
          "text": [
            "100%|█████████▉| 7.999999999999651/8 [04:56<00:00, 37.12s/it]"
          ]
        },
        {
          "output_type": "stream",
          "name": "stdout",
          "text": [
            "\n",
            "Test Epoch: 8\tAccuracy: 8770/11005 (80%)\n",
            "\n"
          ]
        },
        {
          "output_type": "stream",
          "name": "stderr",
          "text": [
            "\n"
          ]
        }
      ],
      "source": [
        "log_interval = 20\n",
        "n_epoch = 8\n",
        "\n",
        "pbar_update = 1 / (len(train_loader) + len(test_loader))\n",
        "losses = []\n",
        "\n",
        "# The transform needs to live on the same device as the model and the data.\n",
        "transform = transform.to(device)\n",
        "with tqdm(total=n_epoch) as pbar:\n",
        "    for epoch in range(1, n_epoch + 1):\n",
        "        train(model, epoch, log_interval)\n",
        "        test(model, epoch)\n",
        "        scheduler.step()\n",
        "\n"
      ]
    },
    {
      "cell_type": "code",
      "source": [
        "# Let's plot the training loss versus the number of iteration.\n",
        "plt.plot(losses);\n",
        "plt.title(\"training loss\");"
      ],
      "metadata": {
        "colab": {
          "base_uri": "https://localhost:8080/",
          "height": 452
        },
        "id": "PM530fXh9MmY",
        "outputId": "4f9a347a-4f57-4ffb-97bd-46cbe2e511b3"
      },
      "execution_count": null,
      "outputs": [
        {
          "output_type": "display_data",
          "data": {
            "text/plain": [
              "<Figure size 640x480 with 1 Axes>"
            ],
            "image/png": "[encoded data removed]"
          },
          "metadata": {}
        }
      ]
    },
    {
      "cell_type": "code",
      "execution_count": null,
      "metadata": {
        "colab": {
          "base_uri": "https://localhost:8080/"
        },
        "id": "-1xiliOD66Gr",
        "outputId": "bbf0573f-5a0d-4d08-9ad3-16e21472aa0c"
      },
      "outputs": [
        {
          "output_type": "stream",
          "name": "stdout",
          "text": [
            "Expected: zero. Predicted: zero.\n"
          ]
        }
      ],
      "source": [
        "def predict(tensor):\n",
        "    # Use the model to predict the label of the waveform\n",
        "    tensor = tensor.to(device)\n",
        "    tensor = transform(tensor)\n",
        "    tensor = model(tensor.unsqueeze(0))\n",
        "    tensor = get_likely_index(tensor)\n",
        "    tensor = index_to_label(tensor.squeeze())\n",
        "    return tensor\n",
        "\n",
        "\n",
        "waveform, sample_rate, utterance, *_ = train_set[-1]\n",
        "ipd.Audio(waveform.numpy(), rate=sample_rate)\n",
        "\n",
        "print(f\"Expected: {utterance}. Predicted: {predict(waveform)}.\")"
      ]
    },
    {
      "cell_type": "markdown",
      "metadata": {
        "id": "98RDVKOQ66Gr"
      },
      "source": [
        "Let’s find an example that isn’t classified correctly, if there is one.\n",
        "\n",
        "\n"
      ]
    },
    {
      "cell_type": "code",
      "execution_count": null,
      "metadata": {
        "colab": {
          "base_uri": "https://localhost:8080/"
        },
        "id": "_wz0nkG566Gs",
        "outputId": "9ff4d879-12dd-4d26-f2a5-65cb89c6d1f3"
      },
      "outputs": [
        {
          "output_type": "stream",
          "name": "stdout",
          "text": [
            "Data point #1. Expected: right. Predicted: nine.\n"
          ]
        }
      ],
      "source": [
        "for i, (waveform, sample_rate, utterance, *_) in enumerate(test_set):\n",
        "    output = predict(waveform)\n",
        "    if output != utterance:\n",
        "        ipd.Audio(waveform.numpy(), rate=sample_rate)\n",
        "        print(f\"Data point #{i}. Expected: {utterance}. Predicted: {output}.\")\n",
        "        break\n",
        "else:\n",
        "    print(\"All examples in this dataset were correctly classified!\")\n",
        "    print(\"In this case, let's just look at the last data point\")\n",
        "    ipd.Audio(waveform.numpy(), rate=sample_rate)\n",
        "    print(f\"Data point #{i}. Expected: {utterance}. Predicted: {output}.\")"
      ]
    },
    {
      "cell_type": "markdown",
      "metadata": {
        "id": "qjN19f1I66Gs"
      },
      "source": [
        "Feel free to try with one of your own recordings of one of the labels!\n",
        "For example, using Colab, say “Go” while executing the cell below. This\n",
        "will record one second of audio and try to classify it.\n",
        "\n",
        "\n"
      ]
    },
    {
      "cell_type": "code",
      "execution_count": null,
      "metadata": {
        "id": "MFrXhLXc66Gt"
      },
      "outputs": [],
      "source": [
        "def record(seconds=1):\n",
        "\n",
        "    from google.colab import output as colab_output\n",
        "    from base64 import b64decode\n",
        "    from io import BytesIO\n",
        "    from pydub import AudioSegment\n",
        "\n",
        "    RECORD = (\n",
        "        b\"const sleep  = time => new Promise(resolve => setTimeout(resolve, time))\\n\"\n",
        "        b\"const b2text = blob => new Promise(resolve => {\\n\"\n",
        "        b\"  const reader = new FileReader()\\n\"\n",
        "        b\"  reader.onloadend = e => resolve(e.srcElement.result)\\n\"\n",
        "        b\"  reader.readAsDataURL(blob)\\n\"\n",
        "        b\"})\\n\"\n",
        "        b\"var record = time => new Promise(async resolve => {\\n\"\n",
        "        b\"  stream = await navigator.mediaDevices.getUserMedia({ audio: true })\\n\"\n",
        "        b\"  recorder = new MediaRecorder(stream)\\n\"\n",
        "        b\"  chunks = []\\n\"\n",
        "        b\"  recorder.ondataavailable = e => chunks.push(e.data)\\n\"\n",
        "        b\"  recorder.start()\\n\"\n",
        "        b\"  await sleep(time)\\n\"\n",
        "        b\"  recorder.onstop = async ()=>{\\n\"\n",
        "        b\"    blob = new Blob(chunks)\\n\"\n",
        "        b\"    text = await b2text(blob)\\n\"\n",
        "        b\"    resolve(text)\\n\"\n",
        "        b\"  }\\n\"\n",
        "        b\"  recorder.stop()\\n\"\n",
        "        b\"})\"\n",
        "    )\n",
        "    RECORD = RECORD.decode(\"ascii\")\n",
        "\n",
        "    print(f\"Recording started for {seconds} seconds.\")\n",
        "    display(ipd.Javascript(RECORD))\n",
        "    s = colab_output.eval_js(\"record(%d)\" % (seconds * 1000))\n",
        "    print(\"Recording ended.\")\n",
        "    b = b64decode(s.split(\",\")[1])\n",
        "\n",
        "    fileformat = \"wav\"\n",
        "    filename = f\"_audio.{fileformat}\"\n",
        "    AudioSegment.from_file(BytesIO(b)).export(filename, format=fileformat)\n",
        "    return torchaudio.load(filename)\n",
        "\n",
        "\n",
        "# Detect whether notebook runs in google colab\n",
        "if \"google.colab\" in sys.modules:\n",
        "    waveform, sample_rate = record()\n",
        "    print(f\"Predicted: {predict(waveform)}.\")\n",
        "    ipd.Audio(waveform.numpy(), rate=sample_rate)"
      ]
    },
    {
      "cell_type": "code",
      "source": [
        "torch.save(model.state_dict(), '/content/m5_speech_commands.pth')"
      ],
      "metadata": {
        "id": "hOs2FkdE_5uk"
      },
      "execution_count": null,
      "outputs": []
    },
    {
      "cell_type": "code",
      "source": [
        "!pip install rarfile"
      ],
      "metadata": {
        "id": "tebkHq2jPvsJ",
        "outputId": "e762541a-c775-4450-ff9a-d9ff070ec650",
        "colab": {
          "base_uri": "https://localhost:8080/"
        }
      },
      "execution_count": null,
      "outputs": [
        {
          "output_type": "stream",
          "name": "stdout",
          "text": [
            "Collecting rarfile\n",
            "  Downloading rarfile-4.2-py3-none-any.whl.metadata (4.4 kB)\n",
            "Downloading rarfile-4.2-py3-none-any.whl (29 kB)\n",
            "Installing collected packages: rarfile\n",
            "Successfully installed rarfile-4.2\n"
          ]
        }
      ]
    },
    {
      "cell_type": "code",
      "source": [
        "import rarfile\n",
        "import os\n",
        "\n",
        "def extract_rar(rar_path, extract_to):\n",
        "    # Ensure the extract directory exists\n",
        "    if not os.path.exists(extract_to):\n",
        "        os.makedirs(extract_to)\n",
        "\n",
        "    # Open and extract the .rar file\n",
        "    with rarfile.RarFile(rar_path) as rf:\n",
        "        rf.extractall(path=extract_to)\n",
        "\n",
        "    print(f\"Extracted to {extract_to}\")\n",
        "\n",
        "# Path to your .rar file and where to extract\n",
        "rar_file_path = \"/content/recordings_v2.rar\"\n",
        "extract_to_path = \"/content\"\n",
        "\n",
        "# Extract the .rar file\n",
        "extract_rar(rar_file_path, extract_to_path)\n"
      ],
      "metadata": {
        "id": "ertSdUHkPrif",
        "outputId": "43bdeb37-13a1-4f6f-d370-5c1e76f0330f",
        "colab": {
          "base_uri": "https://localhost:8080/"
        }
      },
      "execution_count": null,
      "outputs": [
        {
          "output_type": "stream",
          "name": "stdout",
          "text": [
            "Extracted to /content\n"
          ]
        }
      ]
    },
    {
      "cell_type": "code",
      "source": [
        "import torchaudio\n",
        "from torchaudio.datasets import SPEECHCOMMANDS\n",
        "import os\n",
        "from torchaudio.transforms import Resample\n",
        "\n",
        "class CustomSpeechCommands(SPEECHCOMMANDS):\n",
        "    def __init__(self, subset: str = None, dataset_path: str = \"./\", target_sample_rate: int = 16000):\n",
        "        super().__init__(dataset_path, download=False)\n",
        "        self.target_sample_rate = target_sample_rate\n",
        "\n",
        "        def load_list(filename):\n",
        "            filepath = os.path.join(self._path, filename)\n",
        "            with open(filepath) as fileobj:\n",
        "                return [os.path.normpath(os.path.join(self._path, line.strip())) for line in fileobj]\n",
        "\n",
        "        if subset == \"validation\":\n",
        "            self._walker = load_list(\"validation_list.txt\")\n",
        "        elif subset == \"testing\":\n",
        "            self._walker = load_list(\"testing_list.txt\")\n",
        "        elif subset == \"training\":\n",
        "            excludes = load_list(\"validation_list.txt\") + load_list(\"testing_list.txt\")\n",
        "            excludes = set(excludes)\n",
        "            self._walker = [w for w in self._walker if w not in excludes]\n",
        "\n",
        "    def __getitem__(self, n):\n",
        "        # Load the waveform, sample rate, and metadata\n",
        "        fileid = self._walker[n]\n",
        "        waveform, sample_rate = torchaudio.load(fileid)\n",
        "\n",
        "        # Resample if necessary\n",
        "        if sample_rate != self.target_sample_rate:\n",
        "            resampler = Resample(orig_freq=sample_rate, new_freq=self.target_sample_rate)\n",
        "            waveform = resampler(waveform)\n",
        "\n",
        "        label = os.path.basename(os.path.dirname(fileid))\n",
        "        speaker_id = fileid.split(\"/\")[-2]  # Extract speaker ID from path\n",
        "        utterance_number = int(os.path.basename(fileid).split(\"_\")[-1].split(\".\")[0])\n",
        "\n",
        "        return waveform, self.target_sample_rate, label, speaker_id, utterance_number\n",
        "\n",
        "# Specify the path to your local dataset folder and target sample rate\n",
        "local_dataset_path = \"/content/recordings\"\n",
        "target_sample_rate = 16000\n",
        "\n",
        "# Create training and testing split using the local folder and resampling\n",
        "train_set = CustomSpeechCommands(\"training\", dataset_path=local_dataset_path, target_sample_rate=target_sample_rate)\n",
        "test_set = CustomSpeechCommands(\"testing\", dataset_path=local_dataset_path, target_sample_rate=target_sample_rate)\n",
        "\n",
        "# Example usage: access the first sample\n",
        "waveform, sample_rate, label, speaker_id, utterance_number = train_set[-1]\n"
      ],
      "metadata": {
        "id": "jgQx7JNzPtwd"
      },
      "execution_count": null,
      "outputs": []
    },
    {
      "cell_type": "code",
      "source": [
        "print(\"Shape of waveform: {}\".format(waveform.size()))\n",
        "print(\"Sample rate of waveform: {}\".format(sample_rate))\n",
        "print(\"Label of waveform: {}\".format(label))\n",
        "\n",
        "plt.plot(waveform.t().numpy());"
      ],
      "metadata": {
        "id": "Swggyz6tR90U",
        "outputId": "46022f29-92de-43e4-e667-e7ea7027f71e",
        "colab": {
          "base_uri": "https://localhost:8080/",
          "height": 483
        }
      },
      "execution_count": null,
      "outputs": [
        {
          "output_type": "stream",
          "name": "stdout",
          "text": [
            "Shape of waveform: torch.Size([2, 34475])\n",
            "Sample rate of waveform: 16000\n",
            "Label of waveform: zero\n"
          ]
        },
        {
          "output_type": "display_data",
          "data": {
            "text/plain": [
              "<Figure size 640x480 with 1 Axes>"
            ],
            "image/png": "[encoded data removed]"
          },
          "metadata": {}
        }
      ]
    },
    {
      "cell_type": "code",
      "source": [
        "new_sample_rate = 8000\n",
        "transform = torchaudio.transforms.Resample(orig_freq=sample_rate, new_freq=new_sample_rate)\n",
        "transformed = transform(waveform)\n",
        "\n",
        "ipd.Audio(transformed.numpy(), rate=new_sample_rate)"
      ],
      "metadata": {
        "id": "uhXOibgzS4Tu",
        "outputId": "f15d078c-e34c-4d60-920a-e59534bb508d",
        "colab": {
          "base_uri": "https://localhost:8080/",
          "height": 61
        }
      },
      "execution_count": null,
      "outputs": [
        {
          "output_type": "execute_result",
          "data": {
            "text/plain": [
              "<IPython.lib.display.Audio object>"
            ],
            "text/html": [
              "\n",
              "                <audio  controls=\"controls\" >\n",
              "                    <source src=\"data:audio/wav;base64,UklGRnwNAQBXQVZFZm10IBAAAAABAAIAQB8AAAB9AAAEABAAZGF0YVgNAQAAAAAAAAAAAP/////8//z//P/8//7//v/+//7//P/8//r/+v/+//7/AQABAAIAAgABAAEAAQABAAEAAQAAAAAAAAAAAPr/+v/2//b/9P/0//L/8v/y//L/+f/5//v/+/8CAAIADgAOAAcABwD+//7/AgACAA0ADQAQABAAHAAcACQAJAAmACYAGwAbAA8ADwARABEAEAAQAB0AHQAsACwALQAtACgAKAAmACYAOwA7AEoASgA9AD0ALwAvACEAIQARABEAEQARACEAIQAoACgAIQAhAAAAAADq/+r/1f/V/9f/1//w//D/7f/t/8n/yf+x/7H/tP+0/7T/tP+1/7X/sf+x/8b/xv/W/9b/5P/k/+z/7P/u/+7/8//z//D/8P8BAAEADQANAAQABAAUABQAGAAYAB0AHQAOAA4A/v/+/+n/6f//////GgAaABAAEAAQABAABQAFAPP/8//w//D/6f/p/+3/7f8VABUAEAAQAPn/+f/l/+X/3//f/+X/5f/x//H/+f/5//D/8P8PAA8AEwATABQAFAAcABwAHwAfADMAMwBGAEYAaABoAHgAeABxAHEAeQB5AH0AfQB3AHcAOgA6ABUAFQAwADAAVQBVADoAOgAZABkA3P/c/7T/tP+y/7L/z//P/+H/4f/N/83/pP+k/4r/iv9f/1//Wf9Z/5H/kf+j/6P/kv+S/4j/iP+Y/5j/x//H/9P/0//Q/9D/x//H/5P/k/+G/4b/j/+P/7X/tf/N/83/3v/e/wsACwD4//j/y//L/9X/1f8QABAAFwAXADcANwBNAE0ATABMAEEAQQA9AD0ADgAOAAAAAAAAAAAA9P/0//T/9P/r/+v/7P/s/wMAAwBBAEEAUQBRADwAPAAlACUAVQBVAJAAkABwAHAAIgAiAPr/+v/4//j/8v/y/9j/2P/t/+3/DgAOACcAJwAPAA8A8f/x/8P/w//q/+r/8f/x/8H/wf+9/73/2P/Y/+L/4v/m/+b/y//L/47/jv+k/6T/ov+i/83/zf8EAAQACQAJAPT/9P8IAAgA9//3//D/8P/a/9r/1//X//b/9v/+//7/9v/2//v/+//k/+T/8P/w//L/8v/M/8z/1f/V/wgACAAnACcAKgAqAAgACAD/////FwAXACAAIADu/+7/+P/4/ysAKwA9AD0AOAA4AEIAQgBMAEwAOgA6ABoAGgAbABsAIgAiAFkAWQB5AHkAgACAAG8AbwAdAB0A5v/m/xYAFgCAAIAAvgC+ANsA2wDgAOAAvwC/AKUApQB2AHYANgA2APL/8v/u/+7/GAAYAFEAUQBcAFwAZQBlAHAAcABSAFIAHQAdAPv/+//s/+z/2//b//3//f8cABwANwA3ABMAEwADAAMA+//7/+L/4v+I/4j/cf9x/5z/nP/R/9H/IAAgABMAEwABAAEALwAvADEAMQAEAAQADQANACQAJAAhACEAPQA9AGYAZgBSAFIAZABkAIQAhAB8AHwARQBFABsAGwAiACIAHwAfAEsASwCMAIwAhQCFAJsAmwCDAIMAWABYADgAOAAfAB8A+f/5//3//f8HAAcA/v/+//D/8P+2/7b/f/9//3//f/+C/4L/XP9c/4T/hP/g/+D/BwAHABYAFgAIAAgABwAHAML/wv+D/4P/f/9//5H/kf+K/4r/nP+c/6//r/+h/6H/xP/E/7z/vP+S/5L/sP+w/9j/2P/2//b/HwAfAB4AHgDt/+3/FwAXABcAFwDO/87/tv+2/6H/of+2/7b/7P/s/xsAGwAyADIAQwBDAEoASgAaABoAwf/B/5j/mP+C/4L/wP/A/w8ADwAoACgA3f/d/9f/1//r/+v/yv/K/+z/7P/G/8b/vP+8/83/zf/P/8//0P/Q/97/3v/M/8z/rP+s/3v/e/9Z/1n/Sv9K/1r/Wv91/3X/u/+7/93/3f+7/7v/jf+N/4b/hv+q/6r/oP+g/5P/k/+v/6//6//r/+z/7P+7/7v/b/9v/03/Tf9f/1//mP+Y/6H/of+w/7D/vv++/+P/4//j/+P/pP+k/0v/S/8y/zL/f/9//53/nf+i/6L/w//D/9n/2f/x//H/8//z/5P/k/9E/0T/hf+F/9f/1//R/9H/yv/K/9r/2v/0//T/5v/m/8H/wf+Q/5D/nf+d/8T/xP/C/8L/wP/A/7//v//Y/9j/3P/c/+D/4P/B/8H/2P/Y/+D/4P/8//z/YgBiAKAAoAC/AL8AtAC0AMQAxADaANoA9QD1APEA8QDYANgA9gD2AOoA6gDcANwAkwCTAEIAQgBxAHEAywDLAJsAmwCJAIkApQClAJgAmACeAJ4AjQCNAF0AXQBSAFIAhgCGAJUAlQCaAJoAjQCNAIIAggCJAIkAhgCGAIAAgACcAJwAlwCXAIEAgQBuAG4AWABYAFsAWwA6ADoAKQApAFkAWQBrAGsAYABgALsAuwCzALMASQBJACkAKQDq/+r/0f/R/wsACwAfAB8ABgAGACUAJQA1ADUAUgBSAJMAkwB2AHYAWABYAGUAZQBBAEEAGwAbACcAJwAXABcAAgACAOz/7P/I/8j/xv/G///////d/93/BgAGADAAMADy//L/uP+4/8L/wv8MAAwAIQAhAPH/8f/E/8T/+//7/0AAQABeAF4AdwB3AD4APgAAAAAA3f/d/9P/0//5//n/MgAyACUAJQD8//z/x//H/4b/hv+2/7b/7f/t//////8IAAgAKAAoABAAEADl/+X/yv/K/6v/q/+5/7n/o/+j/7H/sf/J/8n/t/+3/8D/wP+t/63/v/+//+z/7P/I/8j/qP+o/8n/yf/D/8P/2v/a/+n/6f/e/97/tf+1/5P/k/+r/6v/wP/A/8v/y/+1/7X/qf+p/7j/uP+j/6P/pf+l/77/vv+q/6r/ef95/2n/af+3/7f/AgACANz/3P+b/5v/pf+l/7H/sf+//7//5P/k/+T/5P/D/8P/vv++/9D/0P/L/8v/pf+l/57/nv+4/7j/qf+p/5P/k/+8/7z/4P/g/9//3//K/8r/r/+v/5H/kf+X/5f/rP+s/8T/xP+h/6H/mv+a/73/vf+d/53/fP98/5//n//f/9//7f/t/woACgDy//L/5f/l/xEAEQAqACoAQwBDAAEAAQDJ/8n/5v/m/w0ADQAXABcAGgAaAC0ALQAtAC0AGAAYABYAFgAsACwAIAAgAAsACwAAAAAA2P/Y/6//r/+9/73/2f/Z/8D/wP/K/8r/5f/l/+P/4//b/9v/6//r/w0ADQAXABcANwA3AF8AXwBiAGIASQBJAD0APQBAAEAAQQBBADAAMADx//H/rf+t/9j/2P8WABYAMAAwACYAJgA3ADcARgBGADgAOAACAAIA8v/y/xIAEgAiACIARwBHAG8AbwCRAJEAfAB8AG4AbgCZAJkAZQBlAGYAZgCVAJUA3ADcAPMA8wDoAOgAxQDFAIsAiwBQAFAAPwA/AG0AbQBeAF4ARwBHADcANwAJAAkAGQAZAEoASgA5ADkAAwADAAAAAAAKAAoAHwAfAAoACgDo/+j/CQAJAEUARQCQAJAAzQDNAL4AvgCjAKMAgQCBAC8ALwAFAAUARwBHAFEAUQBdAF0AVgBWACsAKwD/////4v/i/8z/zP/h/+H/NQA1AIUAhQCrAKsAhACEADUANQAuAC4ARgBGAFcAVwBbAFsAcABwAI4AjgCbAJsAfQB9AEsASwAWABYA8v/y/7X/tf+T/5P/2v/a/xUAFQAkACQACwALAKn/qf9O/07/XP9c/4f/h/+f/5//tv+2/+7/7v/0//T/AAAAAPT/9P/2//b/+f/5/8X/xf+5/7n/3P/c/9//3/+//7//wv/C/6b/pv+s/6z/wf/B/9r/2v/s/+z/vP+8/2//b/80/zT/Ef8R/z//P/+j/6P/7//v/+X/5f/D/8P/xv/G/9f/1//S/9L/4v/i/+n/6f/+//7/GgAaACwALAALAAsA/v/+/wAAAADA/8D/i/+L/6P/o/+d/53/if+J/8v/y//v/+//CgAKAAkACQD2//b/2f/Z/6z/rP+z/7P/yP/I/6D/oP+R/5H/z//P//3//f/o/+j/4f/h/xQAFABVAFUAKgAqABQAFAAAAAAA5v/m/57/nv+E/4T/3f/d/wMAAwDx//H/yv/K/+3/7f8hACEAKQApABEAEQAqACoASABIADUANQAdAB0AAQABACEAIQASABIAxv/G/5D/kP+f/5//uP+4/6v/q/+j/6P/r/+v/+X/5f8IAAgAMwAzAAoACgDn/+f/zv/O/7r/uv/M/8z/3P/c/9z/3P/A/8D/df91/2j/aP+w/7D/yP/I/7D/sP+o/6j/tf+1/7j/uP/d/93/BQAFAAsACwACAAIAIQAhACEAIQAkACQA9f/1//X/9f/e/97/mv+a/6D/oP+4/7j/z//P/9X/1f/h/+H/yP/I/8D/wP/I/8j/uv+6/8H/wf+5/7n/1//X/wsACwAeAB4AHQAdABQAFADj/+P/2//b/9v/2//x//H/DQANAAYABgDu/+7/2//b/9j/2P+5/7n/vf+9//P/8/8gACAANAA0ACUAJQBNAE0AeAB4AF4AXgCNAI0AuQC5AJ8AnwCXAJcApQClALoAugDQANAA3ADcAAIBAgH/AP8A3gDeAJ8AnwBjAGMAiACIALYAtgCwALAAjwCPAF4AXgAbABsADgAOACQAJAA9AD0AGwAbAPn/+f8EAAQADQANAA0ADQAPAA8AOQA5AHwAfACNAI0AigCKAGwAbABKAEoAFwAXAAQABAAXABcA+f/5/w0ADQAdAB0A/f/9/+3/7f/B/8H/zf/N/wYABgAAAAAA/////zEAMQBzAHMAnQCdAKEAoQCdAJ0AbABsAD8APwA5ADkAQgBCAC8ALwAbABsAIAAgADIAMgBKAEoAMgAyAMP/w/+t/63/4f/h/93/3f/W/9b/HAAcADkAOQAsACwARgBGAC0ALQA/AD8AXwBfAHAAcABUAFQAOQA5ABoAGgAdAB0ARQBFAC4ALgBXAFcAUABQAGIAYgBWAFYADwAPAMb/xv/B/8H/w//D/8b/xv/f/9//AAAAAPH/8f/b/9v/rv+u/53/nf+f/5//hP+E/57/nv+8/7z/r/+v/8j/yP/q/+r/5f/l/6//r/+x/7H/8P/w/9P/0/+q/6r/o/+j/6D/oP9u/27/Pv8+/zj/OP9h/2H/fP98/2T/ZP+W/5b/ev96/2j/aP9z/3P/h/+H/53/nf+d/53/lP+U/5v/m/+m/6b/hf+F/1X/Vf86/zr/Of85/0v/S/95/3n/h/+H/3v/e/9J/0n/K/8r/y//L/9u/27/s/+z/+z/7P8EAAQADgAOADMAMwBEAEQASgBKADYANgAeAB4AKgAqAFsAWwBZAFkAZwBnAEAAQAADAAMAAAAAAPP/8//z//P/3f/d/+3/7f/3//f/BQAFANj/2P+9/73/v/+//9j/2P/u/+7/9//3/wAAAAAlACUAewB7AGIAYgB9AH0AvQC9AKsAqwBaAFoAEQARAAIAAgAvAC8AYQBhAEAAQAA9AD0ALQAtABwAHAD8//z/7f/t//7//v/r/+v/BQAFAAMAAwDW/9b/wf/B/8v/y//G/8b/3f/d/9r/2v/U/9T/5f/l//P/8//s/+z/9//3/y0ALQBDAEMAMgAyAF8AXwBjAGMAAwADAPf/9/8/AD8AZgBmAIQAhABbAFsAUABQAEAAQAAYABgA6P/o/+r/6v/2//b/1f/V/wAAAAA5ADkAQwBDAEQARABJAEkAXQBdAHYAdgBrAGsAXABcAH8AfwB7AHsAZgBmAGQAZAAyADIAOgA6AF8AXwBgAGAATQBNACQAJAAVABUAFgAWAPX/9f8AAAAA6//r/wQABAAdAB0APgA+ADUANQAkACQAAgACACkAKQBWAFYAPgA+AAcABwARABEANgA2ABgAGAD6//r/EAAQAE0ATQBBAEEACQAJALb/tv9//3//a/9r/5z/nP+3/7f/sP+w/9b/1v/k/+T/xv/G/7//v/++/77/wv/C/9L/0v+7/7v/tf+1/5f/l//P/8//WQBZAEMAQwAKAAoA6v/q/9H/0f/S/9L/7P/s//v/+/8pACkAPAA8ABkAGQD/////6v/q/7X/tf++/77//P/8//r/+v/7//v/DgAOADwAPABQAFAARgBGAPf/9//6//r/IQAhACEAIQA7ADsAMAAwAFQAVABYAFgATwBPAGUAZQCnAKcAcwBzAG0AbQCBAIEAegB6AKIAogCFAIUANQA1AOD/4P/S/9L/x//H/5v/m/+M/4z/wv/C/wAAAADR/9H/hf+F/3T/dP+W/5b/0//T//j/+P/u/+7/4//j/wQABAAFAAUA0v/S/9b/1v/7//v/6//r/+z/7P/g/+D/8v/y/wEAAQACAAIA4//j/8D/wP+0/7T/3//f/wIAAgAwADAACgAKAKb/pv93/3f/fP98/7X/tf8TABMAAwADALr/uv+v/6//yP/I/+D/4P/q/+r/7f/t/+n/6f/1//X/BgAGAB4AHgAZABkAQgBCAGMAYwBNAE0AIwAjAPH/8f/q/+r//P/8//3//f8zADMAHgAeALn/uf9y/3L/cf9x/2j/aP83/zf/aP9o/7D/sP+d/53/Yv9i/5D/kP/M/8z/+P/4/+3/7f/Z/9n/2//b/73/vf/y//L/NAA0AC8ALwDn/+f/wf/B/+T/5P8fAB8ABwAHAOD/4P/E/8T/v/+//9n/2f+y/7L/jf+N/2v/a/9d/13/Yv9i/2T/ZP9//3//pP+k//7//v84ADgAYQBhAIIAggB0AHQAhACEAIcAhwCIAIgAnQCdAI4AjgBiAGIAMgAyAE0ATQBoAGgAXABcADAAMAAKAAoAxf/F/9P/0/8mACYAhgCGAK0ArQCQAJAAmgCaAK4ArgCLAIsAWABYAEkASQBCAEIARwBHABwAHAD/////AAAAAAsACwAsACwAbABsAK4ArgCBAIEATABMAF4AXgBRAFEASABIABoAGgD2//b/w//D/7//v//r/+v/8f/x/xEAEQAaABoA5f/l/57/nv/B/8H/AwADAAkACQAHAAcA4//j/9z/3P/s/+z/4P/g/+n/6f8BAAEAMwAzAEsASwAcABwA/v/+/9j/2P+y/7L/l/+X/53/nf+v/6//lf+V/4T/hP+d/53/o/+j/5n/mf+d/53/nP+c/37/fv+G/4b/sv+y/+3/7f/7//v/HQAdADkAOQAdAB0AEwATAAMAAwAAAAAA6P/o/8//z/+//7///f/9/zgAOAA+AD4AIgAiACEAIQD9//3/7P/s/wYABgDx//H/1P/U/6n/qf+m/6b/yf/J/77/vv/O/87/7P/s/x8AHwA3ADcANAA0ACgAKABHAEcAbwBvAIcAhwBbAFsATABMAKQApAC2ALYAZQBlAFgAWAB7AHsAgwCDAGYAZgA5ADkAGwAbAPv/+//j/+P/9//3/xcAFwBRAFEANQA1ACcAJwA9AD0AMQAxABAAEAASABIACQAJAPr/+v/4//j/4//j/87/zv/Q/9D/5//n/8n/yf+o/6j/kv+S/37/fv95/3n/Yf9h/67/rv8AAAAANQA1ADUANQAbABsA4P/g/87/zv/g/+D/6P/o/9//3//j/+P/4P/g//T/9P/T/9P/fP98/1L/Uv9m/2b/lf+V/9P/0/8GAAYA8v/y//f/9//x//H/nv+e/3z/fP+G/4b/tP+0/9X/1f8DAAMARQBFADsAOwAYABgAAQABAOz/7P/R/9H/0//T/9//3/8EAAQAMAAwACgAKAAQABAA+f/5/7n/uf/m/+b/DgAOAAoACgA4ADgAWABYAHkAeQCCAIIAbwBvAJsAmwCsAKwAeAB4AFcAVwBdAF0AXQBdAHwAfACqAKoAqACoANIA0gDTANMA4ADgAMQAxABzAHMAQABAAC0ALQBCAEIAfQB9AGkAaQA6ADoAPgA+AFgAWAB3AHcAoQChAGgAaAApACkAUQBRAHUAdQCYAJgAxQDFAKsAqwBXAFcA+f/5/67/rv+a/5r/oP+g/8D/wP8AAAAA0f/R/8D/wP/G/8b/4v/i/+D/4P/s/+z/yv/K/5v/m/+j/6P/rf+t/9f/1//S/9L/vP+8/7H/sf+i/6L/bP9s/07/Tv94/3j/gP+A/5b/lv+x/7H/3v/e//j/+P/o/+j/nf+d/4j/iP+h/6H/Zv9m/zr/Ov9J/0n/bf9t/5D/kP/T/9P/9P/0/+z/7P+n/6f/df91/3f/d/+G/4b/hf+F/7v/u//y//L/HgAeAFQAVAB/AH8AQwBDAAgACAAPAA8ADAAMACsAKwA5ADkAPwA/AGcAZwCHAIcAnACcAI8AjwBXAFcAJAAkABgAGAAqACoAJAAkAO//7//b/9v/4P/g/8z/zP+Z/5n/j/+P/6f/p//c/9z/5f/l/97/3v/o/+j/zP/M/9D/0P/f/9//3P/c/+H/4f8PAA8ALwAvACQAJAADAAMAx//H/4f/h/82/zb/Ov86/27/bv+H/4f/pf+l/3z/fP98/3z/if+J/4X/hf+E/4T/tP+0/7n/uf+3/7f/DgAOADQANAAzADMAHwAfACMAIwAWABYAAAAAAAYABgAKAAoAQABAAC4ALgD4//j/5f/l/9f/1//h/+H/GQAZAFcAVwBOAE4AQwBDACMAIwBSAFIAZQBlAFoAWgBIAEgAeQB5AIgAiABgAGAAUgBSAHIAcgCVAJUAfAB8AGYAZgBiAGIAaABoAGIAYgBtAG0AmwCbAJcAlwCzALMAvgC+AJcAlwB+AH4AjgCOAKsAqwDHAMcAzQDNAKgAqACRAJEAegB6AGkAaQBjAGMANQA1ANv/2/94/3j/Tv9O/0//T/9X/1f/f/9//4T/hP9i/2L/Wv9a/zn/Of8c/xz/Uv9S/3z/fP+P/4//v/+//9j/2P/e/97/0f/R/7z/vP+f/5//lv+W/3j/eP+G/4b/wf/B//H/8f8eAB4ABAAEAPj/+P8mACYARABEAJUAlQDFAMUAeAB4APH/8f+0/7T/3P/c/zcANwBDAEMAFgAWADcANwCHAIcAegB6AF8AXwBvAG8AeAB4ADAAMADl/+X/4f/h/zAAMAB1AHUAdAB0AFsAWwD6//r/n/+f/3//f//P/8//FgAWAPr/+v+x/7H/ff99/07/Tv9L/0v/hv+G/83/zf/n/+f/GgAaAD0APQA9AD0AZABkADoAOgDR/9H/q/+r/7v/u//Z/9n/EwATAC4ALgAwADAALQAtAPf/9//r/+v/RQBFAHIAcgCZAJkApACkAIsAiwBmAGYAjACMAIcAhwBPAE8AEQARAAoACgAWABYAAQABABgAGAD+//7/0f/R/6r/qv+5/7n/2f/Z/97/3v/h/+H/2f/Z/7//v//K/8r/5//n/8T/xP+S/5L/0v/S/+//7/+8/7z/n/+f/3//f/+d/53/w//D/7//v//T/9P/6//r/8L/wv+L/4v/Yv9i/xf/F/9M/0z/Sv9K/y7/Lv9f/1//l/+X/5b/lv+G/4b/cP9w/3j/eP+j/6P/vP+8/9r/2v/r/+v//v/+/+H/4f/e/97/wv/C/97/3v8dAB0ARgBGAFwAXABMAEwAFwAXALr/uv+z/7P/3v/e/+L/4v/R/9H/EwATAFsAWwBlAGUAMwAzACQAJAA4ADgAQgBCAGgAaABpAGkAaABoAGEAYQBLAEsAOQA5APP/8//8//z/MgAyAHcAdwDXANcAJQElARIBEgGuAK4AOQA5AN7/3v/6//r/PwA/AJAAkADbANsA7ADsAI8AjwAuAC4A/////+H/4f+l/6X/hf+F/+f/5/8uAC4ARgBGAGIAYgBLAEsA2P/Y/7H/sf+S/5L/jf+N/4r/iv+V/5X/of+h/4//j/+X/5f/rv+u/8P/w//A/8D/3v/e/9b/1v+5/7n/1f/V/wYABgAxADEAGQAZAAAAAAAbABsAGwAbADgAOACCAIIAzgDOANMA0wDAAMAA7gDuANMA0wCKAIoAVwBXAFwAXABIAEgAVwBXAGgAaABNAE0AQgBCAEoASgBMAEwAOAA4ABEAEQDN/83/2P/Y/wMAAwAmACYA3v/e/73/vf/8//z/WwBbAHsAewCeAJ4AdgB2ADgAOAArACsACAAIANz/3P/N/83/v/+//8v/y/8CAAIA7//v//r/+v8eAB4A+v/6//X/9f/w//D/1f/V/7v/u//w//D/OQA5AEgASAB1AHUAawBrAAwADADd/93/3f/d//X/9f/9//3/4P/g/77/vv+h/6H/wP/A/97/3v+S/5L/cP9w/5b/lv+//7//8v/y//T/9P/f/9//tf+1/0v/S/8N/w3//P78/hT/FP8q/yr/fP98/6r/qv+j/6P/of+h/7X/tf+v/6//e/97/4H/gf+W/5b/7v/u/0MAQwBWAFYAHwAfAA0ADQBBAEEAbQBtAH0AfQBeAF4AZgBmAGoAagCdAJ0AtwC3AH8AfwBCAEIAMwAzAG0AbQDIAMgADwEPAQQBBAG/AL8AkgCSAHgAeABoAGgAPwA/ACMAIwAAAAAA7f/t/9//3/+1/7X/kv+S/53/nf+I/4j/dP90/33/ff+//7//9v/2/+b/5v/K/8r/3P/c/+r/6v/4//j/9f/1/7T/tP+q/6r/nP+c/6X/pf93/3f/bv9u/2//b/9h/2H/Xv9e/0f/R/9Q/1D/av9q/5r/mv+c/5z/zv/O/wwADAAMAAwA3P/c/9//3//1//X/BwAHABQAFAATABMA6P/o/7v/u/+U/5T/mf+Z/4P/g/9z/3P/iP+I/6j/qP/1//X/+f/5/+L/4v+b/5v/bP9s/23/bf96/3r/j/+P/8r/yv8AAAAAMwAzAGUAZQBWAFYAUQBRAF4AXgBfAF8AWABYAFwAXACGAIYAdAB0ABoAGgDg/+D//////yUAJQAoACgAGgAaABAAEAAPAA8AFwAXAAkACQDi/+L/4v/i/xUAFQBNAE0APgA+ADsAOwAsACwANAA0AFwAXABLAEsAEAAQAN3/3f/H/8f/tf+1//f/9/87ADsAIwAjAO3/7f+r/6v/lf+V/3X/df+4/7j/5v/m/wMAAwAbABsAPAA8ADsAOwBPAE8AggCCAF4AXgBSAFIAMwAzAFYAVgBuAG4AcABwAEMAQwAjACMADQANAPP/8//t/+3/9f/1/xAAEABoAGgAtAC0AOMA4wD2APYAwQDBAHwAfAA3ADcAUQBRAIcAhwDQANAA2QDZANIA0gCXAJcATQBNADkAOQA/AD8AWwBbAHUAdQCIAIgAewB7AGgAaABCAEIA9v/2/7f/t/+k/6T/u/+7/wUABQA/AD8ATABMABwAHADn/+f/7f/t/+L/4v/U/9T/+f/5/1MAUwBWAFYAGQAZAN3/3f8MAAwAIQAhAEgASABTAFMAXQBdAG4AbgBeAF4AQQBBAAkACQD2//b/3//f/63/rf+e/57/zf/N/wEAAQDV/9X/Xf9d/wb/Bv8U/xT/Yv9i/33/ff98/3z/pf+l//H/8f/2//b/0f/R/7j/uP+6/7r/v/+///b/9v8bABsADgAOAPP/8//n/+f/+//7/9j/2P+e/57/fv9+/3//f/+S/5L/uf+5/xQAFAAcABwACgAKABMAEwBmAGYApQClALEAsQCaAJoAiQCJAJQAlABOAE4ANAA0ADcANwBTAFMAPQA9ABkAGQDY/9j/vv++/7v/u/+d/53/h/+H/1r/Wv8y/zL/Wv9a/6v/q/+x/7H/pf+l/8j/yP+k/6T/eP94/37/fv9//3//fv9+/33/ff+a/5r/vf+9//X/9f+x/7H/Q/9D/xH/Ef/3/vf+uv66/t3+3f7k/uT+DP8M/2v/a/+X/5f/jP+M/0T/RP80/zT/Qv9C/1L/Uv9m/2b/d/93/4X/hf/Z/9n/GgAaABMAEwDs/+z/1f/V/xAAEAA7ADsAHgAeAAIAAgDY/9j/yv/K/7r/uv+X/5f/lf+V/7j/uP/6//r/HgAeAB4AHgDw//D/xP/E/47/jv+N/43/qv+q/8n/yf/e/97/4//j/y0ALQBcAFwAZABkACMAIwAiACIASgBKAHwAfACBAIEAWABYAFIAUgBNAE0AYQBhAEgASABRAFEAcwBzAL4AvgDgAOAAwQDBAHYAdgA3ADcAIAAgACUAJQA+AD4AOQA5AE4ATgBbAFsARgBGADsAOwBWAFYANgA2AA0ADQArACsAYQBhAKUApQCkAKQAcwBzAFAAUAAOAA4ADwAPABoAGgALAAsAUgBSADAAMAD///////////3//f/4//j/JgAmAJYAlgDRANEABwEHAQEBAQHrAOsAxADEAH8AfwBXAFcAdQB1AJ0AnQChAKEApQClAIsAiwB3AHcATABMAA0ADQDe/97/+v/6/1AAUABdAF0AXABcAGoAagBiAGIAawBrAGUAZQBFAEUAEAAQAAQABAAeAB4ASwBLAF8AXwAoACgA2//b/7//v//p/+n/HAAcAF0AXQA9AD0ACQAJAA0ADQBSAFIAaABoAG0AbQCFAIUAiACIAF0AXQAVABUA6v/q/+z/7P8IAAgAUwBTALoAugCsAKwAewB7AE8ATwAoACgACAAIAOH/4f+5/7n/zf/N/z4APgCAAIAAagBqAFsAWwD2//b/jv+O/2L/Yv9u/27/hP+E/5H/kf+U/5T/g/+D/17/Xv9A/0D/Uv9S/4H/gf+E/4T/fP98/4z/jP+W/5b/ev96/zj/OP/s/uz+1/7X/q7+rv6o/qj+v/6//jz/PP9i/2L/Rv9G/0b/Rv9Q/1D/gf+B/7r/uv/5//n/DwAPAC8ALwBcAFwAMQAxAOX/5f+4/7j/vv++/+r/6v8FAAUA6f/p/+n/6f8AAAAA6v/q//////8FAAUAHgAeADMAMwBGAEYASABIACYAJgDl/+X/yP/I/83/zf/C/8L/zf/N/+j/6P8EAAQA8v/y//z//P/R/9H/m/+b/67/rv/w//D/AAAAABAAEAAgACAAGQAZAN//3/+p/6n/mf+Z/47/jv+J/4n/kf+R/7f/t//R/9H/5//n//r/+v/m/+b/5v/m/w8ADwAMAAwAIgAiACkAKQD4//j/DQANAEAAQABCAEIAQABAAD0APQBFAEUANQA1AAAAAADI/8j/mv+a/5H/kf+2/7b/9f/1/yoAKgBTAFMAZABkAGoAagBWAFYAJAAkAOr/6v/X/9f/AAAAAEsASwBCAEIA9//3/7v/u//R/9H/4P/g/ygAKAAFAAUA3f/d/+L/4v/z//P/BwAHAAAAAADE/8T/d/93/7f/t//6//r/2v/a/4r/iv9//3//pP+k/6f/p/+h/6H/qv+q//P/8/8SABIAHQAdAAAAAAAZABkAJQAlAEAAQABfAF8AcQBxAD8APwABAAEAsv+y/6f/p//D/8P/1f/V/xkAGQA/AD8AOAA4AP/////M/8z/v/+//8v/y/8JAAkATwBPAIgAiACHAIcAiwCLAI4AjgCNAI0AhwCHALMAswDOAM4AuwC7AOgA6AC/AL8AYQBhAGsAawCYAJgAuAC4ALwAvACrAKsAkgCSALsAuwDnAOcAtQC1AHkAeQBFAEUAbABsALUAtQDYANgAtAC0ALAAsACHAIcAVABUADIAMgAJAAkAJgAmACoAKgBCAEIAFQAVABAAEAASABIA5f/l/7r/uv/C/8L/4P/g/yUAJQCPAI8AiACIAGMAYwBOAE4AOQA5ABcAFwAkACQASgBKAEYARgBBAEEATQBNAJ4AngCsAKwAsgCyAJgAmABcAFwAUABQAEgASABPAE8AeQB5AHAAcAAxADEA/P/8/8H/wf+O/47/bv9u/1P/U/9z/3P/fv9+/27/bv9f/1//jP+M/3b/dv8//z//Q/9D/1n/Wf+F/4X/fv9+/0v/S/8l/yX/H/8f/zD/MP9T/1P/bv9u/4r/iv+S/5L/nf+d/4v/i/+Q/5D/qf+p/8//z//B/8H/1v/W//7//v8bABsAGgAaAE8ATwArACsA8P/w/8j/yP/d/93/IQAhAPf/9//k/+T/CwALABwAHAAJAAkAMwAzAEAAQAA7ADsAQQBBACcAJwDl/+X/p/+n/4r/iv9y/3L/Yf9h/1//X/90/3T/ff99/2r/av+R/5H/nf+d/2//b/81/zX/G/8b/y3/Lf9D/0P/Pf89/13/Xf+g/6D/xf/F/6//r/+Q/5D/bv9u/2H/Yf+Z/5n/0P/Q/+n/6f/c/9z/wv/C/7P/s//2//b/KwArAAQABADD/8P/jP+M/6L/ov/W/9b/6v/q//z//P/0//T/+v/6/+v/6/8kACQAQgBCAFwAXABcAFwAaQBpAGsAawBiAGIALgAuAOv/6//P/8//t/+3/9D/0P/c/9z/3f/d/8n/yf+7/7v/7P/s/9//3//l/+X/1P/U/7b/tv+L/4v/f/9//4P/g/+w/7D/u/+7/7//v//4//j/MwAzAGoAagBXAFcAPQA9ACgAKAAjACMAGAAYAFQAVACCAIIAcwBzAHAAcABDAEMARABEAEkASQAGAAYA6//r//v/+/8EAAQAFgAWAFsAWwBTAFMAQQBBAEIAQgAiACIABQAFAAEAAQAmACYASQBJAGUAZQCHAIcAeAB4ADYANgAjACMAJAAkACEAIQD3//f/3P/c/yIAIgBkAGQAZABkAEMAQwAnACcASgBKAIIAggCPAI8AeQB5AJsAmwCzALMAqgCqAIUAhQC4ALgA7gDuAOQA5ADqAOoAAgECAdkA2QDAAMAAkQCRAH8AfwCNAI0AiwCLAGgAaAB7AHsAfAB8AE0ATQAoACgANgA2AE4ATgBdAF0AWgBaAEEAQQBTAFMAVwBXACsAKwAaABoAIwAjAB8AHwAmACYAMgAyAFUAVQBNAE0AQwBDACwALAA6ADoAWQBZAGQAZABhAGEAZwBnAFEAUQBAAEAAQABAAD4APgANAA0A/////wIAAgABAAEACgAKABwAHAD5//n/2f/Z/7z/vP+e/57/mP+Y/5r/mv+x/7H/0v/S/+H/4f/V/9X/o/+j/6D/oP+K/4r/Zf9l/27/bv+L/4v/tP+0/5r/mv93/3f/Z/9n/4T/hP+S/5L/qP+o/4n/if+E/4T/tv+2/9D/0P+l/6X/xf/F/9z/3P8TABMAHgAeAAAAAADP/8//tv+2/3r/ev9C/0L/Y/9j/3T/dP+v/6//0//T/4L/gv9D/0P/aP9o/2T/ZP9e/17/Yv9i/57/nv+8/7z/if+J/3n/ef9j/2P/Zv9m/1//X/9N/03/Pv8+/yT/JP8a/xr/Nv82/0j/SP8q/yr/Bv8G/xH/Ef8r/yv/T/9P/1P/U/9l/2X/lv+W/4X/hf9k/2T/W/9b/1j/WP+H/4f/o/+j/9z/3P8GAAYAAAAAAAQABAAEAAQADQANADoAOgCBAIEAhwCHAIkAiQCZAJkAeQB5AEYARgAQABAA0//T/6r/qv/F/8X/8f/x/wgACADy//L/2//b//f/9//3//f/3//f//3//f8eAB4AIAAgABYAFgBwAHAA3wDfAMcAxwCEAIQAawBrAFoAWgBYAFgAUgBSAF8AXwBlAGUAagBqADwAPAAxADEAOwA7ABAAEAAoACgAHgAeAFAAUACIAIgAmQCZAKUApQCeAJ4ApACkAKUApQDQANAA7gDuAMsAywClAKUAtwC3ALIAsgCjAKMAqQCpALsAuwDYANgA4QDhALkAuQCbAJsAkwCTAEYARgDm/+b/uf+5/97/3v8DAAMAQABAAGUAZQBnAGcAdAB0ADgAOADp/+n/x//H//r/+v8pACkAUgBSAGIAYgBGAEYAMgAyAAkACQD1//X/5f/l/93/3f+0/7T/qP+o/8f/x//X/9f/uf+5/73/vf/L/8v/+f/5/0UARQBqAGoARwBHAAQABADa/9r/9f/1/yMAIwAeAB4AEwATACwALABFAEUAIAAgABYAFgDp/+n/u/+7/7f/t/+7/7v/vv++/8j/yP8FAAUAPgA+AD8APwAhACEA3//f/8L/wv+9/73/mf+Z/4P/g/99/33/lf+V//P/8/8PAA8A/v/+///////P/8//if+J/4L/gv+3/7f/5v/m/xwAHABHAEcASgBKACEAIQCi/6L/Yf9h/1v/W/+g/6D/8P/w//P/8//3//f/FgAWAFwAXACOAI4AkACQAEIAQgAuAC4AUABQAHMAcwCaAJoAZgBmAEkASQBtAG0AfgB+AEEAQQADAAMACwALAAIAAgDS/9L/xP/E/8n/yf/F/8X/qf+p/5//n//G/8b/wP/A/3r/ev+6/7r/DQANACkAKQAgACAAIQAhAB4AHgBDAEMAZwBnADEAMQAkACQAQwBDAFkAWQBGAEYATgBOAB8AHwDT/9P/rf+t/8L/wv+r/6v/tf+1/7j/uP+r/6v/n/+f/2L/Yv8w/zD/GP8Y/xH/Ef8k/yT/P/8//13/Xf9d/13/Ov86/1L/Uv9j/2P/j/+P/5f/l/+w/7D/uf+5/7H/sf+y/7L/3f/d/+f/5//T/9P/2f/Z/4n/if93/3f/fP98/27/bv9+/37/jv+O/53/nf+h/6H/0v/S/wUABQBGAEYAGQAZAAsACwBwAHAAcABwAGcAZwB7AHsAcwBzAFcAVwBoAGgAcQBxAGoAagBQAFAAaQBpAGgAaAAsACwACgAKADQANABZAFkAWQBZAGkAaQBHAEcABwAHANn/2f+u/67/0P/Q//7//v/l/+X//v/+//z//P/t/+3/FAAUAEQARAAgACAA8f/x/6H/of/C/8L/cABwAKwArACEAIQAdgB2AGEAYQBGAEYAPAA8ACkAKQBvAG8AjACMAH4AfgBsAGwAMQAxACIAIgA3ADcATQBNACoAKgAXABcAMQAxAEIAQgBVAFUAJAAkAD0APQBkAGQAdgB2AJUAlQCvAK8AvgC+ALMAswB1AHUABgAGADYANgBrAGsAWgBaACYAJgADAAMAEgASADEAMQAeAB4A3f/d/7P/s/9y/3L/aP9o/2b/Zv9h/2H/uf+5/+7/7v/f/9//ef95/zX/Nf8T/xP/D/8P/yv/K/+H/4f/0f/R/6//r/+Q/5D/iP+I/5L/kv+j/6P/0f/R/+z/7P8RABEACgAKAOX/5f+a/5r/NP80/w//D/9C/0L/Yf9h/2X/Zf+U/5T/zP/M/9D/0P/M/8z/wf/B/7P/s/+r/6v/1P/U/w8ADwBGAEYAiACIAJkAmQB6AHoATABMADwAPAA8ADwAaABoAIwAjADZANkABwEHAbgAuAA/AD8AJwAnAFIAUgCSAJIArwCvAKUApQCOAI4ATwBPAA0ADQAnACcAbQBtAGMAYwArACsAIAAgAGEAYQB/AH8AdwB3AIAAgABtAG0AKAAoABIAEgACAAIA9//3/xUAFQA9AD0ANQA1ACYAJgAAAAAANQA1AIUAhQCFAIUAYABgAFAAUAA4ADgALwAvACMAIwDW/9b/3P/c/woACgAsACwAOQA5AF0AXQBrAGsAUQBRACAAIAAAAAAACAAIABMAEwAcABwAEgASANf/1//G/8b/0v/S/7//v/9f/1//YP9g/53/nf/8//z/FwAXABsAGwBEAEQAHwAfAA4ADgAXABcA8P/w/6X/pf/t/+3/RwBHAEgASABCAEIANQA1ACIAIgDD/8P/Rv9G/yr/Kv+a/5r//P/8/wYABgDi/+L/lP+U/3D/cP9H/0f/NP80/3v/e/+v/6//tv+2/6P/o/+c/5z/Yf9h/1z/XP9o/2j/b/9v/03/Tf9z/3P/yf/J/77/vv+a/5r/cP9w/2T/ZP9s/2z/uv+6/wAAAAANAA0A8v/y/77/vv99/33/Wf9Z/4b/hv+z/7P/1v/W/+//7//O/87/kv+S/1b/Vv9l/2X/lf+V/8r/yv/P/8//CgAKADsAOwBBAEEAKwArAC8ALwArACsAYABgAFwAXAA7ADsAOgA6ADYANgBQAFAAdgB2AIoAigDbANsACQEJAfgA+ADFAMUAowCjALEAsQC7ALsAlwCXAHgAeAB3AHcAegB6AKMAowCFAIUAYgBiAHgAeABuAG4AQwBDAEgASABwAHAAdwB3AGwAbABrAGsAewB7AHgAeABgAGAASQBJACcAJwAUABQA/////9f/1/+3/7f/zv/O///////8//z/4P/g/4P/g/9Z/1n/Wf9Z/4D/gP/K/8r/BwAHAB0AHQAAAAAA8v/y/8r/yv/D/8P/2v/a/7X/tf+o/6j/zv/O/+D/4P//////8v/y/8H/wf+j/6P/yf/J//z//P85ADkARQBFACQAJAARABEA6f/p/+//7/8nACcAYABgAEwATABPAE8AOgA6ACEAIQDx//H/4//j/wEAAQD/////3f/d/87/zv+//7//wv/C/67/rv9Y/1j/G/8b/zf/N/9r/2v/pf+l/9T/1P/D/8P/xf/F/8T/xP/R/9H/wf/B//7//v9BAEEAUABQAHsAewBUAFQAGgAaAOT/5P+l/6X/cv9y/4T/hP+v/6//wf/B/8P/w/+u/67/t/+3/+b/5v/g/+D/4//j/wEAAQD+//7/FQAVACEAIQDs/+z/7v/u/8//z//W/9b/LAAsADgAOABAAEAAQQBBADkAOQBCAEIAVwBXAEEAQQBCAEIACgAKACQAJACvAK8AxgDGAIoAigCNAI0AYABgACsAKwDr/+v/uv+6/+H/4f8XABcAOAA4AGQAZABzAHMARQBFADEAMQDv/+//wf/B/97/3v/0//T/NAA0AGsAawBBAEEAVQBVAGkAaQA8ADwAIQAhACcAJwD0//T/2P/Y/7v/u/+Q/5D/f/9//27/bv9M/0z/Wv9a/1b/Vv8d/x3/Gv8a/1z/XP+h/6H/xP/E/7X/tf+B/4H/XP9c/6P/o/8oACgAagBqAEsASwA8ADwA/////6L/ov+Y/5j/qf+p/wUABQBRAFEAeAB4AHcAdwBLAEsAKwArADUANQAyADIAPAA8AKAAoAD1APUA9QD1ALQAtACvAK8AxQDFALkAuQCEAIQASABIADAAMAAFAAUAHAAcAAkACQAYABgABQAFACoAKgA6ADoADAAMAAgACADg/+D/2v/a//////8yADIAVQBVAEoASgAwADAAMwAzAAQABAAQABAAEgASAP3//f8TABMAHwAfAPv/+//a/9r/BAAEAEAAQABtAG0AGAAYAO//7//o/+j/+P/4/yQAJAA8ADwAWgBaADgAOAAwADAATQBNAF8AXwBRAFEAYwBjAJEAkQBvAG8AcgByAMUAxQDmAOYAzgDOAEgASAD5//n/tv+2/7L/sv/F/8X/CwALAC8ALwAKAAoAGgAaAOv/6//H/8f/wf/B/7T/tP+s/6z/+f/5/0wATAB4AHgAgACAAFAAUADq/+r/mf+Z/8D/wP/t/+3/6//r/9j/2P/U/9T/vv++/5j/mP94/3j/Yf9h/4T/hP+5/7n/1P/U/8v/y//i/+L/2f/Z/7v/u/+U/5T/sP+w/73/vf/b/9v/sv+y/5v/m/+Y/5j/jf+N/6n/qf/e/97/9f/1/73/vf+C/4L/kP+Q/6T/pP9//3//l/+X/7H/sf++/77/t/+3/3r/ev9V/1X/LP8s/zz/PP9L/0v/Lf8t/0P/Q/9v/2//gf+B/5z/nP+6/7r/p/+n/53/nf+k/6T/h/+H/3v/e/9d/13/bP9s/7v/u/+w/7D/hv+G/5z/nP+6/7r/+f/5//z//P/m/+b/5//n/+X/5f/h/+H/5//n//b/9v8hACEAUgBSAGgAaABAAEAAEAAQAFsAWwBpAGkAPwA/AEYARgA2ADYAIAAgACYAJgAZABkAFAAUAE0ATQB/AH8AmACYAJ0AnQB4AHgAZgBmAFUAVQBtAG0AgQCBAJ4AngDJAMkAwwDDAKkAqQCmAKYAswCzAIYAhgCPAI8AqQCpAKQApADEAMQAvQC9AIEAgQBsAGwAbABsAIEAgQBuAG4AZgBmAIIAggCCAIIAQQBBAAwADAD4//j/3P/c/+b/5v/j/+P/5f/l/9T/1P+x/7H/oP+g/5f/l/+8/7z/x//H/7//v/+9/73/wf/B/5X/lf90/3T/kP+Q/37/fv+G/4b/mP+Y/6T/pP+8/7z/7P/s//H/8f/t/+3/+//7//T/9P/u/+7/tP+0/5f/l/+G/4b/gP+A/53/nf+g/6D/tf+1/9j/2P8EAAQA2//b/6r/qv+C/4L/lv+W/+T/5P8AAAAAIAAgACYAJgAqACoAKgAqAEoASgAjACMAGgAaAFEAUQB7AHsAiQCJAH4AfgB+AH4AoACgAM4AzgDTANMA6gDqAPUA9QDzAPMAqwCrAHQAdACLAIsAhQCFAJ4AngB/AH8AhQCFAJUAlQCWAJYAegB6AEUARQAmACYACgAKAC0ALQBIAEgARQBFAAkACQD9//3/yf/J/5n/mf+a/5r/v/+//7f/t/+f/5//fv9+/3b/dv9z/3P/fP98/27/bv9c/1z/ZP9k/2v/a/92/3b/gP+A/2P/Y/9E/0T/Wv9a/2L/Yv9e/17/Rf9F/1r/Wv9h/2H/Wf9Z/0L/Qv9U/1T/eP94/5r/mv+T/5P/sf+x/w0ADQATABMAAwADADEAMQA5ADkAQABAAF8AXwCAAIAAawBrAGgAaABDAEMAKgAqACcAJwAYABgALgAuACYAJgAaABoADAAMAPv/+/8FAAUAHgAeAEwATABPAE8ARgBGADMAMwAmACYA9v/2/8z/zP/F/8X/0//T/9z/3P/6//r/+//7/xsAGwASABIA3v/e/9j/2P+8/7z/jP+M/47/jv+c/5z/ZP9k/17/Xv97/3v/zv/O/+7/7v/M/8z/vP+8/83/zf/a/9r/tP+0/2n/af9T/1P/b/9v/6n/qf++/77/rP+s/2L/Yv9j/2P/qP+o/9z/3P/0//T//P/8/xoAGgAxADEANwA3AA0ADQBBAEEAaABoADQANAAoACgASQBJAEEAQQBKAEoAYQBhADsAOwAgACAA7P/s//X/9f80ADQAIgAiAEMAQwCQAJAA3QDdAOoA6gD9AP0A2gDaAJ4AngB3AHcAegB6AI0AjQC1ALUAygDKAOQA5ADWANYAoQChAIAAgABEAEQAJAAkAEkASQCDAIMApwCnAMoAygDbANsAuwC7AH0AfQAwADAAFwAXAGMAYwCIAIgAkACQAFYAVgAQABAA7v/u/wAAAAD3//f/vP+8/8T/xP8HAAcALAAsABYAFgAHAAcACgAKAOD/4P/x//H/9P/0/wAAAAA8ADwAaQBpAJQAlADCAMIArQCtAFQAVAAaABoA5f/l/9L/0v/Z/9n/vP+8/8//z//b/9v/4P/g/+D/4P+u/67/k/+T/6z/rP+6/7r/y//L//j/+P/2//b/CAAIAPj/+P+g/6D/TP9M/1b/Vv9g/2D/mv+a/+D/4P/d/93/4P/g/7T/tP+X/5f/lP+U/5X/lf+v/6//vP+8/9T/1P+9/73/xv/G/7z/vP+4/7j/n/+f/4b/hv+P/4//u/+7/w0ADQAKAAoA+f/5/wEAAQD9//3/KQApAGcAZwBsAGwARQBFAA0ADQDG/8b/3f/d/9H/0f+q/6r/k/+T/5X/lf+h/6H/i/+L/3T/dP98/3z/if+J/6T/pP/N/83/4//j/xIAEgAuAC4ABQAFAPf/9/8BAAEA7f/t/wAAAAA6ADoAQQBBACAAIAADAAMA+f/5/9j/2P+q/6r/eP94/2j/aP+C/4L/tP+0/93/3f/2//b/BAAEAPL/8v/5//n/8f/x/+P/4/8CAAIAAQABAAEAAQD9//3/3P/c/8T/xP+3/7f/k/+T/5L/kv+o/6j/j/+P/6f/p//i/+L/1f/V/9z/3P/0//T/8v/y//7//v/5//n/+v/6/xMAEwA4ADgAbgBuAIUAhQCBAIEAaQBpACMAIwAcABwARgBGAFoAWgBvAG8AYwBjACgAKAAIAAgA/P/8//////8XABcAKwArAPn/+f/1//X/7P/s/93/3f/6//r/HwAfAB8AHwD9//3/1//X/wgACAAiACIAIQAhAB0AHQAvAC8ASABIAEsASwApACkAOwA7AFMAUwByAHIAhgCGAIMAgwCEAIQAcABwACoAKgAWABYANQA1AB4AHgD+//7/AQABAP7//v/8//z/BAAEAB8AHwAtAC0AMQAxAFQAVABGAEYABQAFAPr/+v/W/9b/rf+t/73/vf/b/9v/9v/2/x8AHwAKAAoA/////xAAEAABAAEA1P/U//L/8v/9//3//f/9//P/8//7//v/GgAaACQAJAAjACMALwAvAFcAVwCUAJQAuAC4ALIAsgCiAKIAoQChAIUAhQB+AH4ARgBGACcAJwAoACgA/v/+//v/+//7//v/3P/c//b/9v8CAAIA7f/t/wcABwAtAC0AMgAyACAAIAABAAEAEgASACsAKwAnACcALAAsABQAFAAhACEAawBrAIgAiABhAGEAYwBjAGMAYwAxADEA7v/u/6z/rP/m/+b/NwA3AB4AHgD/////2f/Z/7T/tP/B/8H/8v/y/wEAAQAJAAkAIwAjAAYABgD6//r/4P/g/+n/6f/K/8r/rP+s/5//n/+R/5H/sf+x/63/rf+R/5H/a/9r/2//b/9a/1r/XP9c/1v/W/9c/1z/nP+c/63/rf+Y/5j/qv+q/7v/u//f/9//7f/t/87/zv/e/97/5P/k/87/zv+f/5//fv9+/2n/af9v/2//lP+U/43/jf+X/5f/hv+G/77/vv8NAA0A7//v/3r/ev97/3v/vv++/+r/6v8HAAcAHQAdAEMAQwAlACUA9P/0/7n/uf+W/5b/ZP9k/2P/Y/9N/03/O/87/3L/cv+v/6//p/+n/4D/gP9x/3H/Qf9B/1L/Uv/R/9H/GwAbADEAMQA8ADwAYQBhAF0AXQBIAEgALwAvACAAIAAyADIASQBJADIAMgAnACcAQABAAEAAQAAnACcA8v/y/87/zv+j/6P/nv+e/+T/5P9EAEQAWgBaAE0ATQAyADIA6v/q/8r/yv/3//f/CQAJAE4ATgCCAIIAnwCfAMEAwQCFAIUAGgAaANr/2v/e/97/8//z/0cARwClAKUAnACcAGcAZwArACsAAQABAOf/5/8TABMAZQBlAKEAoQDQANAA7ADsAOIA4gCVAJUAVABUADQANABJAEkAVwBXAF8AXwBaAFoAeAB4AKYApgBWAFYA1v/W/5T/lP95/3n/ef95/43/jf+//7//+f/5///////9//3/6f/p/6L/ov9+/37/xv/G/+P/4//f/9//2P/Y/9//3//i/+L/3P/c/+7/7v/2//b/zf/N/6T/pP/Q/9D/+v/6/wMAAwA9AD0AiACIAHsAewAsACwA+v/6//D/8P8aABoAcQBxAIcAhwBaAFoAZgBmAIsAiwCtAK0AsACwAMUAxQDgAOAA6ADoAMcAxwC4ALgA4ADgAL8AvwCQAJAAfwB/AHwAfACGAIYAawBrAD8APwBNAE0AUwBTACoAKgAKAAoA7v/u/9v/2//2//b/yf/J/3L/cv9C/0L/a/9r/6T/pP+P/4//Zf9l/2D/YP9j/2P/d/93/5P/k/+H/4f/Vf9V/2D/YP9b/1v/XP9c/6T/pP/O/87/uP+4/7z/vP/e/97/xv/G/9z/3P/h/+H/2v/a/+L/4v/Z/9n/yv/K/7D/sP+B/4H/iP+I/4v/i/+N/43/u/+7//T/9P/v/+//6//r/w4ADgA+AD4AYwBjAGAAYABzAHMAiQCJAIwAjAB0AHQAgACAAKEAoQCsAKwApQClAIwAjABMAEwAGQAZAAMAAwAmACYAOwA7ACIAIgAsACwAQABAABQAFAAfAB8ANQA1AGAAYABkAGQAgQCBAHIAcgBBAEEAJwAnAAYABgAQABAA8f/x/wYABgDg/+D/pf+l/4H/gf9m/2b/Sv9K/1T/VP9m/2b/kf+R/5f/l/9m/2b/S/9L/zf/N/8t/y3/Ef8R/xX/Ff8S/xL/Gv8a/yf/J/9Q/1D/Zv9m/zT/NP8O/w7/HP8c/0n/Sf9Z/1n/s/+z//7//v8iACIABgAGAN7/3v+v/6//fv9+/8X/xf8TABMAQQBBADMAMwAYABgAzP/M/5f/l/+I/4j/nf+d/9v/2//e/97/3v/e/9v/2/8PAA8AWgBaAGoAagBOAE4AagBqAH8AfwBvAG8AlgCWAKIAogBQAFAABAAEAPj/+P8KAAoAOQA5AFEAUQAUABQA/f/9/x4AHgAtAC0APQA9ADwAPAA8ADwAPAA8AD4APgApACkARwBHAC8ALwAKAAoA/v/+/w0ADQAzADMAZQBlAFsAWwApACkA/P/8/woACgAtAC0AAQABAAQABADv/+//yf/J/9j/2P8LAAsAPgA+AD8APwAkACQAAgACAP////8PAA8AMQAxAEYARgBtAG0AeAB4AFoAWgAXABcA7f/t/yUAJQAgACAAHgAeACIAIgA6ADoAQwBDAFkAWQBAAEAAIAAgAEIAQgA/AD8AOgA6ABsAGwAoACgANAA0AB0AHQAYABgAMAAwAAIAAgAGAAYADgAOAOH/4f8HAAcAGAAYAB0AHQD5//n/7//v/wQABAAAAAAA9//3/+D/4P/7//v/HwAfAA8ADwDX/9f/rf+t/77/vv/D/8P/vP+8/4//j/9o/2j/ff99/7T/tP/t/+3/+P/4/yEAIQAAAAAADwAPAEcARwBLAEsAVgBWAEUARQBCAEIAQgBCAEAAQAA6ADoAVgBWAFIAUgBcAFwAKgAqAN//3//i/+L/5P/k/wQABAAbABsAQQBBAEYARgAnACcAIwAjAEEAQQBBAEEASwBLAGUAZQCFAIUAmACYAGEAYQAxADEAKAAoAAcABwAhACEAWwBbAIAAgABOAE4ALAAsACUAJQAYABgAEAAQAPT/9P/6//r/1v/W/67/rv+8/7z/CgAKAAcABwDh/+H/6f/p/zMAMwA6ADoA+//7/7X/tf+t/63/1//X/8D/wP+7/7v/q/+r/77/vv/a/9r/3v/e/7j/uP+N/43/nf+d/77/vv/Q/9D/6P/o//b/9v8LAAsA9//3/9r/2v/0//T/IQAhADAAMAAwADAADwAPAPj/+P/g/+D/xf/F/9X/1f/w//D/EQARAEUARQB2AHYAhACEAEQARAD7//v/4f/h/7z/vP+Y/5j/nf+d/5n/mf9s/2z/V/9X/2D/YP+E/4T/Zf9l/yH/If/5/vn+9/73/g//D/84/zj/dP90/3f/d/92/3b/Wv9a/1n/Wf9t/23/ef95/3//f/9r/2v/kP+Q/8j/yP/9//3/CAAIAA8ADwATABMAHQAdACYAJgAjACMAIgAiACIAIgAtAC0ASwBLAHEAcQCBAIEAcQBxAGYAZgBWAFYAQgBCAE4ATgClAKUAtwC3ALcAtwCmAKYAoQChAIIAggA8ADwAKAAoAFMAUwBmAGYAWABYAFgAWABNAE0AKQApAAAAAADc/9z/6P/o/zgAOABbAFsATgBOAE0ATQAnACcAOAA4AEgASAA8ADwAEwATAOv/6//p/+n/BwAHABoAGgAiACIAEAAQAOP/4/+x/7H/ef95/5L/kv+l/6X/of+h/7//v//Q/9D/9v/2//b/9v/+//7//P/8/wkACQA2ADYANQA1ACAAIAACAAIA1P/U/+D/4P/z//P/2//b/4b/hv+L/4v/1v/W/+f/5//j/+P/1v/W/73/vf/s/+z/AAAAAOb/5v/g/+D/9f/1/+n/6f/i/+L/AQABADAAMABaAFoAXwBfAFMAUwBBAEEANQA1ABQAFADO/87/wP/A/wkACQAyADIANgA2AAQABADK/8r/zP/M/9//3//f/9//JQAlAC4ALgAwADAAVABUAF8AXwBRAFEAnACcAMoAygDHAMcAlQCVAHcAdwBZAFkAWgBaAE0ATQBRAFEAWgBaADYANgAKAAoAyP/I/7P/s/+v/6//xv/G/+P/4//H/8f/xf/F/93/3f+//7//uv+6/7n/uf/i/+L/6f/p//T/9P/J/8n/7//v/wQABADg/+D/5P/k/wQABADy//L/5//n//P/8/++/77/7P/s//b/9v++/77/jf+N/7P/s//O/87/lv+W/3n/ef96/3r/h/+H/57/nv+B/4H/fv9+/5X/lf+0/7T/zP/M/97/3v/B/8H/lv+W/5r/mv+z/7P/vv++/6//r//h/+H/OgA6AGQAZABrAGsAogCiALAAsACAAIAAUQBRAEUARQBZAFkAoQChALwAvACEAIQARgBGAE4ATgAsACwA2P/Y/7//v//l/+X/DQANABsAGwDl/+X/v/+//7r/uv/K/8r/3f/d/wAAAAAfAB8AHAAcAA8ADwDM/8z/oP+g/6L/ov/B/8H/u/+7/8z/zP/I/8j/vf+9/6r/qv+k/6T/xP/E/+L/4v8oACgATABMAD4APgD9//3/3P/c/w8ADwAdAB0AIwAjAAYABgAKAAoAPAA8AFMAUwAQABAAqf+p/6j/qP+m/6b/yf/J/+f/5/8YABgAWgBaAGgAaABXAFcAFgAWAPT/9P/V/9X/sv+y/9z/3P8MAAwABQAFABcAFwAYABgA4f/h/8f/x//G/8b/xv/G/wIAAgBCAEIAXABcAFUAVQD1//X/uf+5/9f/1//Y/9j/0f/R/77/vv+b/5v/s/+z/+b/5v/h/+H/xv/G/7r/uv+Y/5j/oP+g/8n/yf8aABoAcABwAJcAlwCqAKoAvwC/AIcAhwBHAEcATwBPAHUAdQBwAHAAjQCNAJsAmwBYAFgAMwAzACMAIwAQABAA+v/6/wIAAgDq/+r/8v/y/xEAEQAeAB4ARQBFAG0AbQBxAHEAYQBhAGQAZAAyADIAEgASADQANAB9AH0AhQCFAHsAewBiAGIADQANAPf/9/8RABEANQA1AD8APwBCAEIAAAAAAOn/6f/Q/9D/nP+c/8P/w//7//v/8//z/9D/0P+u/67/g/+D/6f/p/+k/6T/r/+v//L/8v8VABUA4P/g/5f/l/9w/3D/of+h/+7/7v/7//v/yv/K/6z/rP+l/6X/of+h/8D/wP/l/+X/NAA0ACkAKQAtAC0APAA8ABQAFAD3//f/zf/N/7T/tP/S/9L/FAAUABQAFAAzADMANgA2AEMAQwAVABUA1v/W/6X/pf/h/+H/RQBFAEQARAAjACMA9v/2/9r/2v+0/7T/yP/I/xwAHABCAEIAPAA8ABUAFQDd/93/r/+v/8j/yP/z//P/7P/s/+X/5f/k/+T/AgACAM3/zf+w/7D/qf+p/7L/sv/J/8n/uv+6/9H/0f/d/93/xv/G/7r/uv/m/+b/sv+y/6P/o/+h/6H/vv++//P/8/8hACEANwA3AFQAVABbAFsAWABYAHUAdQB8AHwAjACMAJQAlABlAGUAUABQAEkASQBAAEAASQBJAGEAYQB7AHsAeQB5AHcAdwCTAJMAqACoAKQApACMAIwAagBqAGEAYQB+AH4AgwCDAHAAcAArACsAEwATABUAFQAyADIASwBLAE0ATQBHAEcAPQA9AFYAVgBLAEsAKwArAPn/+f/P/8//5P/k/wAAAAAmACYANwA3ACkAKQDu/+7/3P/c/9L/0v/W/9b/1f/V/8z/zP/m/+b/AQABANL/0v+W/5b/mf+Z/5L/kv+w/7D/6f/p/9//3//c/9z/3P/c/8f/x/+o/6j/o/+j/9r/2v/Q/9D/ov+i/6v/q/+s/6z/lv+W/6z/rP/X/9f/zv/O/6f/p/9s/2z/Yf9h/3r/ev+A/4D/nP+c/47/jv9H/0f/H/8f/zv/O/84/zj/Qf9B/27/bv+E/4T/b/9v/2f/Z/+S/5L/vP+8/83/zf+1/7X/ov+i/6v/q//7//v/LQAtAEcARwAzADMAMwAzADMAMwAfAB8AHwAfAAUABQD3//f/4f/h//7//v8NAA0AEwATAPj/+P/l/+X/4v/i/+//7/8GAAYAAAAAACAAIAAlACUA+v/6/8j/yP/m/+b/CAAIAAAAAAADAAMAQwBDAJsAmwCtAK0AdgB2AFkAWQBuAG4AaQBpAEUARQBpAGkAdAB0AF0AXQAaABoA2P/Y/6n/qf/C/8L/+P/4/97/3v/d/93/AAAAAEcARwBuAG4AhACEAIYAhgC2ALYA5ADkALAAsABiAGIAMQAxABwAHAAQABAAQgBCAGYAZgBUAFQAFAAUAO3/7f/r/+v/1P/U/7n/uf/g/+D/AgACAAgACAA6ADoAZABkAFwAXABRAFEAVgBWAGQAZACFAIUAaQBpAC4ALgASABIABAAEACYAJgA2ADYAQgBCAGUAZQBIAEgAJQAlACkAKQAWABYA9P/0/wsACwBPAE8AaQBpAGcAZwAsACwADwAPAM7/zv+W/5b/t/+3/+P/4//h/+H/8f/x/ywALABDAEMAOAA4ABIAEgAlACUAQQBBAFoAWgBcAFwAXgBeAEQARADx//H/0v/S/6f/p/98/3z/lf+V/9n/2f8GAAYA/v/+/9r/2v/i/+L/9P/0/9r/2v/+//7/JwAnACMAIwALAAsAx//H/6r/qv+Y/5j/sf+x/8X/xf+v/6//mv+a/7P/s//c/9z/5P/k/+H/4f/B/8H/z//P/8v/y/+G/4b/gf+B/67/rv+p/6n/wv/C/6n/qf9M/0z/U/9T/2j/aP+A/4D/kf+R/3r/ev+m/6b/EAAQACUAJQAbABsA//////v/+/8GAAYAAgACAOH/4f/4//j/PQA9AEcARwAmACYA8v/y/7z/vP/C/8L/CwALAC0ALQAhACEAKAAoAP3//f/W/9b/pf+l/5P/k/+d/53/zf/N/7T/tP+p/6n/zP/M//T/9P+j/6P/Vf9V/2D/YP+Q/5D/1P/U/wcABwAlACUANQA1AEgASAA1ADUAFAAUABoAGgBgAGAAiQCJAHkAeQB8AHwAYwBjACcAJwDm/+b/oP+g/4z/jP+1/7X/4P/g//b/9v8KAAoAzv/O/4b/hv+O/47/3P/c/x0AHQBLAEsAhwCHAIQAhAAmACYA3f/d/9n/2f/y//L/CQAJAEIAQgBzAHMAfwB/AH4AfgA5ADkA4v/i/8X/xf/5//n/EAAQAB8AHwAjACMALwAvAC0ALQAaABoAHQAdACUAJQA/AD8AcABwAK0ArQCIAIgAYgBiAGQAZABbAFsAWwBbAIwAjACuAK4AxADEAJwAnABBAEEAIQAhAEAAQABPAE8AeAB4AG8AbwBhAGEARABEAEAAQAD4//j/r/+v/73/vf/j/+P/DgAOAOv/6//s/+z/AwADAAkACQAAAAAAAwADAAkACQD+//7/NQA1ACQAJAAFAAUA4f/h//L/8v/8//z/DgAOAAQABADS/9L/5P/k/+v/6//j/+P/1f/V/9D/0P/Q/9D/3P/c/7n/uf+k/6T/tv+2/7//v//A/8D/zv/O/9P/0//U/9T/0//T/6H/of9//3//bP9s/3r/ev9z/3P/fP98/5n/mf+W/5b/mP+Y/33/ff92/3b/fv9+/5P/k/9m/2b/ZP9k/5T/lP/r/+v/FAAUAPH/8f/n/+f/p/+n/3P/c/9l/2X/av9q/2b/Zv9x/3H/pv+m/+L/4v8FAAUA8//z/+v/6/8UABQAXgBeAKsAqwDPAM8AoQChAHkAeQCTAJMAowCjAIAAgABdAF0AXgBeAD8APwAOAA4A+v/6/xQAFABFAEUAGAAYANj/2P/E/8T/6P/o/xEAEQBhAGEAnACcANMA0wD+AP4A8QDxAPkA+QAVARUBBAEEAdQA1ADUANQA3QDdAOUA5QDGAMYAfAB8AGcAZwBJAEkARwBHACUAJQAtAC0AQQBBAD8APwASABIA5//n/wAAAADZ/9n/u/+7/+j/6P/B/8H/g/+D/1P/U/8+/z7/Sf9J/zT/NP8l/yX/J/8n/yv/K/8X/xf/KP8o/yP/I/8R/xH/Fv8W/w7/Dv8F/wX/Hf8d/0//T/+e/57/yv/K/9D/0P/s/+z/7v/u//f/9/8pACkAQgBCAG4AbgDJAMkAAgECAQABAAEKAQoBPgE+AUkBSQE3ATcB7QDtAOUA5QASARIBTgFOAXcBdwFTAVMBJwEnARwBHAEeAR4BAQEBAdQA1AD4APgAFgEWAcoAygBxAHEALAAsANj/2P9v/2//Jf8l/wj/CP8l/yX///7//sL+wv6p/qn+d/53/pX+lf65/rn+tf61/rb+tv6w/rD+wP7A/sP+w/6f/p/+jv6O/o3+jf6y/rL+8P7w/jD/MP+J/4n/zf/N//r/+v/v/+//GQAZAIUAhQDEAMQA4QDhAAQBBAEuAS4BPQE9AV8BXwGbAZsBwwHDAfgB+AEWAhYCJAIkAjICMgI1AjUCNgI2AkwCTAJrAmsCegJ6Ao0CjQKxArECdQJ1AgsCCwJ6AXoB4QDhAKsAqwCLAIsAPgA+ALr/uv9B/0H/qf6p/uL94v0G/Qb9kfyR/Pv7+/tU+1T75/rn+or6ivoV+hX6hvmG+Qb5BvlY+Fj44/fj9873zvcA+AD4F/gX+DL4Mvig+KD4TflN+RT6FPq/+r/6l/uX+778vvwu/i7+jP+M/+wA7ABvAm8C1APUA0kFSQXFBsUG9Af0BxYJFgn5CfkJmAqYCjILMgsJDAkMmwybDMQMxAyjDKMMZwxnDAwMDAzfC98LbwtvC+QK5ApKCkoKjwmPCacIpwhXB1cHvAW8BQgECARiAmIClQCVAL3+vf7n/Of8GfsZ+/n4+fjH9sf28vTy9D7zPvPW8dbxq/Cr8GzvbO9Q7lDuvO287W7tbu0d7R3tK+0r7YHtge0u7i7uQe9B73vwe/Ac8hzyNfQ19Gv2a/ac+Jz4t/q3+in9Kf3Z/9n/UgJSAnkEeQSsBqwGsQixCK4Krgq/DL8MeQ55DhEQERCCEYIRkBKQEnYTdhNYFFgUJxUnFekV6RUUFhQWnxWfFS8VLxXEFMQU7RPtE+oS6hLlEeURlBCUEAsPCw8MDQwN2ArYCnwIfAhbBlsGLwQvBOYB5gHw//D/1P3U/QH8AfxZ+ln6yvjK+Df3N/fo9ej14fTh9Az0DPQe8x7zOfI58rfxt/Fj8WPx2/Db8Pjv+O807zTv5e7l7qnuqe5F7kXu4O3g7drt2u1I7kjuHu8e7xXwFfBG8UbxOPM485D1kPWn96f3qvmq+d373ft4/nj+0ADQACQDJAOgBaAF/wf/B+0J7QlxC3ELswyzDLoNug3cDtwO3w/fD6oQqhBIEUgR0hHSEWESYRIAEwAThROFE34TfhOgE6ATBhQGFDQUNBSUE5QTthK2EvgR+BHkEOQQAg8CD6gMqAx6CnoKawhrCDwGPAY0AzQDrACsAN3+3f4g/SD9QvtC+3r5evkp+Cn4PPc89xL2Evat9K30KPMo82zxbPEa7xrvoOyg7P/p/+kl5yXnB+QH5GfhZ+EQ3xDfbNxs3Inaidrm2ebZsdqx2lXcVdy/3r/ebOJs4jbnNuej7KPs4PHg8Rj3GPdg/GD8BAIEAogHiAcuDC4M7g/uDywTLBPuFe4V/hf+Fy4ZLhm3GbcZrhmuGXoZehk9GT0ZnRidGHoXehfSFtIWcxdzF8IXwhdNF00XLxcvF4kXiReMF4wXdhZ2FtIU0hQ0EzQTgBGAEa4Org5IC0gLuwe7B64ErgQ1ATUBlP2U/RH6EfoR9xH32fTZ9MzyzPIm8SbxLfAt8Ifvh+/F7sXu6e3p7S/tL+1W7FbsYuti69bp1un55/nn/OX85bjjuONu4W7hJ98n39zc3Nyw2rDah9mH2ajZqNmT2pPad9x33JzfnN9F5EXkpOmk6V7vXu+Q9ZD1K/wr/AMDAwOwCbAJ3Q/dD6EVoRX5GvkaSh9KHz4iPiJVJFUksSWxJdYl1iUQJRAlpCOkI1AiUCKyILIg2R7ZHpUclRyTGpMaiRmJGcEYwRh6F3oXzBXMFXQUdBS8E7wTaxJrEhoQGhDiDeINvgu+CysJKwmZBZkFJQIlAjb/Nv8O/A781fjV+O317fXK88rzEPIQ8nnwefAn7yfvPO087QLrAusl6SXp/Of857DmsOaM5IzkKuIq4uff59+53bndadtp2zrYOti+1b7VktSS1LbUttQB1gHWzNfM16jaqNrD3sPejOSM5K7qruqQ8JDwO/c791v+W/4RBhEG4wzjDOYS5hIRGREZkh6SHkwiTCKzJLMkTiZOJnYndicXKBconieeJ84mzibXJdclSyVLJbEksSQDJAMkwCPAI7IjsiN4I3gjWyJbInUhdSFNIU0hvyC/IN0e3R7sG+wbfRl9GSIXIhd7FHsUqBCoEGoMagxfCF8ImwSbBDsBOwEq/Sr9Jfkl+Vr2Wva09LT08vLy8h/wH/Bc7Vzt0urS6m/ob+hh5WHlO+E74Q/eD9672rvaxNbE1hjTGNMvzy/PGcwZzLPJs8nYyNjIbcltyf/L/8t80HzQ0tbS1p7ent5a5Vrlaetp6zryOvLZ+tn6LwQvBKwLrAvmEuYSVxlXGWIfYh9lJGUkICYgJqEmoSb0JfQl3CXcJbQltCWiJKIkzyLPIoEhgSH5IPkgOSA5IAgfCB/IHcgd4hziHIscixzSHNIczx3PHQQdBB16GnoaLBgsGAIWAhabEpsSagxqDOkF6QVuAG4AKfsp+9L00vS77rvuPuo+6l7nXuf85vzm2eTZ5Ofh5+Gv3q/ett623uTe5N6q3KrczNrM2l/bX9v/3P/c7Nrs2rPYs9gs1izWG9Qb1JLRktGvzq/Oc81zzdzO3M600bTR0dTR1NXZ1dmM4oziBu0G7Uz0TPRF+UX5CAAIAIgKiAqDE4MTbRhtGBwdHB2CI4IjCCwILDUxNTFeMV4xWC5YLjItMi1eLV4tjSyNLD4pPinuJO4kiyOLI4QjhCMuJS4liiaKJiskKyQhISEh8SDxIHkjeSNNI00jdyB3ILwcvBwAHAAc/Bn8GZQVlBWWDpYO5AfkBwUBBQHx+/H7cvZy9q3vre9M7EzsJuom6iHqIeoa5hrmZeNl49Di0OJw43DjRuJG4pvhm+G34LfgD+EP4bHiseJ443jjb+Fv4eze7N5y23Lb5tjm2ArVCtV10XXR9c71zvbO9s4v0S/R4dTh1MTYxNj14fXhR+tH6xfyF/In9if20P3Q/fYI9gjhEeERExcTFw8aDxpwIHAgeid6J6Itoi3iLeItZixmLLEqsSrRK9EroSyhLFMpUylbI1sj1h7WHqQfpB8UIxQjCSMJI2cdZx3uGe4ZDR0NHdsh2yFHIEcgUxpTGgAXABdIF0gXZBZkFmoRahF7CXsJhwSHBMcExwQfAR8Bn/mf+YPyg/Ja8Frwj++P7/rp+ukY5RjlQOFA4bDjsOO647rj6OLo4rjfuN8q3yrfm+Gb4THhMeEq3yrf7Nzs3E/dT91d3F3c8Nfw1ynTKdPT0NPQCNII0kPSQ9Lu0+7TkNWQ1dvW29ZJ3UndDOYM5hjuGO7W8NbwbPVs9XD/cP8sCywL5BHkEfEU8RS/Gr8aaCRoJNIr0isLLgsukCuQK2IrYiuqLaot3i/eL1suWy5xKHEo2iPaIw4kDiQVJhUm5iXmJQYiBiL6H/ofAyIDImkjaSMSIRIh3BrcGqoZqhk/GD8YZxZnFrwNvA1vBm8GIwMjA54BngGk/aT9U/RT9HDvcO99633rfup+6vDl8OWf5J/kNeQ15M3kzeRS5FLkNeI14kPlQ+U55DnkEOgQ6A3mDeaU5pTmXeZd5uLm4uas56znqeWp5XzkfOQY3xjf+dv525vZm9nL2MvYKdop2t7Y3th523nbXOFc4fPn8+dQ61DrJ+4n7ob3hvewBLAE1hDWEIAXgBevHK8cWyJbIuIn4ieYLZgtkjGSMY4xjjFRL1EvYS5hLkwwTDDGLMYsbCVsJXUgdSAuIS4hxyHHIVcdVx1+GH4Yvhe+F80XzRe2FrYWuxG7EbMOsw4jDCMMIQshC9IF0gUC/gL+lPuU+1X7VfvV+NX4KfEp8fPp8+kA6QDpCucK5znlOeV74XvhpuKm4uDi4OKs5azlB+cH5+Ll4uWI6YjpUutS67TutO5M7UztyfDJ8O7w7vA/7z/vNuw27Pnp+enM58znAuEC4fzb/NtO2U7Z1drV2r7dvt1N3k3e3d7d3vzk/OQ48TjxwPfA9wL5Avki/SL9NAo0CqgWqBasG6wbkx2THeQh5CGCKYIpRi5GLm4vbi+GK4Yr9if2J/gn+CehKKEoTSNNIxkdGR2HHYcdkh+SH0IcQhzzFPMU+RD5EEIQQhDaD9oP0Q/RD7gNuA1xDnEOnRCdEP8S/xJiD2IPlAmUCV4FXgUvAy8DBP4E/pX3lfcu9C70h/CH8Jftl+0Y6hjqX+df51rkWuTt4e3haeJp4qvgq+BP4k/iMOUw5Y3qjeob6RvpAuwC7DnrOeu77LvsDOkM6ebn5uf85vzmrOOs43HhceHd3N3cuNy43Nra2tpf3V/dUuFS4VriWuIc5Rzlc+tz6yn3KfdM/Ez8c/5z/r0EvQSSEJIQPxk/GSsbKxvuHu4e2CPYI8UpxSn9Kf0pUSdRJ4giiCJeIV4hISUhJcwmzCYNIg0ihxmHGaQcpBx9H30fixyLHCYVJhXbEtsSshayFrUXtRe0FrQWbBFsESUSJRIGEgYSJBEkEc8Hzwc3ATcBcABwAMf/x/+b9Zv1suyy7CzqLOpe6l7qmeeZ5wLlAuXw5fDlg+aD5oLqgupH7UftZe5l7q7uru4d8h3yhPSE9Hfzd/Nc81zzkPeQ93z5fPlK9Ur1CfAJ8MztzO0J7AnscOlw6UroSujB5sHmBeMF4xHmEeZ36nfqy+nL6cTnxOe877zvf/t/+3T9dP1k/WT9ZwRnBAIOAg6aEpoSMBQwFCoYKhh5GnkanB6cHmMhYyGUIJQgBxsHG3cbdxvmH+YfLx8vH7MYsxjlFOUUDBkMGTIZMhl9Fn0WExQTFPEU8RRIFEgUwRTBFAsRCxFZC1kLlwqXCrINsg0WCxYL4wHjAer66vqr+av5G/cb91XxVfH47vjuf/B/8ArtCu326PboZ+ln6cjqyOo57TntlO6U7unv6e+r7Kvsru2u7dLx0vHA9MD0QvJC8mPwY/AI8gjyB/EH8WfuZ+7Q7NDs++377fno+eg85jzmM+Qz5N7i3uLc4NzgLOMs4wHoAeiw6LDonOic6Oju6O4e9x734vji+LX5tfltAG0AkAmQCSQRJBGPEo8S5xPnE5IVkhXQGdAZNRw1HA8eDx5THFMcmB6YHkkiSSLAIMAgQh1CHfYZ9hkqHCoc3xvfG8YcxhwtGS0ZMhYyFg8XDxcBGAEYeRR5FDYPNg/KDcoNaQ9pD/cK9wp2BHYEIAIgAuMB4wEiAiICIPsg++b05vQH8AfwJvEm8U3xTfGH7YftKu0q7SvtK+3Y8tjyavJq8qPwo/CM7ozuNfI18oD2gPYG9Qb1ZvRm9DbyNvLx8/Hz9PH08Zrvmu/q7uruIO4g7lPtU+3N683r7uvu67DpsOlg6GDogumC6RXtFe2H7ofu0O3Q7Sf0J/TE+cT5Nfs1+8X5xfmG/Ib8ZgJmAqMGowZrCWsJGwwbDHAMcAysD6wPchVyFY4Xjhd/Fn8WsxWzFSIbIhuEHIQcUx1THSUdJR1KIEogwR/BHxoeGh5NHU0dtRi1GPwY/BgbGhsa0hnSGf8U/xQbEhsSkBKQEpAOkA7iC+ILrwWvBT0FPQU3ADcAPP48/hv4G/iN9o32EfER8d/v3++U7pTujO2M7cXuxe6Z75nvgu6C7lPsU+wO7g7uzO7M7gPwA/AD7gPum+yb7FHsUewR7BHsU+xT7CPqI+rU6dTpf+h/6AHoAejv5u/mMecx58noyeik56TnHecd5xvnG+cC6gLqdOp06rzpvOlM7EzsGPMY8+317fUK+Ar44vri+mD/YP/FA8UDGgMaAzYFNgW+Cb4J2Q/ZD/IT8hM7FjsW3BbcFvQZ9BkdIB0gESARIDQeNB7KHcodUSFRIVUiVSKpHakdfRx9HNwc3Bw/HD8chhiGGMYSxhL+DP4MNQo1CgQLBAupCKkI6wPrAzkCOQISARIBFAAUAK37rftP+k/6YPhg+O707vQX9hf2HPcc99P40/gR+RH52/jb+IL2gvas9Kz0nvOe89L10vXh9eH11fbV9sD2wPZF+EX4BfUF9ZX0lfRp+Gn4APcA93T1dPWq9ar1HvQe9Hb0dvQi8iLyffB98B/tH+0X7hfu+u/670L0QvS59Ln0xvPG8xv6G/r1APUApAKkAi8BLwGXBZcFjAiMCBMLEwvXDtcOXBBcEBETERMMFwwXQBhAGD0VPRWLFYsVDxYPFhIXEhdXFVcVzhPOE/kU+RScE5wTrBGsEbQMtAyWCpYK3ArcCucH5wdeAV4BXf9d/zj/OP/I+cj5NPg0+GjzaPOx9bH1i/KL8rPys/Ia7xrvQuxC7DXxNfFl6mXq2u7a7hnrGesN8Q3xq/Kr8mPyY/Jp+2n7EvcS9x3/Hf8x+jH68gHyAcf7x/uAAoAC4P/g/5P+k/66AroCYP1g/RP+E/7h9uH2w/vD+2v4a/jM9sz23/Lf8mTxZPFe9V71A/MD8yr2Kvb19fX1N/k3+QD4APiaAZoBVQNVAwUHBQesCKwIWhBaEBkPGQ+AFYAVWRdZFxIZEhmJGYkZBRoFGtYV1hWYEJgQ8BDwECkUKRTLEcsRGRAZEAIOAg73CfcJEQsRC60FrQXmBOYE7gLuAokGiQbeBN4EXQJdAngEeARiAmICz/3P/d763vqR95H3SfhJ+J/2n/Za91r3TPJM8gLzAvOy87LzOe8573rueu6b8pvy9PD08HrwevBZ9ln2O/g7+M3zzfNJ/kn+x/jH+HP8c/wL/Qv9VwBXAFz8XPww/TD9wf7B/oTxhPHV9NX0BfUF9T7xPvHz6/PrIu4i7vXo9ejC5MLkh+mH6WXsZey/6b/pjvKO8oD6gPo0/zT/+QT5BMcJxwmFCYUJ2Q7ZDsAYwBg3GTcZDhkOGa4iriKiIaIhLCAsIDYcNhzkHuQe7xfvF3gZeBnaFNoUSBFIEYENgQ0+DD4MwQvBC1IHUgdtCG0IDAUMBQQGBAa/Ab8BF/8X/xUBFQFfAF8A+QP5A4MBgwEsBSwFWwBbABr8Gvye+Z75wvXC9SXyJfJ37HfsKe4p7gvuC+7t8O3wHPAc8N7w3vAi7iLuZvVm9Wj2aPa5+7n7V/xX/A/+D/64+7j7uv26/YL7gvtF+UX5aPRo9F/0X/T+8v7yve697k3qTeoN5A3kJt4m3prYmthB20Hbg9+D33Pfc9/J78nvPPw8/GkDaQP3AvcCDAoMCkMUQxTQHdAd0yLTIoQkhCTCLcItMzYzNpU0lTRaKVop/ib+JjspOylPJ08nZR5lHlgWWBbtEO0QOBE4EXAEcATa+tr60f/R/3wHfAfqAOoAYgBiAHoJegnUDNQMdAp0CnIJcglCCkIK7wzvDBIOEg6OCI4IBgIGAk0DTQNM+kz6JvIm8ujw6PCn9Kf0BvAG8DLtMu1F7EXsOu8679Pr0+u46Ljo9uv267P0s/SB84Hz5/Hn8c32zfZy93L34/Hj8R3wHfBr5mvmPec95wziDOLl2OXYn9Cf0HfNd800wjTCvsa+xnvPe89OxU7F5tvm24P6g/rR/dH9yvXK9dgE2AQ7EzsT0RrRGq0lrSVcJFwkMzEzMb1FvUVrP2s/Ry9HL5c0lzTFPcU9aTBpMMsjyyMaGhoa8BnwGXUWdRZJDEkMWftZ+8IBwgFZBlkGhvuG+//4//gsBywH8A7wDiANIA0QERARHxcfF/QZ9BkpFykXaw1rDdAK0AqYBZgFO/g7+DXrNeuk7aTt4Ovg60rhSuEh2yHbMd8x307gTuBJ20nb3N3c3bbmtuY08jTygPSA9DjyOPIG9gb2Z/tn+6f0p/Rf5F/klN6U3nTddN1R1VHVD8sPyw3HDccLvwu/x7THtC/EL8S2xrbGS7tLu5jdmN2f/5//HP8c/2H6YfrcENwQHCUcJXkveS8UNBQ0HjAeMJhEmESAVoBWSUxJTAw9DD1tR21Ht0i3SGAyYDLzIfMhlheWF1EWURaZBpkG4PPg87jvuO9q+2r7Ifkh+f3x/fFJ+0n7GgwaDNsS2xL+DP4MxhTGFCwfLB8YJRgl1R3VHToVOhWHF4cXgQ+BD8v7y/s08TTxNvE28TPrM+ui5aLl2ePZ43jleOWu467jDt4O3k3gTeBy6HLo3+/f7zjtOO3c7NzsSPRI9OD24PYJ7AnsLuEu4frd+t081jzW4sXixXS5dLlruWu5ja2NrYG0gbSOz47PfL98v0nIScj2+Pb4Rg9GD1H/Uf/yBvIGESsRKw00DTSUOZQ5wzTDNOo/6j9DW0NbzGLMYipHKkdhQmFCWVdZV75GvkYgJiAmyxXLFVEXURflC+UL+vb69jXpNelI9Ej0EgESAQD5APkQ9RD1dQh1COkl6SUsJSwlEyITItMv0y/bPNs8IzUjNQoiCiJUHVQd1R3VHYULhQui8KLwBeYF5rXlteXv2u/arsyuzPvO+86X1pfWV9FX0f3L/cs82DzY/ej96DnwOfDy6fLpyOzI7JP4k/hw93D3gOqA6iThJOFR31Hf9NX01SjDKMNXsFewPqw+rEakRqThsOGwcMVwxTSuNK5Lv0u/yvbK9s8Kzwrr8+vzigKKApY1ljUGRAZEJ0MnQyJGIkaPY49jiHaIdohwiHD/Uv9SVExUTBtdG11hSWFJryOvI4gQiBDPFc8VHwEfAbXiteI/5D/kIe8h78z2zPYN+Q35XQNdAzYSNhKjKaMpZChkKIEkgSSCM4IzbEBsQF02XTbrIusi9Cb0Jugi6CJ1CnUKZ/Fn8WXrZeuu5K7kl9iX2CfNJ82XzpfOv9S/1ETTRNOiz6LP/NX81ZjlmOWC7YLt1+jX6LLqsuqk86TzjfGN8VbkVuTF1sXWKNco13PNc80KuAq4cKlwqaahpqF2lnaWZqJmouG74bsorCisZLVktd7w3vB+D34PF/UX9ZH5kfmFNIU0VUtVSzhBOEGzPrM+nFqcWp1wnXDmaeZp0FLQUgNJA0ksVCxUEEUQRe4d7h3HBMcENxQ3FFANUA2747vjb9pv2qnyqfK9+r36x+nH6eL24vbeF94XLywvLB8pHylJK0krZzpnOvlE+UR5Onk6LhwuHJ0ZnRmmG6YbrQStBNDi0OL32/fb2N7Y3unN6c3fvN+8a8FrwYXQhdBlzGXM+sr6yqrYqth9733vbPVs9THwMfC6+br5JwInArQCtAJj+WP5I/Aj8N/l3+V42njao8ajxhW0FbTXrteuDKgMqHycfJyjrKOsmcCZwAm4CbhDz0PPYQhhCGIeYh6+B74HUB9QHzpUOlR4YnhiIlIiUtlU2VTybvJu9XX1dbRitGIKSQpJ30XfRfRG9EZ1MXUxyQrJCrr3uvd3AHcA+Pj4+IXbhdvw1vDWtPW09Z4GngZD+kP6WPlY+YkdiR1pOmk6ojKiMo4qjirBNcE1ikOKQwIwAjBWEFYQzgfOB+kH6Qf58vnySddJ14HNgc1u0W7Rmc2ZzSbAJsDRwdHBEdQR1PDh8OEr4ivileuV66j/qP98CXwJsAewB2UHZQeZCpkKiAeIB9/63/oI5wjn69fr1y7LLstLuUu586bzpjeZN5ksliyW847zjrKksqQ+vT696rLqskHFQcV0BHQEuSy5LMkVyRV0HHQcb1BvUFxwXHDQZNBkwFPAUxJlEmWhc6Fz6mnqaQxDDEO+LL4sZTBlMDAnMCefA58DTeNN46fop+h47XjtjN+M33PRc9EY5BjkvAG8ATcDNwO6AroCRRpFGvE38TeDOIM4qDeoN606rTooPyg/wT3BPcknySf3DvcOrgKuAs/8z/yk6qTqF9gX2JTRlNFD00PT1M7UzujJ6Mkw0DDQU9xT3G7ibuLL6cvpofSh9Jf+l/43BDcE5QjlCMoJygmEAoQCIfkh+dvv2+8u4y7jy9DL0KrBqsG3t7e3nK6crl+iX6IJmgmaSpZKlpSulK6MyozKYcRhxDLQMtB9A30DLS4tLmckZyQPHQ8dsUSxRJFqkWqVZ5VnnE6cTmtUa1Ssa6xrlWmVaSBFIEUeKR4pyi3KLXAzcDNrFWsVEu0S7aPpo+ml+aX5MfYx9gjjCOOo5qjmH/0f/e4I7gjNB80Hvg6+DjsdOx1KKEooCywLLLIjsiN7H3sf2iLaIr4fvh/HCscKcvNy83rueu4g8CDw9OT05PjT+NO407jTBN8E367kruTi4OLgFuEW4X3tfe2h+6H7Hf8d/w78DvzTA9MDlgyWDEAHQAdk9mT2Ye5h7pvym/K46bjpddN100DDQMMDxAPEKcUpxam5qbmfr5+vzbLNsie9J70SyRLJh9iH2Ovc69yM44zjjf+N/4cghyBcJ1wnKhoqGmsnayf/Sv9KjFaMVrE+sT41MDUw8UHxQSVQJVDIPMg84B3gHU8bTxspLCksfih+KHEJcQmp9an1+QL5AsYOxg6RBZEFl/uX+ywDLAMeER4RkBGQEW0IbQi3BbcFGQoZCscIxwjaANoAVvpW+p34nfjt9u32I/Ij8jbsNuwJ5gnmrueu533tfe0h7iHuY+5j7sb1xvXK/cr9IwMjA/YH9gf3A/cDDf8N//L98v01ADUAQAFAAX73fvdQ8FDwDvAO8F7xXvFy6nLqEOEQ4cneyd7I3cjdfNZ81nzUfNTd093T187XzobPhs+U1JTU49nj2WHbYdv85fzlXPRc9Pn2+fbI/cj9fxF/EWIeYh7GFsYWOA44DlMYUxjxKvEqMSsxK9YY1hgYFBgUcyRzJHYwdjDRI9Ej6g/qD2sTaxMMIwwjESERIcEOwQ7tBO0EBxAHEM0UzRQzCDMIsf+x/2MBYwFxAnECLv0u/Uz7TPui/6L/Vf1V/UT1RPWl96X3pP6k/jEAMQBO/E78GfsZ+18EXwSGDIYMUQ1RDa4MrgwkEiQSqBuoG6wfrB+mHqYebR9tH8Ydxh0vEi8SiQ2JDZUOlQ6KCYoJLP4s/qjwqPBT71PvNvM287Lusu4z2jPaxM7EznLTctOx0LHQAMcAx0HAQcB6w3rD68XrxQrHCsfsyOzITdJN0h/nH+en86fz+Pj4+EgGSAaRGpEayiLKIsAewB6FIIUgli+WL6s3qzc6LjouUCdQJ4ooiihvLW8t1CnUKQkdCR0hFCEUyxLLEnEScRLeC94L9AL0Aif+J/6//b/9Lvsu+xX7FfvK/8r/nAicCE0KTQr9Av0C9Qf1B8kVyRVpGWkZkBGQEQEPAQ+bFJsUtBO0EzEJMQkdAx0D9P/0/7T/tP8lAiUCUwJTAk0CTQLkAeQBDgQOBIgLiAv5D/kPSQhJCA0BDQFVBVUFKg8qD2cOZw5L/Ev80ezR7Lnqueq87rzu2OfY53vXe9eoyajJacVpxQ7EDsQ1wDXAGLoYuhSxFLHvse+xyrrKumjIaMiF3oXe7O7s7q7zrvNV/VX9yBjIGDYyNjKgL6AvyiDKIJQklCSeNp42Fj0WPWUrZSvqFOoU0AzQDDUNNQ1ZCVkJg/6D/tDy0PLZ6NnoJ+Qn5FnmWebJ6snqruqu6kvtS+2H84fzkPuQ+40JjQnrF+sXsBywHEwXTBdQG1AblCeUJ38qfyrzIPMgBhkGGXgXeBdNEU0RbghuCDj+OP5m9mb2rPKs8tnv2e8t8S3xG/Yb9jv8O/z9AP0AcAVwBa8LrwsEDwQPVg1WDX0NfQ1qDWoNEAkQCfsC+wIt/C38wPTA9LPms+bl1eXVSspKytbC1sL2uva617DXsEWpRak/qD+oeKx4rDexN7GTvZO9BtkG2TzxPPG3ALcAJxYnFsU0xTRqSWpJOUM5Q6I3ojcTPRM9tU61TjZQNlDmOOY4KCIoIrAWsBZ1EHUQMQMxAy71LvXM68zr3uPe43TcdNwO3A7chOKE4rrouuhY8ljy3vve+5cJlwnFIMUgNjU2NRc8FzyPNI80/TD9MGQ6ZDoePR49xTLFMgwkDCRvGm8aBBEEEYQChAL0+PT4Pfg9+FT4VPig86DzsvSy9A/+D/7cCNwIRBBEEIMTgxNeFl4WQBZAFm8VbxV6F3oXmRiZGE8QTxDz//P/Mu8y7ynkKeTC2cLZ7MzszEPAQ8AGsgaywabBptmi2aKHp4en/6z/rJusm6zmrOasvcC9wCvqK+qcC5wLwx7DHpAxkDFhSmFKY1VjVeBJ4EmQPZA9RjxGPKc+pz5tMW0xTBpMGvwG/AYA9wD31+bX5hvYG9hi12LXdNp02qrVqtWjzqPOTdBN0NLc0tyN6Y3pAv0C/YoNig3UFtQWPCc8J4Q6hDq2Q7ZDkTmROe8v7y//MP8w2y/bL48fjx88DDwMkQSRBKz7rPv66/rrk+GT4ZzlnOUs7SztpfCl8GP4Y/gZBxkHZhhmGPok+iQhLiEu0TTRNNAy0DISLBIsvCS8JEcbRxvODc4NCvsK+/Ln8ufV19XXwsXCxba0trSfpp+mVJxUnIyTjJONjY2Nc5Nzk/ed951IpUil7bDtsBrUGtQuAC4AAB8AH2I3YjekU6RTI20jbVVkVWThR+FHGDUYNcIwwjAsLywv/Rv9G/cE9wQw7zDv2NzY3NzN3M0JyAnIcc5xzsjTyNN91n3Wx9jH2EDlQOXV9NX0mQaZBkskSyQUORQ5JUElQbxFvEUHTQdNLE4sTp48njzfLN8ssCKwIgoTChPK/sr+CfEJ8QTwBPAQ7BDsD+AP4K7artog5SDl2vLa8u/87/y3DLcMHiEeIbgwuDB+N343Rj5GPqpAqkB6NXo13SHdIVUQVRABAwEDO/I78kHfQd+izaLNNr42vuis6Kxbn1ufyJbIlmeRZ5G+jL6M843zjdSc1Jxhr2Gvd753vsLTwtND/0P/di52LsVMxUxzYXNhV3ZXdv9//3+rYqti1zfXN0UdRR3tFO0UcAtwC7HzsfMF5AXkU9VT1f3F/cWSvJK8+MP4w0feR96P7Y/ttPS09LL8svzLDMsMeBt4G34sfizMScxJDlIOUnlLeUsfQR9B7D3sPe427jYdHR0d3hDeECQJJAnT/9P/x+zH7AXiBeIl6CXou+i76H7pfumk7KTsqPyo/OsJ6wmxFLEUKSkpKck8yTzHR8dHPkM+Q1dBV0EFOwU7GCgYKNMT0xOtAK0Av/K/8q3drd2axZrFL7gvuGuua65Ook6ikpeSl4qTipMEkwSTZ5Znlg2eDZ78rPysusC6wOPO484J5gnmRg9GD280bzRfTV9NwlzCXKFroWtpZ2lnHz4fPtEQ0RDf9t/2mfSZ9FXtVe0U4RThtNm02erQ6tAQyxDL58bnxj7bPttS9lL2WAlYCcIRwhEjFSMVdSB1INkm2SatOa053UXdRVVFVUXXPNc8PC48LogniCdVEFUQ4v/i/037TfvPAc8Buv+6/0PxQ/FM8EzwpO+k76n2qfa7+rv6QwdDB3QUdBRaF1oXEiISIrkuuS75QflBS0VLRVg/WD97NXs1ECEQIR8NHw2A94D3y+zL7Nze3N4SzRLNNbs1u8KrwqtboluiAZoBmnibeJthnmGe7qLuogOnA6eIr4ivJL8kv2HNYc3L3cvdye/J7/gQ+BCuLq4uC0ALQGVJZUloUGhQSk9KT+Er4SsHBAcE5ejl6Mfmx+ZE6kTqt+a35tbq1uoC6QLp4ufi5wjjCONw8nDysAywDOUe5R5OJk4mjR+NH4keiR4aFxoXpxunGyktKS1YNFg03i3eLeEZ4Rk+Dz4P7f/t/0vwS/Af8B/wKf0p/XcJdwm1ALUA3v/e/3sGewacDpwOHREdEQYWBhYBIwEjKyMrI8UlxSWnLKcsDjsOO6hAqEBHO0c7UTNRM8gfyB+pC6kLI/Ij8sPkw+Qg3CDcsc+xz5TBlMEssyyzx6zHrGSjZKOLo4ujG6gbqOOw47DCs8Kz4rPis57AnsBvy2/Lk9eT1/Xj9ePEBMQEziTOJK01rTWRPZE9OEI4QvpC+kI1IjUiBv4G/i7nLudq6mrqtPW09WT5ZPnHAMcADP8M/zr+Ov759vn20gDSAJ4UnhQWJxYnUjJSMjssOyxHJ0cnqRmpGZ8dnx3rJeslkymTKS4pLim+Ib4hgBqAGjn/Of+l8aXxNvQ29DgFOAV2DHYMKgsqC/gP+A/pDOkMaw9rD1YKVgr/Ev8Syx3LHRUiFSK1JbUl3SXdJeYs5ix/KH8o5iTmJJMckxxhEGEQdft1+1DiUOIc1hzWhM2EzfXK9cqMwozCEbsRu6GwobBfqF+ocqtyq2+xb7H/u/+7aMJowqnJqcnRz9HPCNUI1RHcEdxS5FLkW/tb+xkZGRlDL0Mv3zjfOFI6UjpOOU453SjdKGEKYQoX8Rfx8enx6RvzG/PH+cf5bQBtACMEIwS3BbcFkAKQAhIBEgG3DrcOMxwzHNso2yh5KHkolyWXJTwdPB0uEy4TcxVzFacWpxYyIDIgah1qHaMWoxbdA90Dx/HH8V7vXu9j92P3wAnACRMQExBlGGUY+xL7EkgOSA4ICQgJ+wn7CaIWohbCG8IbCyULJUIlQiWLKosqbShtKOYk5iTtIu0iGBoYGrMMswyG8Ybxn+Cf4ATTBNPiz+LP4MzgzJzKnMr9yP3Izr7Ovqm4qbhOsU6xnLSctM66zrqXw5fDPs0+zRPUE9SO2Y7Zh9uH29Pm0+ZfAV8BRCBEIAQzBDNROVE5vDa8NkwqTCrHDMcMKPAo8JLgkuCJ5YnlXu9e79Tz1PNN+k36D/wP/Ab9Bv0I9wj30P7Q/qkOqQ6eHp4eCyQLJN0e3R5hG2Ebsw+zD0UQRRDCEsISYB9gH9Yl1iW8IrwiVxdXFyf/J/8u9S71YPZg9v0I/QgvFS8V0R7RHskgySC+GL4YnxCfEIYIhgivEa8RTxdPF6Ifoh/PIc8hiCOII+Ii4iLEG8QbQBlAGZ4RnhFyCXIJavZq9qzkrOQv1S/VJc0lzTrKOsqyxrLGWcZZxjrBOsHEvsS+jLiMuNC30LeluqW6WcJZwtzN3M2X05fTR9dH1xXZFdlY4Fjg7ezt7BsEGwSgHKAcBjAGMIQ3hDeiMqIy4CPgI+IL4gtQ91D3celx6Yvsi+zp8+nznvye/A4EDgQvBy8HUAhQCIkFiQWhCqEKvBO8E4chhyE1JjUmAiQCJH4dfh0sFSwVFhUWFSwWLBYnHScdrB+sH2sgayBYF1gXTgpOCj4GPgZLCksKQBhAGLwhvCHYKdgpdil2Kb8jvyP1GPUYFxAXED0SPRJpFmkWZRxlHPcb9xt4HHgcGBgYGLURtRFSC1ILiQSJBEX+Rf4F8gXyvuW+5bLZstm60rrS3s3ezZPOk85Iz0jPTMtMy8rHysdawVrB/r7+vinAKcCFx4XHsc+xz6fUp9Rd1l3WS9dL103cTdzk5eTlHPoc+rMRsxHEJcQlzy3PLXQrdCv5Ifkh9g/2Dyz+LP6Q8pDywfTB9KX8pfzgBOAEnQmdCYAJgAnTBtMG2QLZAsMFwwWaDJoMWBRYFNMX0xe0GLQY0hXSFakQqRAKDQoNAAwADIoPig9tEW0RWg9aD9ML0wuYDJgMmxCbEC0YLRh/IX8hySjJKLAqsConJycnmyObIxEeER6gGKAY/xT/FHUVdRWfFp8W4hTiFGYSZhLjDuMOEQ0RDeAI4AjxAvECd/t3+6DxoPF/6H/o/9//39fa19rV1tXWJtQm1M/Sz9Jg0mDSytDK0OjM6MzXytfKu8u7y8LQwtCC1YLVKdgp2Nra2tpz3XPd2d/Z32DmYOa39rf2ZQplCj0bPRs6IzojMSMxI3kdeR31D/UP3wDfAEP3Q/ee+J744f7h/m4EbgR2CHYItQq1CjwKPAo/Bj8GGAQYBPcF9wVrCmsKHw0fDZkOmQ5wEHAQKA0oDYkHiQexBLEE5QblBkIKQgoECgQKsgiyCJwInAgQCxALjAyMDOwQ7BD2F/YXKh4qHkQhRCEdHh0eQRlBGQQTBBMfDx8PQw5DDqIPog+kEaQRuRC5EAQQBBD4C/gL3wbfBlwAXADm+eb58/Lz8sTpxOm14bXh7tvu21PZU9mf1p/W99b31orYitju2O7Y/9X/1cbQxtCXzZfNW8tby5rLmssTzhPOuNS41Jndmd0+5j7mKO8o7/P68/quC64LhBmEGW0hbSFCI0Ij9B70HoITghM3AjcC2PPY8xLvEu+p9Kn0APwA/MMCwwKyB7IHwQjBCBkHGQePBI8E6gTqBNoH2gc3DDcMHhAeEJkTmRNLFUsVJxMnE+oO6g4WCxYL/wn/CfAL8AvKDMoMKw4rDlwQXBD8EvwS+Bb4FsYbxht+In4iRCdEJ5YolijNJM0kZR9lH98a3xqWF5YX9xb3FtQW1BaVFpUWpBKkEiAMIAxtA20DJvwm/Lj2uPZw8XDxDO0M7SHoIegF5AXkZ99n3wHcAdwu2i7afdp92urc6tww3TDdz9vP29HX0dfC1MLUidKJ0nLRctHe0t7SI9cj1/ne+d7C58LnsvGy8fL98v2kC6QLQxZDFggbCBv3Gvca5BXkFZoLmgs4/zj/LPUs9ZLxkvEb9Bv0E/oT+ukB6QFnB2cHJAkkCU8HTwdfBV8FUwVTBdUH1Qe0DLQMlRKVEmUXZRexFbEV+w/7D3MJcwklBSUFDAIMApcAlwD9A/0DJgomCtkR2REvFy8XUxxTHOcf5x/iIeIhvSK9ImciZyJFIkUith+2H2odah2HGocayxbLFqkRqRFuDG4MGQgZCBMDEwPN/c39vve+95zznPMm8Cbw0e3R7XjseOxo7GjsIewh7E7qTupE6ETov+S/5CjhKOGw3bDdxdvF27XctdzU3tTeb+Fv4dTj1OM05jTmVehV6Mrryutv8G/wPfY99ov8i/zTAtMCQglCCeYN5g3yDvIOvwy/DEUJRQnSA9IDff19/fT49PiR+JH4fvt++/H/8f/XA9cDxAXEBS0GLQYSBRIFxQTFBI4GjgaHCocKEw4TDg0QDRBAD0APWQtZCxsGGwbnAecBJQIlAjQGNAaxDLEMehN6ExwZHBnXHNccux67Hnsfex9mH2Yf0B/QH6wfrB+WHpYewRvBGyYXJhe/Eb8ROgw6DPkH+QfSBNIElwKXApwAnADG/cb97vnu+Rn1GfVx8XHxAO8A7+3t7e067TrtOOw47Pnq+eoO6Q7pEeYR5oThhOHx3fHd/dv929rb2tsN3A3c0dvR2+Lb4tup3Kncit6K3p7hnuE/5z/nse6x7gv2C/ax/LH8LwIvAvoF+gX7CPsIpAukC4kNiQ12DnYOMA4wDvMM8wwXCxcLmgmaCXkIeQirB6sHrgeuB9UH1QcVBxUHdAZ0BqEGoQaeBp4GYQVhBaIDogMRAxEDhwOHAzoFOgX4B/gHwQvBC/QP9A+pE6kTrRatFgkZCRmaG5obnh2eHYMegx7mHeYdGxwbHA8ZDxnKFMoUhxCHEOsL6wv6BvoGgAGAASf8J/w/9z/30PLQ8oHvge+n7aftxu3G7aXvpe9L8kvyGPQY9Fb1VvUk9iT2AfYB9gL0AvQ08TTxk+6T7h3tHe2Q7JDsBOwE7H/rf+tE6kTqluiW6PTn9OdU6VTplOyU7MXwxfBP9U/1jvmO+Zf9l/3YAdgB2AXYBSAJIAnKC8oLmA2YDYQOhA58DnwOAA4ADrANsA0lDSUNhQyFDOIL4gtKC0oLQQpBCu0I7QhCB0IHbAVsBRIDEgO7/7v/lfyV/Jb6lvov+i/6Kvsq++T85Px5/3n/pAKkAjIFMgVnB2cHlgmWCdYL1gsBDgEOzA/MD6UQpRA7EDsQ0A7QDo0MjQzHCMcIOAQ4BIn/if8F+wX7ePZ49try2vIP8Q/xuPC48KPxo/GY8pjyF/MX82HzYfMp8ynzQPJA8pDxkPGV8ZXxU/JT8jDzMPNU81TzdfN187HzsfN183XzmvKa8hDyEPJ88nzy+vP68xX2FfYv+C/40frR+mv9a/1bAFsAygPKAysHKwcRChEKeQx5DIsOiw6RD5EPjA+MD9YO1g4DDgMO2AzYDJQLlAsICwgL3wrfCoYKhgrJCckJBQkFCUAIQAiVB5UHxQXFBX8DfwOuAa4B6QDpAEMBQwHAAcABJwInAhoCGgLxAfEBRgJGAmECYQJtAm0CPwM/AzoEOgSsBKwEdgR2BLcDtwOdAp0C+QD5ADz/PP+Y/Zj9bPxs/Ez7TPsM+gz6Wvla+cf4x/h7+Hv4T/hP+K74rvgA+QD5FvkW+cj5yPm2+rb6d/t3+yH8Ifz+/P78Wf1Z/d783vxI+0j7QPlA+fT39PcZ9xn3Gvca97r3uvdT+VP5Zftl+1r9Wv3H/sf+CwALAFUCVQKwBLAE8QfxBzcLNwvNDc0NSA9ID5QPlA9JD0kP8A7wDnQOdA7KDcoNXg1eDagMqAyiC6IL4QnhCaoHqgemBaYFFgQWBD8DPwPYAtgC2gLaAg4DDgM7AzsDPwM/A/gC+AK+Ar4CMwIzAsUBxQGzAbMBagFqAf4A/gCQAJAAQABAANb/1v8k/yT/gf6B/kT+RP7m/eb98/zz/E/7T/sl+SX5Ovc699L10vVT9FP0c/Nz81PzU/M98z3zuPK48tvy2/Jo82jzGfUZ9TP3M/eS+JL4nfmd+QH6Afok+iT6IPog+m36bfp/+n/6P/s/+xv8G/w4/Dj8t/u3+/H68fom+yb7WfxZ/K3+rf7SAdIBCAYIBuEJ4Qm2DLYMXw5fDpQOlA7XDdcNsAywDDEMMQwnDCcMZwxnDKUMpQxSDFIMqAqoCjgIOAiuBa4FjAOMA7ICsgLYAtgC2wPbAw0FDQWwBbAFTgVOBVoEWgRAA0ADiQGJAU0ATQB0/3T/xf7F/vv9+/0C/QL9A/wD/LT6tPpj+WP5EfgR+OP24/ab9Zv1IfQh9EXzRfPy8vLyI/Mj88HzwfNT9FP0lvSW9G/0b/Rc9Fz0kPSQ9Hn1efVU91T3TvlO+ev76/uh/qH+vgC+ADwCPALSAtICCgMKA6ACoAJjAmMCrQKtAkYDRgPOA84DzgPOA8oDygN1A3UDXQNdA/8D/wNtBW0FkweTB8AJwAnkC+QLqQ2pDdQO1A7SDtIOQA5ADmsNaw18DHwMUwtTCwsKCwqyCLIIFAcUB2UFZQU2AzYDDgEOAfX+9f4j/SP9EfwR/F77Xvsh+yH7RPtE+2H7Yfts+2z7Xvte+zr7Ovv5+vn6BvsG+0j7SPvG+8b7T/xP/Ef8R/wW/Bb83fvd+1b7VvvV+tX6nPqc+tv62/pV+1X78/rz+kn6SfrW+db5DPoM+ov6i/pL+0v7FfwV/M38zfxV/VX9vv2+/VL+Uv6//r/+b/9v/0QARABCAUIB6QHpAUsCSwJsAmwCXwJfAiMCIwLtAe0B3QHdAToCOgLbAtsCwAPAA4cEhwTfBN8EOgU6BWUFZQWtBa0FuAW4Bc8FzwUCBgIG5wXnBdwF3AV7BXsFvgS+BNUD1QOyArICkgGSAaAAoAD2//b/Yv9i/xr/Gv8K/wr/2v7a/rL+sv4q/ir+Yf1h/d783vyt/K382vza/DL9Mv1Y/Vj9av1q/XT9dP0v/S/9LP0s/Qf9B/0D/QP9ef15/UH+Qf6t/q3+1v7W/uT+5P61/rX+q/6r/nn+ef4T/hP+tP20/T39Pf0M/Qz9PP08/X79fv2//b/9Ov46/vD+8P5Z/1n/sv+y/1oAWgAeAR4BggGCAcEBwQEBAgEC3QHdAT4BPgEDAQMB9AD0ALMAswClAKUAKgEqAbMBswHiAeIBBQIFAisCKwI1AjUCTgJOAtMC0wKkA6QDewR7BOoE6gSiBKIE4wPjA/0C/QLvAe8BywDLAA8ADwBy/3L/w/7D/ij+KP60/bT9E/0T/X38ffyQ/JD8zfzN/FL9Uv0P/g/+oP6g/jP/M/9m/2b/ff99/8P/w//f/9//+f/5/1oAWgCNAI0AowCjAJoAmgAmACYArv+u/3f/d/9D/0P/Nf81/3j/eP/O/87/z//P/57/nv9J/0n/DP8M/0D/QP9w/3D/0f/R/2IAYgCTAJMAsQCxALgAuACIAIgAZgBmADUANQDm/+b/yf/J/6b/pv+p/6n/ff99/yL/Iv/L/sv+4v7i/jj/OP9s/2z/pf+l/+b/5v9PAE8AyQDJAIEBgQFyAnICPgM+A8kDyQMTBBMEOAQ4BBwEHATAA8ADMAMwA38CfwLwAfABRwFHAWIAYgA+/z7/Uf5R/nv9e/3O/M78Z/xn/Cv8K/wf/B/8I/wj/Fb8Vvyh/KH8D/0P/Xj9eP0P/g/+rv6u/l//X/8PAA8ATgBOADsAOwA1ADUAOgA6AHAAcAChAKEAfgB+ACUAJQCr/6v/KP8o/9n+2f6a/pr+g/6D/or+iv6J/on+rf6t/s/+z/4J/wn/b/9v/8z/zP8qACoAzgDOAGsBawG7AbsBxQHFAYEBgQEyATIBHwEfAS4BLgFJAUkB/QD9AMEAwQChAKEAYABgAFEAUQAgACAA8//z/9X/1f/A/8D/yf/J/+X/5f/R/9H/vf+9//P/8/9TAFMAkQCRALIAsgCrAKsAdQB1ADoAOgAKAAoAIQAhAC0ALQAkACQAQABAAEAAQAAaABoA2f/Z/4n/if91/3X/d/93/3L/cv+D/4P/gv+C/4//j/+q/6r/zP/M/97/3v/y//L/7f/t//f/9/8TABMADgAOAP3//f/8//z/FgAWAC4ALgBeAF4AjwCPAJoAmgCHAIcAlACUAIUAhQB7AHsAcgByAKYApgDPAM8A+AD4APwA/ADVANUApwCnAJkAmQCeAJ4ApwCnAKoAqgCMAIwAdAB0ADMAMwDg/+D/w//D/6X/pf+N/43/g/+D/1//X/9c/1z/dv92/4P/g/98/3z/f/9//5f/l//N/83/9//3/y8ALwBeAF4ALgAuAKj/qP9t/23/Sf9J/zr/Ov8t/y3/Bf8F/xH/Ef8u/y7/Qf9B/zr/Ov9Q/1D/ff99/6D/oP/N/83//P/8/0MAQwBgAGAAOQA5AEUARQB/AH8AhgCGAHMAcwB4AHgAnwCfAJ4AngBSAFIAAwADAO3/7f8bABsADAAMABgAGABeAF4AZwBnAFIAUgB9AH0ArQCtAK0ArQCrAKsArQCtAK8ArwChAKEAswCzAMcAxwCyALIAuwC7AJgAmACTAJMAiQCJAGIAYgBSAFIAFwAXAO7/7v/4//j/IAAgAEMAQwBJAEkAEAAQAPj/+P/g/+D/3//f//b/9v8fAB8AHAAcAAEAAQAAAAAAFQAVAAIAAgD8//z/9f/1//7//v/8//z/y//L/7P/s//X/9f/+//7//b/9v/d/93/x//H/7D/sP+l/6X/0P/Q/+b/5v/v/+//7f/t//7//v8FAAUAGgAaACQAJAAWABYA3f/d/6H/of+e/57/nv+e/9P/0//L/8v/zf/N/8b/xv+r/6v/m/+b/5X/lf+p/6n/of+h/5H/kf+t/63/vP+8/8L/wv+z/7P/k/+T/3z/fP91/3X/i/+L/5j/mP+O/47/XP9c/1b/Vv+D/4P/k/+T/5L/kv9s/2z/X/9f/2j/aP9W/1b/Uf9R/1v/W/89/z3/V/9X/5L/kv+0/7T/2v/a/wAAAAC//7//rP+s/8r/yv+v/6//ov+i/6b/pv/C/8L/wf/B/87/zv+x/7H/nP+c/7f/t//Z/9n/1f/V/+D/4P8PAA8ANQA1AAYABgDn/+f/BAAEAC8ALwBkAGQAfQB9AHIAcgCLAIsAwgDCAN0A3QDlAOUAyQDJAMgAyAD6APoA+AD4ANkA2QDEAMQAtgC2AJ4AngB9AH0AVABUABcAFwD/////FgAWAB8AHwA+AD4AdAB0AFQAVAA0ADQAFQAVACwALABPAE8AbABsAD8APwAkACQALQAtADoAOgBUAFQAUABQAEAAQABJAEkAVwBXADsAOwAbABsA+v/6/8n/yf+v/6//tv+2/9r/2v/Z/9n/rP+s/1X/Vf87/zv/V/9X/37/fv+U/5T/tf+1//r/+v/b/9v/5f/l/xsAGwD9//3/9P/0/+z/7P/h/+H/9f/1/xYAFgAXABcA/f/9/8X/xf+q/6r/rP+s/8X/xf/y//L/AQABAAkACQAoACgATwBPADoAOgAiACIAHAAcAC8ALwBeAF4AdwB3AFQAVAApACkA/v/+/+b/5v8HAAcAHgAeACUAJQD9//3/5f/l/+//7//e/97/v/+//7j/uP+V/5X/ef95/4z/jP+v/6//xf/F/5r/mv+C/4L/vv++/+b/5v/0//T/NAA0AFIAUgBLAEsAQQBBADQANAA2ADYAIwAjACoAKgBSAFIAiACIAIcAhwB3AHcAfgB+AEAAQAAUABQA7f/t//3//f9pAGkAoACgAJAAkAC0ALQAtgC2AJgAmACkAKQAkACQAHwAfACGAIYAdgB2AHEAcQBlAGUAUwBTAC4ALgApACkA7v/u/77/vv+//7//3//f/wYABgDm/+b/3P/c/8D/wP/B/8H/s/+z/5T/lP+O/47/f/9//6X/pf+n/6f/1f/V//X/9f/G/8b/pf+l/3//f/+Y/5j/0f/R//r/+v/m/+b/vv++/1z/XP8g/yD/NP80/zD/MP9B/0H/D/8P//f+9/7p/un+DP8M/xj/GP8t/y3/M/8z/0r/Sv+Q/5D/vv++//X/9f//////7v/u/+H/4f8JAAkAIQAhADIAMgA4ADgALAAsAAwADAD9//3/BQAFAD0APQBeAF4ASQBJAC4ALgAbABsAEAAQAAkACQAtAC0AbgBuAIUAhQCgAKAAoQChAJoAmgBtAG0AGgAaAAQABAAOAA4A8P/w/wgACAA2ADYAVQBVACsAKwACAAIA2f/Z/9n/2f/A/8D/0//T/wcABwA3ADcANwA3AA8ADwD/////DwAPAAQABADj/+P/4//j/97/3v/z//P/HAAcAB4AHgAMAAwA9//3/9z/3P/t/+3/JQAlAC0ALQApACkAUABQADgAOABMAEwAYgBiAHsAewBYAFgAPAA8AD8APwBYAFgAZQBlADwAPAAuAC4AHQAdADMAMwA6ADoANAA0AEIAQgA7ADsA6v/q/6n/qf+Q/5D/pf+l//f/9/8TABMA7P/s/+H/4f/u/+7/sv+y/5r/mv+4/7j/1f/V/wMAAwBAAEAAMAAwAC8ALwA+AD4ASABIADgAOAAgACAANwA3AIsAiwCNAI0AOQA5ABMAEwASABIAKAAoAHYAdgBvAG8ARwBHACkAKQAcABwA8f/x//D/8P8XABcACwALAAIAAgDp/+n/CgAKABgAGADV/9X/nf+d/3z/fP91/3X/kv+S/8f/x//L/8v/tP+0/5f/l/+G/4b/av9q/3//f//G/8b//f/9/zMAMwA7ADsAJgAmAOz/7P/H/8f/yf/J/8T/xP+7/7v/q/+r/8H/wf/W/9b/+v/6/9P/0//L/8v/3v/e//L/8v/+//7/2//b/+r/6v/p/+n/AAAAABwAHABKAEoAcQBxAGsAawAwADAAAAAAAPz//P8aABoAFgAWAPj/+P8HAAcAHAAcAC8ALwA9AD0AUgBSAGAAYABiAGIASABIABwAHAASABIAMAAwADIAMgA1ADUAMAAwABoAGgDf/9//tf+1/77/vv/+//7/IQAhAAgACADx//H/5P/k/+H/4f/0//T/wv/C/6L/ov/L/8v//P/8/14AXgCPAI8AqACoAK0ArQCuAK4AgACAAG4AbgB5AHkAeAB4AJYAlgCIAIgAagBqAEUARQA5ADkAQwBDADQANAAWABYAGQAZAAkACQASABIAOgA6AE8ATwBQAFAATwBPAD8APwA2ADYAGQAZAAYABgDu/+7/tv+2/4T/hP97/3v/ff99/4H/gf+B/4H/jv+O/4X/hf9Y/1j/Yv9i/3f/d/+S/5L/nP+c/4X/hf9l/2X/Tf9N/z3/Pf9B/0H/Ov86/0T/RP9t/23/dv92/5b/lv+E/4T/mf+Z/5v/m/+b/5v/tP+0/7b/tv+Y/5j/l/+X/6D/oP+p/6n/0//T/+z/7P/2//b/AAAAAPz//P/X/9f/zP/M/8H/wf+//7//xP/E/8v/y//i/+L/6P/o/9P/0/+H/4f/gf+B/7H/sf8LAAsARABEAIkAiQC7ALsA+AD4AAgBCAHkAOQAywDLAMMAwwDFAMUAxADEAOEA4QACAQIBAQEBAcQAxACYAJgAqACoAKIAogCBAIEAYwBjAGIAYgAbABsAz//P/7v/u//P/8//5f/l/9//3//h/+H/4P/g/8n/yf/M/8z/IwAjAE8ATwAeAB4ABgAGAAgACAAFAAUA6//r/6n/qf+O/47/g/+D/3r/ev98/3z/Zv9m/2r/av+E/4T/aP9o/2b/Zv9s/2z/Wv9a/1r/Wv98/3z/fP98/3//f/9h/2H/k/+T/9z/3P/n/+f/FgAWACMAIwAxADEAUABQAHcAdwCFAIUAqACoALIAsgCeAJ4AjQCNAFUAVQAnACcAAwADAP7//v8LAAsAVgBWAEEAQQANAA0A8f/x/7//v/+U/5T/f/9//7H/sf/o/+j/BwAHAC4ALgA6ADoABAAEAOP/4//T/9P/s/+z/8D/wP+5/7n/vv++/8D/wP+U/5T/Zv9m/1//X/9J/0n/O/87/zb/Nv8q/yr/Wv9a/6j/qP/Y/9j/+v/6/+b/5v/2//b/7v/u/+v/6/8GAAYAIwAjAFMAUwB0AHQAgACAAIoAigCSAJIASgBKAEoASgBlAGUAZQBlAFUAVQA+AD4AQABAAFoAWgBoAGgAgACAAKgAqACTAJMAcwBzAIsAiwC3ALcAzwDPAOgA6AAGAQYBCAEIAQ0BDQHsAOwAsQCxAIIAggCSAJIAjgCOAFsAWwApACkACAAIAD0APQBpAGkAaQBpAAwADAD2//b/DgAOAPf/9//k/+T/5P/k/xcAFwBJAEkAYABgABEAEQC5/7n/o/+j/9H/0f8FAAUAWQBZAI4AjgBxAHEAQQBBAPn/+f/b/9v/rP+s/63/rf+F/4X/Xv9e/3v/e/+a/5r/pP+k/6z/rP+N/43/ev96/4X/hf+S/5L/rP+s//z//P8mACYAGAAYAA4ADgALAAsABgAGAAEAAQAGAAYANgA2AEEAQQAEAAQA0f/R/8D/wP/l/+X/IQAhADUANQA/AD8AGwAbAAAAAADg/+D/6f/p/wAAAADg/+D/1//X/+v/6/9FAEUAWgBaACMAIwA2ADYANQA1ACAAIAD1//X/ov+i/2z/bP9y/3L/of+h/8D/wP+a/5r/N/83/w3/Df8F/wX///7//g//D/9A/0D/nv+e/8//z//1//X/BgAGAOv/6//A/8D/vP+8/87/zv/f/9//CwALAA0ADQAGAAYA9//3/7b/tv+a/5r/oP+g/57/nv+t/63//f/9/zUANQAlACUABAAEAPP/8//5//n/DwAPAFkAWQCYAJgAewB7AEIAQgAsACwAOgA6AB8AHwAyADIAVwBXAG4AbgBbAFsAQwBDACoAKgD5//n/3P/c/9r/2v/a/9r/8f/x/zAAMABtAG0AXgBeAFcAVwBIAEgA6//r/8D/wP+8/7z/wP/A/8L/wv/B/8H/yv/K/+T/5P/b/9v/uf+5/5n/mf+F/4X/iP+I/77/vv/y//L/HQAdABcAFwDf/9//0v/S/8v/y//j/+P/EgASACgAKAAPAA8ABwAHAAIAAgD4//j/5//n/+P/4//v/+//BQAFAP3//f8NAA0ALQAtAEAAQABAAEAA9//3/9H/0f/n/+f//f/9/ywALAAwADAA5//n/5r/mv+B/4H/g/+D/7j/uP8IAAgAJQAlACMAIwAiACIAGwAbABoAGgAFAAUA9//3/w4ADgA/AD8AOgA6AFYAVgBeAF4ARQBFACcAJwDu/+7/DwAPAC4ALgBBAEEAPwA/AEAAQAAtAC0A+f/5/9z/3P/A/8D/ov+i/7n/uf8AAAAAFAAUAOL/4v++/77/yP/I/9f/1//X/9f/3P/c/+r/6v8rACsAVwBXAGQAZABQAFAABQAFAP7//v8rACsA8v/y/77/vv+k/6T/lP+U/6H/of+t/63/rP+s/8j/yP8EAAQA6f/p/x0AHQBFAEUAQwBDAFAAUABmAGYAkgCSAGgAaABaAFoAfAB8AKAAoACMAIwAuwC7AAUBBQEWARYB1wDXAJAAkABqAGoAewB7AKgAqACjAKMAqACoAIcAhwA+AD4AFgAWAAQABAD5//n/GgAaAEEAQQBFAEUAQwBDACMAIwAdAB0ALAAsADQANAAZABkADAAMACwALABQAFAAaQBpAGYAZgBMAEwAAAAAANb/1v+o/6j/xP/E/xMAEwAfAB8AAAAAAL//v/+Y/5j/kf+R/3r/ev96/3r/vP+8/yoAKgBHAEcAKAAoAOr/6v/b/9v/3P/c/+f/5/8IAAgAPQA9AGwAbABaAFoAAwADAKr/qv95/3n/RP9E/z//P/91/3X/kv+S/8X/xf+a/5r/ZP9k/0D/QP9C/0L/WP9Y/4r/iv+Y/5j/kf+R/5f/l/+a/5r/vv++/6X/pf+m/6b/qf+p/8X/xf+n/6f/uf+5/8D/wP/D/8P/lv+W/3L/cv+k/6T/zf/N/+D/4P/j/+P/9P/0//D/8P/s/+z/tP+0/5X/lf+d/53/pP+k/6n/qf++/77/8P/w/0IAQgBtAG0AYwBjACoAKgDn/+f/BgAGABoAGgAUABQAKQApAEwATABbAFsARwBHABAAEADB/8H/wP/A/7r/uv/L/8v/CQAJACsAKwA1ADUAEwATAMr/yv/D/8P/4f/h/9L/0v/X/9f/EAAQACIAIgAzADMAZwBnAEYARgDi/+L/zf/N//7//v8uAC4ARwBHAEsASwBfAF8AQQBBAC8ALwA3ADcAPwA/AD4APgBVAFUATABMAEYARgA2ADYAGQAZACMAIwASABIAEgASACYAJgBBAEEANwA3ADYANgAxADEAHwAfAFEAUQBnAGcAgwCDAMwAzAD8APwAzgDOAI8AjwBZAFkAEwATAPH/8f/M/8z/zP/M/+b/5v/b/9v/tf+1/5H/kf+Z/5n/n/+f/53/nf90/3T/cv9y/6T/pP/V/9X/9v/2/9n/2f+8/7z/s/+z/8v/y//x//H//v/+//X/9f/B/8H/wv/C/8D/wP/a/9r/3//f/+v/6/8CAAIAAAAAAAIAAgDb/9v/2P/Y/+v/6/8IAAgA7P/s/9X/1f+//7//uv+6/9H/0f/V/9X//v/+/yQAJAA6ADoASgBKADUANQAhACEAKwArAEAAQABaAFoAYABgAF8AXwB4AHgAXQBdAE0ATQAzADMACQAJAPf/9//3//f/AgACAAQABAAhACEAGwAbACYAJgAuAC4AJAAkACwALABUAFQARABEACMAIwDo/+j/uf+5/8b/xv/5//n/AQABAAAAAAD9//3/AwADAPL/8v/n/+f/KwArACwALABIAEgAagBqAGMAYwBjAGMAhACEAEoASgAbABsACwALAOr/6v8CAAIAJwAnABYAFgD8//z/AAAAAAIAAgAsACwASwBLAEMAQwAcABwADQANAPb/9v8lACUAWgBaAEEAQQA1ADUAHwAfAEUARQBiAGIAewB7AF8AXwBCAEIAFAAUAPv/+//z//P/zf/N/6L/ov+h/6H/gv+C/4X/hf/c/9z/GwAbAEcARwBNAE0AGAAYAO//7//q/+r/4P/g//f/9/8ZABkAEwATAPD/8P/T/9P/vP+8/8b/xv/E/8T/Zv9m/0D/QP9j/2P/rP+s/5n/mf98/3z/eP94/1f/V/8w/zD///7//hn/Gf9A/0D/cv9y/23/bf9X/1f/Y/9j/3v/e/99/33/h/+H/6v/q//N/83/+f/5//z//P8sACwASwBLABAAEADG/8b/qv+q/33/ff9a/1r/b/9v/5n/mf/l/+X/DgAOAP7//v/A/8D/a/9r/1z/XP9h/2H/gP+A/8b/xv8IAAgAMwAzAFsAWwBWAFYAKgAqAAsACwDK/8r/r/+v/wQABABUAFQAZgBmAGIAYgBkAGQAHgAeAMH/wf+t/63/wP/A/+L/4v/7//v/DgAOAOL/4v/w//D/8v/y/+X/5f/k/+T/+v/6/xsAGwAsACwARQBFAD8APwBqAGoAfwB/AGEAYQB/AH8AhACEAGMAYwA/AD8APQA9AEcARwBlAGUAXQBdACsAKwDx//H/2//b/8//z//4//j/IQAhAAIAAgDF/8X/of+h/6f/p//B/8H/2P/Y/9L/0v+t/63/uv+6/9D/0P8fAB8ATgBOAEoASgBLAEsAHQAdABUAFQDz//P/+P/4/yEAIQB+AH4AqgCqAJUAlQBKAEoANQA1AFIAUgBIAEgAJAAkABUAFQBGAEYAQQBBAGAAYABHAEcAMwAzAD4APgAiACIA/v/+/9X/1f/6//r/7v/u/+//7/8wADAAfwB/AK0ArQCfAJ8AcwBzAF4AXgBlAGUARABEACYAJgA+AD4ASQBJAH0AfQBvAG8AEAAQAND/0P/Y/9j//f/9/wAAAAD7//v/5P/k/8T/xP+//7//p/+n/5j/mP+c/5z/pP+k/43/jf9j/2P/ff99/6b/pv+0/7T/zv/O/+D/4P/r/+v/FwAXAC8ALwA9AD0ARwBHAFcAVwBOAE4ATgBOAFcAVwCFAIUAjwCPAJoAmgCKAIoAXwBfAD8APwBYAFgAjgCOAL4AvgDGAMYArwCvALsAuwC8ALwAlQCVAGUAZQBcAFwAbABsAHEAcQBqAGoAVgBWAFUAVQBlAGUAXQBdAGMAYwA9AD0ADwAPAAsACwAlACUAFgAWAPb/9v/6//r/+P/4/w8ADwAcABwA2//b/7D/sP+a/5r/yv/K/wIAAgDs/+z/tP+0/57/nv+w/7D/vP+8/5H/kf+L/4v/of+h/7b/tv/c/9z/2f/Z/9//3//Z/9n/3//f/+7/7v/e/97/yP/I/8f/x//p/+n/9f/1/+L/4v/A/8D/qf+p/5n/mf9d/13/Lf8t/0f/R/9d/13/MP8w/xv/G/8P/w//Bv8G/yv/K/8u/y7/Ff8V/0X/Rf9f/1//Qf9B/zX/Nf9X/1f/f/9//4//j/+A/4D/e/97/4D/gP+L/4v/l/+X/5X/lf/N/83/5P/k/+P/4/8RABEAHgAeADgAOABbAFsAWwBbAFwAXABCAEIADwAPALD/sP+W/5b/sf+x/8j/yP8NAA0AVQBVAC4ALgDo/+j/AAAAANX/1f/T/9P/BwAHAIEAgQDNAM0AuAC4ALYAtgCnAKcAiwCLAD0APQAgACAAIgAiABkAGQAHAAcALgAuAEEAQQAiACIAIQAhABQAFADf/9//1v/W/+L/4v/e/97/4//j//v/+//T/9P/mP+Y/4f/h//L/8v//v/+/+f/5//C/8L/qf+p/6j/qP+l/6X/8f/x/00ATQBuAG4AggCCAIgAiABqAGoAPQA9AE8ATwBIAEgAJgAmAAIAAgAMAAwAAAAAANb/1v/M/8z/3//f/+v/6/8CAAIAJwAnAEQARABAAEAAKAAoADAAMABkAGQAawBrAGQAZAB9AH0AWwBbACkAKQAjACMAHQAdAPn/+f/E/8T/1P/U/+H/4f8AAAAAMwAzAFIAUgBoAGgAZABkADgAOAAkACQAaQBpAKUApQCtAK0AnwCfAKcApwCVAJUAkwCTALIAsgCXAJcAbwBvAF4AXgAkACQAAQABAAoACgAZABkARgBGAE8ATwBBAEEAUwBTAGIAYgBIAEgAMAAwABAAEADA/8D/n/+f/6v/q//O/87/CQAJACIAIgAOAA4A5P/k/53/nf9U/1T/Gv8a/xn/Gf9d/13/zv/O/xYAFgACAAIA2v/a/9//3//k/+T/CQAJACUAJQAMAAwAGwAbADMAMwBFAEUAHAAcAAcABwACAAIA9//3/9z/3P/f/9//AQABAAAAAAD+//7/EwATABsAGwAAAAAAGAAYAAMAAwDw//D/xv/G/9X/1f8KAAoAAQABAMD/wP+3/7f/3//f/ysAKwCSAJIAogCiAI8AjwBSAFIADAAMAP/////z//P/CQAJAD0APQAgACAADwAPACMAIwDl/+X/tv+2/47/jv9l/2X/Rv9G/z7/Pv9w/3D/r/+v/+r/6v/7//v/0v/S/4z/jP94/3j/dP90/4n/if+1/7X/if+J/1j/WP8q/yr//f79/gH/Af84/zj/RP9E/2H/Yf+O/47/k/+T/1j/WP8p/yn/I/8j/3v/e//R/9H//f/9/zkAOQA1ADUAJwAnAD0APQAyADIAHQAdACMAIwAGAAYAwP/A/8j/yP8GAAYAOgA6ACsAKwAIAAgA0f/R/6j/qP+L/4v/fP98/1z/XP9N/03/bf9t/7z/vP/w//D/9P/0/wEAAQA2ADYARABEADIAMgAxADEACwALAAoACgAfAB8AHAAcABsAGwARABEAJgAmACwALAATABMAFwAXAAwADAA2ADYASwBLACsAKwD+//7/6//r/+T/5P8MAAwASgBKAE4ATgA+AD4ASwBLAGQAZAA9AD0ACwALABUAFQBZAFkAlgCWAKEAoQCjAKMAnACcAGIAYgAhACEAYQBhALYAtgDZANkA2QDZALMAswChAKEArwCvAL4AvgCLAIsAYwBjAFYAVgBwAHAArwCvAMgAyACFAIUAKQApAAIAAgDv/+//7v/u/+v/6/8FAAUAKgAqAGIAYgBYAFgAOgA6AA4ADgDd/93/1P/U/+X/5f/b/9v/0//T/7v/u/+g/6D/1f/V/wIAAgDd/93/zv/O/73/vf/p/+n/IQAhABIAEgAZABkAGAAYAO3/7f/J/8n/wv/C/6b/pv+f/5//tf+1/8D/wP/7//v/LQAtACIAIgANAA0ACQAJADEAMQAzADMAHgAeAB0AHQA3ADcAQwBDAFgAWACHAIcAbwBvADIAMgD3//f/CQAJADAAMAAeAB4AGwAbAA4ADgDn/+f/CAAIACIAIgAKAAoA/P/8/wEAAQDw//D/2v/a/9v/2//e/97/4//j/+//7//w//D/y//L/6b/pv9z/3P/XP9c/2z/bP+L/4v/uv+6/97/3v/m/+b/6v/q//f/9/8BAAEA8//z//f/9//q/+r/0P/Q/8H/wf+s/6z/gf+B/6b/pv+t/63/oP+g/3j/eP9X/1f/bv9u/5//n//M/8z/6//r/+//7//p/+n/5f/l/87/zv/L/8v/2v/a/9v/2/8ZABkANgA2ABYAFgDp/+n/3//f/+P/4//0//T/5P/k/wEAAQBMAEwAngCeAMEAwQDMAMwA8QDxAAMBAwHVANUAvQC9AMAAwAC1ALUAtwC3AMwAzACTAJMAfAB8AEkASQAgACAAHwAfABcAFwAmACYAJwAnAAAAAACv/6//nP+c/6D/oP/K/8r/9v/2/+z/7P8eAB4AGQAZANb/1v/B/8H/p/+n/6b/pv/L/8v/9v/2/wIAAgDe/97/t/+3/5n/mf+w/7D/eP94/z3/Pf8c/xz/SP9I/1L/Uv9N/03/hP+E/33/ff9//3//mv+a/6T/pP+y/7L/zv/O/+r/6v8LAAsAAQABANX/1f/b/9v/1v/W/8b/xv/H/8f/wf/B/9X/1f/t/+3/1P/U/8P/w//j/+P/3v/e//T/9P/8//z/JAAkAFYAVgBDAEMAHwAfAAgACAAwADAATABMAKAAoACdAJ0AbgBuAFwAXABaAFoAUwBTACAAIAAlACUASABIADYANgA3ADcAZgBmAGsAawB2AHYAjwCPAHUAdQAuAC4AGwAbADoAOgB5AHkAWgBaAEMAQwAlACUA/////w8ADwAvAC8AXABcAFQAVAAeAB4AGwAbACUAJQAEAAQABAAEAAgACAAFAAUAKgAqAF8AXwBBAEEAGAAYACIAIgAJAAkABwAHACwALABTAFMAIAAgAP7//v/x//H/vP+8/6L/ov+w/7D/2f/Z/+D/4P+//7//pv+m/67/rv/Y/9j/8P/w//X/9f8FAAUAHwAfABsAGwAjACMAHAAcANv/2//T/9P/yf/J/5v/m/+e/57/1//X/wAAAADM/8z/pv+m/4f/h/9S/1L/Rv9G/2D/YP9s/2z/af9p/33/ff+o/6j/uv+6/5//n/+Y/5j/sP+w/8H/wf+o/6j/v/+//83/zf/o/+j/4v/i//H/8f8GAAYA3P/c/6L/ov+A/4D/nv+e/6L/ov+f/5//0P/Q/wYABgA/AD8ARwBHABQAFAAYABgAXABcAHsAewCQAJAApQClAK8ArwCiAKIAqwCrALgAuADTANMAmACYAD4APgAbABsAIgAiAD4APgBEAEQARgBGACsAKwAbABsA7P/s//z//P/u/+7/2//b/+P/4/8VABUAYwBjAGEAYQAoACgADwAPACIAIgAlACUAJQAlAO7/7v/u/+7/JgAmAFYAVgBoAGgANwA3APH/8f+v/6//n/+f/4X/hf+b/5v/pP+k/4T/hP+E/4T/i/+L/7z/vP/4//j/EQARABEAEQAOAA4AGwAbADQANAAaABoA/P/8/yQAJAAiACIABAAEABIAEgAKAAoA/v/+//j/+P/3//f/FgAWAFEAUQBdAF0ARwBHAD0APQBAAEAAWwBbAIgAiACJAIkAoQChANYA1gDIAMgAhACEAFAAUABpAGkAdQB1AHIAcgBXAFcAWABYAEIAQgAWABYA/////+//7//e/97/s/+z/9z/3P/3//f/4P/g/7L/sv+W/5b/pv+m/7n/uf+Y/5j/r/+v/7r/uv+d/53/gf+B/4D/gP9//3//WP9Y/27/bv98/3z/kv+S/7X/tf/b/9v/x//H/7L/sv/E/8T/9f/1/wUABQAMAAwAFQAVABAAEAAvAC8AOQA5ACMAIwAsACwAJwAnACgAKAB/AH8AaABoACAAIAAEAAQA/v/+/wYABgA0ADQAUQBRAGEAYQBZAFkABgAGAO//7//h/+H/7f/t/w0ADQAtAC0AJwAnABoAGgAUABQABQAFAAAAAADU/9T/pf+l/5j/mP+S/5L/pP+k/7H/sf/E/8T/0//T/7f/t/+b/5v/pP+k/63/rf+3/7f/pv+m/6D/oP+5/7n/qv+q/5//n/+f/5//jP+M/4P/g/+5/7n/1//X/93/3f/5//n/HAAcAEYARgBxAHEAmwCbAKUApQBbAFsAGQAZAPb/9v/7//v/FQAVAA4ADgDw//D/4P/g//T/9P8nACcARABEAGQAZABzAHMAewB7AGgAaABBAEEAZABkAKMAowDQANAAtAC0AIsAiwBfAF8AVQBVAF4AXgAjACMAEwATAO3/7f/y//L/LAAsAFIAUgA0ADQAGAAYABAAEADZ/9n/hv+G/03/Tf9R/1H/df91/43/jf+R/5H/pf+l/6j/qP++/77/ov+i/5j/mP9n/2f/WP9Y/2X/Zf9z/3P/lf+V/5b/lv/K/8r/5f/l//P/8//9//3/BwAHAOT/5P+Q/5D/cf9x/3f/d//C/8L/BgAGABYAFgAqACoABQAFAPL/8v/b/9v/6v/q//T/9P8RABEADAAMAOn/6f//////DQANABEAEQAJAAkANwA3ADkAOQAvAC8ABwAHABUAFQBgAGAAggCCAGoAagBcAFwAYABgAEkASQA8ADwAMgAyAEIAQgAzADMA+v/6/9r/2v8CAAIADgAOABcAFwAHAAcA/f/9/wQABAAOAA4A8P/w/6n/qf+B/4H/b/9v/5f/l/+Z/5n/jv+O/5X/lf+V/5X/e/97/1n/Wf9H/0f/Jv8m/zP/M/9p/2n/r/+v//H/8f/t/+3/+f/5/wcABwAbABsA+P/4/wYABgA3ADcAgACAALUAtQCFAIUAYQBhAFkAWQB/AH8AgACAAKgAqADTANMADAEMAfsA+wChAKEAdAB0AHoAegB5AHkAcABwAIsAiwC7ALsA4wDjAOQA5ADTANMAwgDCAKAAoAB3AHcAdQB1AFUAVQAsACwAGAAYADgAOABkAGQAhwCHAHMAcwAzADMA/////+P/4/8AAAAAOgA6AD4APgAnACcAFQAVAPD/8P+2/7b/tf+1/7v/u/+t/63/u/+7/7P/s//i/+L/CAAIACUAJQAbABsAJwAnANv/2/+S/5L/nv+e/8v/y/8iACIARgBGADwAPAALAAsAIgAiACcAJwAvAC8ABAAEAMX/xf+m/6b/qP+o/7v/u//a/9r/AAAAAPj/+P/p/+n/1v/W/8H/wf+o/6j/q/+r/9L/0v8LAAsACgAKAPn/+f/2//b/+P/4/9f/1//A/8D/u/+7/9D/0P8PAA8APQA9AGIAYgBjAGMATQBNAD8APwBJAEkAOAA4AA4ADgD/////3P/c/6r/qv+V/5X/rf+t/9H/0f/I/8j/nP+c/27/bv+F/4X/pP+k/5P/k/+H/4f/oP+g/8z/zP8DAAMARwBHAGQAZAB7AHsAdwB3AEsASwBFAEUAWwBbAGkAaQBnAGcAaABoAEsASwA/AD8ATABMAEgASAAiACIA+f/5//f/9//w//D/BAAEAA8ADwAiACIAPQA9AC0ALQDv/+//BQAFADMAMwAfAB8AKAAoAEMAQwBNAE0APAA8AAYABgDa/9r/EAAQACkAKQAtAC0ALwAvAA4ADgDS/9L/xv/G/97/3v/z//P/3f/d/6X/pf+O/47/Zf9l/1H/Uf9X/1f/gf+B/6T/pP+2/7b/v/+///j/+P8EAAQA1P/U/8X/xf/E/8T/uv+6/5v/m/+O/47/u/+7//L/8v/X/9f/x//H/7r/uv+3/7f/yP/I/83/zf/V/9X/7v/u/9v/2//u/+7/NAA0AC0ALQA1ADUAPgA+ACUAJQAeAB4ANAA0AEgASAB7AHsAdAB0AEYARgBIAEgARwBHADcANwA8ADwAagBqAHwAfABrAGsARgBGAF0AXQB3AHcAhACEAGoAagAvAC8AMQAxAGwAbAByAHIAbABsADgAOACj/6P/dP90/2r/av9y/3L/pv+m/8b/xv/V/9X//v/+/wQABADp/+n/8P/w//7//v8PAA8AKQApAD0APQA9AD0AJAAkAAQABAABAAEAEQARAC0ALQAxADEACQAJAPb/9v/i/+L/v/+//73/vf/X/9f/7v/u/wEAAQAAAAAAHwAfAEwATABiAGIAbwBvAJYAlgCAAIAAhQCFAI8AjwB9AH0AeQB5AHcAdwBQAFAAKQApAAgACAAKAAoAHwAfAOf/5//Y/9j/zf/N/5H/kf+E/4T/lf+V/6j/qP/j/+P/PwA/AGsAawBwAHAAKwArACIAIgA3ADcAPQA9ACEAIQAJAAkACQAJAB8AHwD9//3/5f/l/yAAIAAIAAgA4//j/5n/mf9G/0b/L/8v/z//P/9i/2L/g/+D/5P/k/9l/2X/S/9L/3T/dP+C/4L/0//T/yYAJgAkACQAAAAAAKH/of9R/1H/M/8z/yv/K/98/3z/zv/O/83/zf+t/63/w//D//f/9//c/9z/sf+x/7f/t//l/+X/JgAmAEAAQABFAEUATABMAD4APgAhACEAHAAcACkAKQBOAE4ASABIACwALAAaABoAKAAoAFgAWABiAGIAKgAqACgAKAA0ADQANAA0ADsAOwAJAAkADAAMAC8ALwAoACgAEAAQAOX/5f/r/+v/AAAAAOv/6//K/8r/5//n//T/9P/n/+f/5P/k//n/+f/k/+T/5f/l/7n/uf+X/5f/lv+W/8b/xv/u/+7/6v/q/9X/1f/N/83/z//P/7z/vP/N/83/2f/Z/7T/tP+k/6T/3v/e/xYAFgA9AD0AOAA4ACEAIQAXABcAKgAqADwAPAAiACIAVwBXAJ8AnwCXAJcAWwBbAEMAQwAlACUAWgBaAJAAkABwAHAASQBJAEcARwBvAG8AeAB4ABsAGwABAAEAHAAcAP////8JAAkA/v/+/+b/5v/t/+3/2v/a/43/jf+F/4X/yP/I/wYABgA1ADUAaABoAFoAWgBDAEMAMwAzAEIAQgAhACEAOAA4AH0AfQCEAIQAZQBlACoAKgD0//T/uP+4/7f/t/+//7//xf/F/9L/0v/q/+r/KwArAGYAZgBZAFkAPQA9ADsAOwAZABkAJQAlAG4AbgC6ALoA3gDeAMsAywCxALEAqgCqAJEAkQBHAEcAEAAQAPz//P8YABgAIQAhAB4AHgA5ADkAQwBDAEAAQAA6ADoA7P/s/6//r/+8/7z/0P/Q/+r/6v8lACUAUABQAEkASQA0ADQABAAEAP/////s/+z/5P/k//T/9P/q/+r/9//3/wYABgD9//3/v/+//4D/gP9z/3P/jP+M/9P/0/+8/7z/lf+V/4//j/+0/7T/6f/p/9j/2P+0/7T/yf/J/8L/wv+j/6P/n/+f/6H/of+//7//tv+2/7P/s//D/8P/4f/h/8b/xv+7/7v/hv+G/4z/jP/V/9X/EAAQAAsACwD8//z/+f/5/9z/3P/7//v/8P/w//n/+f8WABYAPwA/ADkAOQAlACUAJAAkAP/////P/8//ov+i/7P/s/+9/73/s/+z//H/8f9WAFYAbQBtABUAFQDY/9j/vf+9/77/vv/S/9L/1v/W//L/8v8xADEAJAAkAMT/xP9//3//dv92/5n/mf+Q/5D/hP+E/6f/p/+r/6v/n/+f/3H/cf8V/xX/4v7i/h7/Hv9y/3L/uf+5/wwADAAkACQADAAMABEAEQAFAAUA3v/e/7n/uf+k/6T/qf+p/87/zv/v/+//yv/K/8H/wf/X/9f/5P/k/9v/2//m/+b//P/8/+j/6P/x//H/6//r/8v/y/+z/7P/1//X/+f/5//I/8j/sP+w/+f/5/8/AD8AVQBVAEsASwBoAGgAcQBxAH8AfwCfAJ8AiACIAG4AbgBpAGkAdwB3AJgAmACYAJgAUABQAEgASAAyADIAAAAAAOr/6v/W/9b/p/+n/6P/o//U/9T/7f/t/9//3/+1/7X/wf/B/w0ADQAoACgAPAA8AFcAVwCOAI4ArgCuAKcApwCkAKQAqgCqALwAvAC/AL8AqgCqAH0AfQCmAKYA7wDvANsA2wC/AL8AlwCXAGsAawBiAGIAVABUAE0ATQBwAHAAawBrAGQAZABvAG8AXQBdAEEAQQATABMALAAsAEIAQgA5ADkAOwA7ACoAKgBSAFIATABMAEcARwA7ADsAAAAAAOj/6P8NAA0AJQAlAND/0P+1/7X//P/8/zkAOQBKAEoAIgAiANL/0v9p/2n/Ef8R/97+3v7Y/tj+AP8A/0j/SP93/3f/hv+G/5f/l//D/8P/1f/V/9//3//v/+//6f/p/xcAFwA2ADYAXwBfAFUAVQBYAFgAmQCZAJcAlwB1AHUAeAB4AGAAYAB2AHYAWgBaAFMAUwDx//H/o/+j/7L/sv+q/6r/gf+B/3D/cP9y/3L/gP+A/9X/1f8aABoAJgAmAOP/4//A/8D/v/+//73/vf/W/9b/8f/x/z4APgA3ADcAMAAwAPP/8/+r/6v/kv+S/3X/df92/3b/aP9o/1v/W/9x/3H/xv/G/+X/5f+3/7f/nf+d/4//j/+Y/5j/q/+r/7f/t/+k/6T/qv+q/9z/3P8GAAYAEAAQAOv/6/8AAAAAJgAmACgAKAD7//v/7f/t/xcAFwBAAEAAaABoAEMAQwBXAFcAZABkAHQAdACXAJcApwCnAMUAxQC7ALsAhACEAJQAlACSAJIAiwCLALUAtQCYAJgAUQBRADwAPAArACsAHAAcAFwAXABWAFYAQABAADwAPAAZABkAEwATADEAMQAdAB0AAAAAAN//3/+8/7z/sv+y/8T/xP+Y/5j/gP+A/7P/s/+m/6b/g/+D/1H/Uf9f/1//L/8v/zD/MP9W/1b/kv+S/57/nv+L/4v/jv+O/3z/fP9z/3P/h/+H/5r/mv9b/1v/Vf9V/4v/i/+R/5H/dP90/0r/Sv9J/0n/Xf9d/2v/a/94/3j/oP+g/9T/1P8mACYAjwCPAJkAmQCEAIQATABMAEQARABSAFIAXABcAFQAVABjAGMAWwBbAFYAVgBxAHEAtAC0APMA8wDeAN4AkACQAHoAegCSAJIAXwBfAFcAVwB2AHYAmACYAGIAYgAnACcADwAPABMAEwA/AD8AjACMAL4AvgBpAGkACAAIAMv/y//Z/9n/9//3/woACgAvAC8AWQBZADMAMwDp/+n/8P/w/xIAEgAUABQAGwAbADYANgASABIACAAIAAYABgDf/9//5//n//D/8P/L/8v/mP+Y/3r/ev9g/2D/xP/E/zEAMQAuAC4AIAAgAD8APwBMAEwAMQAxACoAKgAKAAoAEQARAD4APgBqAGoASQBJAAkACQDv/+//1//X/77/vv+X/5f/pP+k//j/+P9dAF0AMQAxAOn/6f8CAAIAEwATAA4ADgAvAC8AQwBDADQANABkAGQAaQBpADkAOQAUABQABAAEACcAJwB5AHkAcwBzAB0AHQAUABQAFgAWAPn/+f/C/8L/nP+c/3j/eP9n/2f/c/9z/2z/bP9B/0H/Hf8d/1//X//O/87/LwAvAEQARAAbABsA+v/6/9//3/+W/5b/ev96/4f/h/+r/6v/9//3/w0ADQD2//b/4//j/w0ADQAmACYAMwAzAEgASABEAEQAcwBzAHAAcAAwADAA9P/0/9//3//k/+T/EwATAEsASwBoAGgAbgBuAHAAcAB1AHUAWQBZAEMAQwBHAEcAawBrAGYAZgCSAJIAowCjAJ0AnQCfAJ8AewB7AD4APgDm/+b/kf+R/1D/UP9q/2r/hv+G/2//b/9v/2//jP+M/9f/1/8UABQAGAAYAAIAAgAAAAAA6v/q/+L/4v+1/7X/g/+D/6H/of/4//j/OQA5ACsAKwDo/+j/rv+u/8z/zP/k/+T/v/+//33/ff9o/2j/cf9x/5j/mP+l/6X/yP/I/+7/7v/B/8H/jP+M/2P/Y/+I/4j/xv/G//3//f8hACEANwA3AGIAYgBkAGQAfAB8AF0AXQA8ADwAHwAfAP////8lACUAOAA4AA8ADwDv/+//7f/t/77/vv+N/43/p/+n/7j/uP+n/6f/EAAQACMAIwBIAEgAZABkABYAFgDr/+v/6//r//v/+/+4/7j/qf+p/8j/yP/D/8P/5f/l/y4ALgBAAEAA6f/p/6H/of+a/5r/p/+n/9v/2/8LAAsAOQA5AHAAcABwAHAARABEAC0ALQAkACQACwALAML/wv/M/8z//////x4AHgBKAEoAZwBnAIoAigBxAHEAVQBVAC0ALQAxADEAHwAfAC0ALQAzADMATABMAFwAXAB5AHkAlwCXAG0AbQAbABsA+v/6/xgAGAAmACYAMAAwAC0ALQAPAA8A6f/p//L/8v/R/9H/uv+6/9L/0v/y//L/DgAOAEMAQwBzAHMAcQBxAGcAZwBeAF4AmACYAMUAxQDlAOUABgEGAeEA4QCuAK4AdAB0AEAAQABUAFQAfAB8AIcAhwB8AHwAeAB4AFIAUgAsACwADQANAPz//P8OAA4AIgAiADQANABaAFoAZABkADYANgD9//3/DQANADYANgA0ADQAMwAzAD0APQA3ADcARQBFAHcAdwBWAFYAHgAeAO7/7v/+//7/BgAGAOb/5v+y/7L/pf+l/6X/pf+6/7r/rv+u/4T/hP98/3z/d/93/3P/c/9//3//if+J/5T/lP+e/57/q/+r/6f/p//F/8X/y//L/4f/h/9//3//ff99/1n/Wf9b/1v/fP98/5r/mv+b/5v/kf+R/5T/lP9z/3P/L/8v/yr/Kv9B/0H/cv9y/5X/lf+x/7H/uP+4/73/vf+X/5f/hP+E/5f/l/+u/67/7P/s/zkAOQB1AHUASgBKAA4ADgAhACEAKAAoAOL/4v/S/9L//P/8/ywALABPAE8AOAA4ABUAFQDe/97/s/+z/7v/u//E/8T/uf+5/wUABQB6AHoAnwCfAEYARgAJAAkA9//3/9T/1P+6/7r/4f/h/w8ADwAZABkADwAPABcAFwATABMA1//X/9n/2f/J/8n/kP+Q/4P/g/+2/7b/3v/e//3//f8CAAIAAgACANP/0/+L/4v/cP9w/3H/cf+F/4X/rf+t/9b/1v/D/8P/l/+X/4//j/+//7//uP+4/7f/t/+l/6X/aP9o/03/Tf9w/3D/jf+N/37/fv9Q/1D/Rv9G/1r/Wv8o/yj/IP8g/1//X/+g/6D/sP+w/6r/qv+e/57/tP+0/9r/2v8YABgAWQBZAJUAlQDEAMQAugC6AJgAmABgAGAAWQBZAI0AjQCpAKkAgQCBAGoAagBdAF0AgQCBAIsAiwBZAFkARgBGAFIAUgBSAFIAZABkAHEAcQBhAGEASQBJAEAAQAB5AHkAnwCfAK4ArgCYAJgAZgBmACwALAALAAsAFAAUAEcARwBUAFQAXgBeAHYAdgBLAEsAJAAkAAcABwDy//L//f/9/yEAIQAnACcAHQAdAA0ADQAHAAcAAQABAOv/6//2//b/4//j/9X/1f/j/+P/HgAeACUAJQAAAAAA/P/8/xMAEwALAAsAAAAAADIAMgBpAGkAfQB9AD4APgAMAAwAOAA4AIAAgAC7ALsAvQC9ADwAPAC9/73/q/+r//n/+f9GAEYAcgByAFIAUgAVABUA5P/k/9b/1v/4//j/LgAuAHUAdQCNAI0AkwCTAIUAhQBlAGUASABIAEIAQgBZAFkAiQCJAGMAYwApACkAEQARAAwADAD7//v/2P/Y/9n/2f/G/8b/uf+5/5v/m/+p/6n/i/+L/3j/eP9I/0j/DP8M/xf/F/9f/1//yf/J/+H/4f/6//r/GQAZAC0ALQA0ADQANgA2ABkAGQA7ADsAiQCJALwAvADKAMoAsACwAIEAgQBwAHAAXQBdADcANwA7ADsAbQBtAGsAawBZAFkAYwBjAGsAawByAHIAcQBxAFgAWABJAEkASwBLAFkAWQCXAJcAjQCNAIUAhQBpAGkAJgAmAOn/6f/1//X/KwArAD0APQA9AD0AYwBjAGcAZwABAAEAqP+o/5v/m/+g/6D/jf+N/6H/of/X/9f/8//z/8D/wP98/3z/ef95/3b/dv9v/2//av9q/1D/UP9q/2r/lv+W/5v/m/9f/1//Qv9C/zr/Ov9q/2r/fP98/5P/k/+Y/5j/uf+5/53/nf9k/2T/Xf9d/3n/ef+r/6v/y//L/73/vf+l/6X/bv9u/yv/K/9B/0H/hP+E/6r/qv/C/8L/8//z/wYABgD+//7/GQAZAB4AHgA6ADoAbABsAHkAeQCOAI4AogCiALAAsAC3ALcAWgBaAEIAQgBNAE0APAA8AGsAawCHAIcAWgBaAAkACQDM/8z/x//H/9b/1v+w/7D/wv/C//j/+P/4//j/5f/l//f/9//6//r/8P/w/yIAIgBjAGMAfgB+AF4AXgAcABwA0f/R/6P/o/+t/63/o/+j/4n/if99/33/k/+T/5P/k/9K/0r/Hv8e/zb/Nv9W/1b/bf9t/33/ff9S/1L/Fv8W/+/+7/73/vf+If8h/0f/R/+E/4T/qP+o/6v/q//L/8v/1v/W/93/3f8UABQAOwA7AHEAcQBjAGMAWQBZAHEAcQBtAG0AOQA5ACMAIwAuAC4AMAAwAEMAQwBLAEsAWwBbAGEAYQBiAGIARgBGAEsASwBJAEkARQBFAFYAVgBwAHAAcgByAIQAhACVAJUArQCtALMAswCjAKMAngCeAHsAewBJAEkAHgAeAEYARgCPAI8AxQDFAN4A3gDOAM4ArwCvAHAAcAAzADMAJgAmAGoAagBpAGkANwA3AC4ALgAwADAAOgA6AAYABgDe/97/6f/p/+z/7P8AAAAAFAAUAEoASgA9AD0ANgA2ADsAOwA6ADoALgAuAEQARACOAI4AnwCfAGkAaQBRAFEAZgBmAEMAQwAZABkAFwAXABcAFwA3ADcAFwAXAM7/zv+V/5X/dP90/5z/nP/o/+j/2//b/+n/6f/4//j//v/+/wcABwASABIAEgASANj/2P/Z/9n/5f/l/+z/7P8jACMAPwA/AFEAUQAiACIA2//b/33/ff9Y/1j/af9p/5T/lP+5/7n/tP+0/3j/eP9n/2f/dv92/3P/c/9p/2n/af9p/4T/hP+U/5T/oP+g/4j/iP91/3X/f/9//5L/kv+//7//wf/B/8L/wv+P/4//hv+G/2b/Zv9B/0H/bP9s/3z/fP+C/4L/uv+6/+T/5P8BAAEAEAAQAP3//f8VABUAJwAnACAAIAAPAA8AJAAkAEMAQwBuAG4AUQBRABwAHADv/+//0f/R/87/zv/+//7/LQAtACoAKgAlACUAGgAaAPr/+v/H/8f/s/+z/9b/1v/U/9T/sf+x/7X/tf/Y/9j/kP+Q/1z/XP+A/4D/y//L/+P/4//V/9X/4P/g//P/8//c/9z/3P/c/9j/2P/l/+X/MgAyAIoAigCuAK4ApACkAGIAYgAxADEAegB6AL8AvwDMAMwAzQDNAKEAoQCBAIEAjACMAIAAgABmAGYAcgByAJwAnAC4ALgAwwDDALIAsgCCAIIAegB6AKQApACjAKMAdwB3ADUANQAeAB4APgA+AFsAWwBKAEoALwAvABwAHAAUABQACQAJAAMAAwC+/77/lf+V/6z/rP+n/6f/gP+A/4L/gv+G/4b/sf+x/7X/tf+c/5z/nP+c/5H/kf+M/4z/m/+b/6z/rP/F/8X/GgAaACEAIQDt/+3/3P/c/+X/5f/c/9z/JgAmAEMAQwAcABwA4//j/8n/yf8FAAUAUQBRAH0AfQCaAJoAbABsAHwAfACDAIMAcABwAEMAQwAuAC4AGwAbACkAKQA7ADsATwBPADUANQD2//b/0//T/8H/wf+//7//vv++/7H/sf+9/73/2v/a/+D/4P/b/9v/4//j/+T/5P/c/9z/3f/d/+P/4//d/93/7P/s//j/+P8PAA8ANAA0AA4ADgDw//D/w//D/9f/1//z//P/1v/W/7f/t//Q/9D/4P/g/8r/yv/X/9f/9P/0/xEAEQAdAB0ANwA3ADMAMwA8ADwAcABwAFYAVgAhACEA6P/o/6L/ov+D/4P/jf+N/9L/0v/t/+3/9P/0/xgAGAD5//n/yP/I/8H/wf/c/9z/wP/A/+z/7P/4//j//P/8/9z/3P+0/7T/wv/C/8//z//A/8D/of+h/47/jv+N/43/bP9s/37/fv+g/6D/dP90/0P/Q/87/zv/Zv9m/3//f/+0/7T/x//H/7D/sP+Q/5D/c/9z/2r/av9S/1L/dv92/73/vf/4//j/KAAoAEoASgBlAGUAZABkAFQAVAA2ADYATABMAIUAhQCXAJcAmQCZAIQAhAByAHIAKAAoAAgACAA1ADUAXABcAJ4AngCQAJAAEwATALv/u//M/8z/3P/c/yUAJQBEAEQAZQBlAIkAiQCBAIEAlQCVAI4AjgB8AHwAUABQADYANgA1ADUAVQBVAHQAdACEAIQAYABgACAAIAAkACQAFQAVAPH/8f/O/87/1//X/xIAEgBTAFMAawBrAD4APgDl/+X/uv+6/7v/u//r/+v/6v/q/6j/qP/A/8D/JgAmAD0APQAKAAoAq/+r/5r/mv/m/+b/BwAHABEAEQAtAC0ALQAtADIAMgBCAEIAKQApACMAIwBHAEcAbwBvAFwAXABDAEMAOAA4AEgASACAAIAAgwCDAEQARAALAAsAHQAdAC0ALQBMAEwAZwBnAFYAVgBhAGEAeQB5ADYANgAmACYASABIABQAFAADAAMAHgAeACYAJgAjACMACAAIAPL/8v+6/7r/gv+C/4j/iP+w/7D/wf/B/8P/w/+M/4z/cP9w/3r/ev+m/6b/kv+S/5j/mP+o/6j/ov+i/6f/p/+k/6T/n/+f/27/bv9a/1r/Xf9d/3n/ef+m/6b/zv/O//T/9P/t/+3/9v/2/77/vv9+/37/lf+V/9//3//5//n/6//r/xEAEQAvAC8AQABAACoAKgAXABcA/////wAAAAAFAAUAEwATAO//7//Q/9D/xv/G/6X/pf+z/7P/0P/Q/+D/4P/h/+H/6f/p/wAAAAD+//7//P/8/ywALAAoACgAFAAUABYAFgA3ADcAbQBtAI8AjwCSAJIAfQB9AFkAWQBKAEoALQAtAAUABQAQABAADQANAOb/5v/f/9//5f/l/93/3f/p/+n/CAAIAOb/5v/E/8T/rv+u/8H/wf8lACUAdgB2AKEAoQCRAJEAcQBxADEAMQAaABoAAAAAAOP/4//b/9v/4v/i/wAAAAD+//7//f/9//b/9v8PAA8A9f/1/77/vv+g/6D/2//b/yAAIABCAEIAJgAmAN3/3f/Y/9j/w//D/7f/t/+x/7H/qf+p/9b/1v//////JAAkAHUAdQBiAGIACQAJAOP/4//4//j/MwAzAH8AfwCCAIIAfgB+AJ0AnQC3ALcAsgCyAJgAmABLAEsAIQAhACcAJwDz//P/2P/Y/+z/7P8iACIASQBJACgAKAADAAMABAAEAOn/6f+x/7H/mv+a/37/fv+f/5//lv+W/5H/kf+6/7r/3P/c/67/rv+P/4//mf+Z/4T/hP+f/5//s/+z/7H/sf+5/7n/xP/E/77/vv/X/9f/3v/e/9D/0P/z//P/3v/e//H/8f8QABAA8//z/8f/x/+6/7r/9P/0/yAAIAAXABcAIgAiAEgASABXAFcAdAB0AEoASgBAAEAARABEAE0ATQBYAFgAeQB5AIAAgABcAFwADQANAP7//v/v/+//uv+6/7L/sv/L/8v/1f/V/7n/uf+k/6T/fP98/4//j/+R/5H/jf+N/6b/pv+D/4P/jv+O/8D/wP/a/9r/7v/u//n/+f8BAAEALwAvABYAFgD2//b/IAAgAD0APQAXABcA4f/h/6z/rP+m/6b/w//D/9z/3P/s/+z//P/8//j/+P/k/+T/AwADABIAEgBMAEwAfgB+AJgAmAC/AL8A/AD8ADUBNQFpAWkBZwFnAUcBRwFHAUcBJwEnAS8BLwEPAQ8B4gDiAKsAqwCBAIEATwBPABEAEQANAA0AFwAXAPH/8f/J/8n/tv+2/7r/uv+1/7X/xf/F/9v/2//f/9//7//v/xgAGAAgACAAHAAcACwALABAAEAAGgAaANH/0f+h/6H/pP+k/8v/y//M/8z/3v/e/9X/1f+o/6j/j/+P/4D/gP+v/6//yf/J/8n/yf+7/7v/kP+Q/3b/dv9n/2f/ZP9k/2T/ZP9//3//nP+c/+P/4/8IAAgA8//z/+v/6/8IAAgA2P/Y/8P/w//E/8T/vP+8/9H/0f8CAAIAHQAdACEAIQAIAAgAyP/I/4H/gf9Z/1n/Pv8+/0z/TP9u/27/iP+I/4b/hv99/33/ff99/3n/ef90/3T/XP9c/1n/Wf9u/27/iv+K/6r/qv/B/8H/vv++/7//v/+u/67/w//D/7z/vP+s/6z/vv++/6z/rP/R/9H/+P/4/xAAEAASABIA6f/p/7b/tv+6/7r/6//r/wMAAwAuAC4AJAAkACIAIgAWABYALwAvAFkAWQBZAFkAWwBbAFcAVwCIAIgA0ADQAOQA5ADVANUAsQCxAI0AjQByAHIAawBrAGQAZABHAEcAQQBBAFUAVQBzAHMAegB6AGcAZwBrAGsAfQB9AJAAkACXAJcAdwB3AHMAcwCOAI4AjgCOAGoAagB9AH0AiQCJAIMAgwCGAIYAQQBBAAQABAAAAAAA+//7/w8ADwAAAAAA6//r/8f/x//A/8D/lv+W/33/ff92/3b/Wf9Z/13/Xf9Y/1j/Z/9n/2z/bP9t/23/gv+C/4z/jP9+/37/Uf9R/2z/bP+R/5H/2v/a/xMAEwAuAC4ALAAsAEoASgBoAGgAYQBhAFsAWwA1ADUAJQAlAC4ALgBYAFgAZQBlAH0AfQBMAEwAHwAfABwAHADp/+n/v/+//83/zf/v/+//FAAUAEEAQQBYAFgAQABAAEAAQAAuAC4AgACAAJsAmwCDAIMAigCKAH8AfwBlAGUAaQBpAGoAagBnAGcAYQBhABsAGwD5//n/6//r/9r/2v/g/+D/7f/t/83/zf/B/8H/4f/h/+j/6P/n/+f/DAAMACgAKAA+AD4AbwBvAI4AjgCHAIcAnQCdALYAtgDKAMoAxgDGAMwAzAC2ALYAqACoAI4AjgBoAGgAXwBfAE4ATgBpAGkAigCKAEYARgAeAB4A/v/+/9//3/8LAAsABQAFAOn/6f8AAAAAAgACAOb/5v/q/+r/3f/d//j/+P9CAEIAOQA5AA8ADwDz//P/2//b/+X/5f/z//P/xv/G/6L/ov+b/5v/of+h/7n/uf+8/7z/qv+q/8D/wP/p/+n/AAAAANj/2P/U/9T/3f/d/wcABwAKAAoAx//H/3v/e/9Z/1n/ZP9k/1b/Vv91/3X/iv+K/7b/tv/j/+P/yP/I/2b/Zv8W/xb/Jv8m/1r/Wv9d/13/Q/9D/23/bf90/3T/Vv9W/zn/Of80/zT/Rv9G/yv/K/8D/wP/M/8z/z//P/9i/2L/lP+U/4v/i/9r/2v/IP8g/yb/Jv8w/zD/Ef8R/xX/Ff8f/x//Sf9J/13/Xf96/3r/m/+b/7P/s/++/77/0//T/wYABgAAAAAA0//T/6T/pP+E/4T/ov+i/+T/5P/Y/9j/3f/d//H/8f/R/9H/rP+s/67/rv/n/+f/7//v//r/+v8nACcAMwAzADEAMQAoACgAOwA7AD4APgBUAFQAPwA/AD0APQA1ADUAUABQAF8AXwByAHIAmwCbAJcAlwB4AHgASgBKAFAAUABxAHEAXABcACsAKwAsACwAbABsALEAsQDiAOIAwwDDAKgAqACYAJgAoQChAMsAywDCAMIA1wDXALoAugDIAMgA5wDnAOkA6QC1ALUAeAB4AGwAbACDAIMAjgCOAHcAdwCIAIgAqgCqALwAvADNAM0AvwC/AKAAoACvAK8AqgCqAIQAhACCAIIAgwCDAKcApwC/AL8AlwCXAEUARQAZABkALwAvABAAEAAnACcAOgA6ACAAIAD7//v/uv+6/5T/lP+U/5T/lf+V/57/nv+Y/5j/lf+V/3z/fP97/3v/dP90/5v/m//W/9b/3f/d/6n/qf9q/2r/VP9U/1P/U/9z/3P/nf+d/73/vf+4/7j/mf+Z/5j/mP9w/3D/T/9P/3//f/+2/7b/2v/a/9n/2f/1//X/KQApAEMAQwAWABYAzf/N/8P/w//0//T/VQBVAKoAqgC3ALcAnACcAIEAgQCCAIIAWQBZADYANgBOAE4ApwCnAPoA+gASARIB8wDzAKUApQBzAHMAZABkAHcAdwCzALMA7QDtANkA2QB4AHgAVABUACwALAAaABoAKwArAEMAQwA0ADQAAQABAOX/5f/F/8X/t/+3/87/zv/4//j/3//f/83/zf/o/+j/EgASADAAMAAKAAoAxP/E/7r/uv+r/6v/oP+g/7f/t//C/8L/nf+d/4//j/+T/5P/g/+D/33/ff9q/2r/kv+S/9H/0f8KAAoA9P/0/9n/2f/t/+3/AQABANz/3P+i/6L/bf9t/1b/Vv9Z/1n/bP9s/2T/ZP+G/4b/if+J/5n/mf+c/5z/o/+j/8T/xP/1//X/EgASAOH/4f+3/7f/hf+F/4H/gf+O/47/mf+Z/53/nf+v/6//m/+b/37/fv92/3b/fP98/7b/tv/Q/9D//f/9/yYAJgAlACUAAwADANz/3P/K/8r/8f/x/+3/7f/8//z/8f/x/+P/4/+8/7z/ov+i/6H/of+I/4j/nv+e/6L/ov/g/+D/MwAzAFEAUQA/AD8A0P/Q/6b/pv+R/5H/wP/A/+z/7P8NAA0ABwAHAMT/xP+I/4j/P/8//1L/Uv90/3T/dP90/4b/hv+L/4v/of+h/6z/rP98/3z/V/9X/2H/Yf9g/2D/Zf9l/2X/Zf+K/4r/vv++/7r/uv/F/8X/9//3/wAAAAALAAsAAQABAPr/+v8mACYAewB7AKQApADTANMA9QD1APUA9QDKAMoAfQB9AGoAagBvAG8AqgCqAMIAwgD8APwAOwE7ASgBKAHFAMUAcwBzADsAOwArACsAYQBhAJgAmADKAMoA4QDhAPkA+QAAAQABugC6AEwATAAkACQAJQAlAEwATAB7AHsAfQB9AJsAmwCPAI8AXABcAA8ADwD6//r//f/9/zQANABCAEIALQAtAA4ADgAFAAUAAwADAPD/8P8QABAAKgAqAEgASABWAFYAagBqAGgAaABfAF8AJQAlAOT/5P/O/87/uP+4/8H/wf/e/97//P/8//v/+//Q/9D/kf+R/47/jv9r/2v/W/9b/47/jv+4/7j/of+h/4T/hP94/3j/fv9+/6D/oP+x/7H/4v/i/wgACAA6ADoAPwA/AC4ALgDN/83/ov+i/8X/xf/a/9r/BQAFACUAJQARABEA/f/9/wAAAADm/+b/tf+1/8z/zP/Q/9D/1P/U/wQABAANAA0AEAAQAPn/+f/8//z/9f/1/+//7//u/+7/7P/s//D/8P/B/8H/5v/m/+T/5P/W/9b/r/+v/67/rv/L/8v/x//H/9j/2P/v/+//KgAqAC4ALgAvAC8AHAAcACgAKABPAE8AdwB3AFoAWgA0ADQAIwAjACwALABaAFoAZQBlAFQAVAAIAAgA//////n/+f8BAAEASABIAHMAcwCRAJEAoQChAHsAewBWAFYAdQB1AHIAcgBGAEYALgAuAPv/+//e/97/5P/k/+f/5//6//r/3P/c/8X/xf/4//j/8//z/w4ADgDs/+z/2f/Z/+H/4f/7//v/9f/1/9z/3P/X/9f/5//n/+r/6v/S/9L/v/+//7v/u/+6/7r/zv/O/xAAEABqAGoAsQCxAKIAogBFAEUA8f/x/+P/4//p/+n/FAAUAGUAZQBXAFcAQgBCAAcABwDf/9//wf/B/9L/0v8CAAIAAAAAAPz//P/4//j/+//7/wQABAAeAB4ABgAGAPv/+/8HAAcACQAJAA0ADQDw//D/rP+s/3z/fP+E/4T/rP+s/8b/xv/J/8n/o/+j/3b/dv9y/3L/cf9x/1n/Wf9T/1P/nf+d/7T/tP+l/6X/ov+i/7X/tf+//7//iP+I/zv/O//9/v3+OP84/4H/gf+h/6H/mP+Y/3D/cP9v/2//bf9t/3H/cf+f/5//m/+b/5z/nP+s/6z/8P/w//X/9f/Y/9j/2f/Z/+//7//U/9T/z//P//j/+P8LAAsACQAJAAcABwDY/9j/rf+t/8j/yP8NAA0AKwArADgAOAApACkACwALABUAFQBTAFMAgwCDAHIAcgBAAEAAKAAoAEIAQgBCAEIAQwBDACcAJwAZABkAOwA7AFwAXABQAFAAOQA5AEcARwBfAF8AXwBfAFcAVwAlACUA2P/Y/6//r//n/+f/IwAjAE4ATgBiAGIAigCKAMMAwwALAQsBGAEYAfMA8wDbANsAxQDFALYAtgC2ALYAsACwAIQAhAB3AHcAcwBzAIAAgABwAHAAcQBxAIUAhQBrAGsAJwAnAO3/7f/i/+L/BAAEAB4AHgAbABsABgAGABQAFAAhACEABQAFALj/uP+F/4X/cP9w/5L/kv/u/+7/DgAOAML/wv+z/7P/wf/B/+r/6v/n/+f/0//T/6f/p//E/8T/OwA7AHYAdgBSAFIAQQBBADsAOwApACkAQABAAEYARgBXAFcAcQBxAGYAZgAMAAwAzP/M/7X/tf/E/8T/3//f/+f/5//h/+H/kv+S/2D/YP9M/0z/Sv9K/zD/MP8a/xr/Gf8Z/1v/W/+c/5z/W/9b/1z/XP+Y/5j/vP+8/5r/mv9k/2T/nP+c//X/9f8aABoACwALAO3/7f/j/+P/+v/6/x4AHgAAAAAAIgAiAD8APwBCAEIAXgBeAH0AfQCRAJEAdQB1ADIAMgAbABsAAQABAK3/rf+5/7n/6P/o/+3/7f/Z/9n/6//r/wQABAAeAB4ALwAvABQAFADZ/9n/vP+8/83/zf/b/9v/3f/d/+H/4f/0//T/HQAdABoAGgAEAAQA7f/t/7j/uP+0/7T/qP+o/7P/s//z//P/KwArAD0APQA8ADwAIwAjAAAAAADa/9r/9P/0/xAAEAAAAAAA2v/a/9b/1v8YABgAegB6AJsAmwBRAFEACAAIANz/3P/K/8r/EgASAEEAQQBLAEsAUwBTABAAEADU/9T/ov+i/7//v//B/8H/xv/G/8r/yv+a/5r/mf+Z/7r/uv/q/+r/3P/c/+z/7P/a/9r/lf+V/8j/yP8BAAEA4//j/6f/p/+E/4T/hv+G/63/rf+r/6v/s/+z/5n/mf9C/0L/Mf8x/0v/S/99/33/o/+j/7z/vP+p/6n/aP9o/1r/Wv+N/43/rv+u//j/+P/S/9L/df91/1//X/97/3v/o/+j/6P/o//K/8r/xv/G/+L/4v/9//3/9//3/yUAJQBnAGcAkwCTAI8AjwBpAGkAUABQAHUAdQBhAGEAQQBBAB0AHQD4//j/GQAZAFgAWACZAJkAqACoAJoAmgCzALMAzgDOAMsAywDrAOsA5QDlALcAtwCCAIIAfgB+AKcApwDMAMwA5QDlAAcBBwH7APsAyQDJAH4AfgCzALMA1wDXAMkAyQDEAMQAlACUAIwAjACCAIIAiwCLAKcApwCqAKoAYgBiAB8AHwDr/+v/3//f/ywALABeAF4AgQCBAGQAZAAMAAwAw//D/8b/xv/G/8b/4f/h/8P/w//T/9P/7f/t/8v/y//A/8D/wf/B/8L/wv+5/7n/fv9+/2r/av9//3//xP/E/97/3v+f/5//hv+G/8T/xP8TABMAKgAqACYAJgD5//n/EgASAEIAQgBFAEUAIAAgABcAFwATABMALwAvAEMAQwAgACAAAQABAAkACQARABEA/////z0APQBCAEIAUgBSACUAJQDK/8r/yv/K/+X/5f/a/9r/4P/g/wYABgD4//j/sv+y/2H/Yf83/zf/Pv8+/0D/QP9k/2T/kP+Q/6X/pf+H/4f/e/97/3P/c/9x/3H/dP90/2j/aP+K/4r/lv+W/77/vv+r/6v/mP+Y/0L/Qv8F/wX/5v7m/uH+4f4P/w//VP9U/6n/qf/a/9r/6f/p/8//z/+x/7H/kP+Q/4j/iP+M/4z/p/+n//D/8P8wADAAPQA9ABkAGQAeAB4ABwAHAP////8CAAIAGgAaADgAOAA9AD0AJwAnAFUAVQBqAGoATwBPACoAKgDy//L/5P/k/yYAJgBaAFoASABIAEIAQgBJAEkAOAA4ACEAIQAqACoAEwATAAUABQArACsAXgBeAGcAZwBsAGwAYABgAHcAdwBaAFoAJgAmABMAEwAAAAAAOAA4AEcARwBBAEEATwBPAGIAYgAyADIAHwAfAC0ALQA5ADkANgA2ACoAKgA5ADkAOgA6AEUARQAIAAgAFQAVACgAKAAfAB8ALAAsAE4ATgBlAGUAhQCFAEMAQwDX/9f/xf/F/83/zf84ADgAbwBvAEYARgAQABAAAwADABsAGwAEAAQA7v/u/w4ADgAIAAgA5//n/8v/y//G/8b/x//H/+X/5f/6//r/0P/Q/7H/sf+1/7X/8//z/xIAEgAmACYA8P/w/+j/6P/S/9L/3f/d/wwADABKAEoAfQB9AIEAgQBfAF8ANgA2ACUAJQDu/+7/2v/a/7v/u/+6/7r/wP/A/7H/sf+j/6P/k/+T/43/jf+V/5X/f/9//6D/oP/U/9T/3v/e/+P/4/8NAA0AOgA6ACUAJQD+//7/+f/5/yoAKgAhACEALAAsAEsASwA1ADUAEgASAPP/8/8AAAAA7P/s/wAAAAA7ADsAPQA9AEIAQgA5ADkAJQAlABEAEQA3ADcAUgBSAFsAWwBMAEwAMwAzAFAAUACdAJ0AvgC+AKgAqAB0AHQAXwBfAEcARwARABEA8P/w/6v/q/+c/5z/wP/A/93/3f/0//T/HwAfAEsASwBCAEIAMwAzAPn/+f/y//L/GgAaAEAAQAB7AHsAUABQAAQABADo/+j/AgACADYANgAwADAAEwATAOf/5//t/+3/7f/t/9T/1P/f/9//rf+t/4j/iP+O/47/rP+s/6z/rP/m/+b/9v/2/8n/yf+h/6H/LP8s/+3+7f4D/wP/Nf81/0v/S/9x/3H/XP9c/0v/S/9q/2r/W/9b/zX/Nf9j/2P/fv9+/4T/hP+x/7H/xv/G/93/3f+9/73/tP+0//T/9P/4//j/4v/i/7j/uP/B/8H/mf+Z/6H/of/m/+b/FgAWADkAOQAyADIAWgBaAG0AbQB/AH8ArACsANYA1gDLAMsAvwC/AI8AjwBYAFgAGAAYAOv/6/8aABoAQABAAGAAYABhAGEARABEAP3//f+0/7T/sP+w/6P/o//H/8f/8//z/xMAEwAdAB0AIwAjAAMAAwD/////BQAFABQAFAA0ADQAQQBBAGIAYgA0ADQA7//v/+v/6/8DAAMAHQAdACQAJAAEAAQANQA1AC4ALgD+//7/6v/q//z//P/e/97/+P/4/wcABwD/////AAAAAP7//v8MAAwALgAuAB0AHQATABMA/P/8/wUABQAzADMAQgBCAHoAegB0AHQAOAA4AB0AHQAWABYA4v/i/5j/mP+K/4r/rf+t/93/3f8XABcAQwBDACMAIwDt/+3/5f/l/xMAEwA+AD4AZgBmAFUAVQA2ADYAOQA5ADoAOgA9AD0ASABIAFsAWwBEAEQAWwBbAE0ATQBsAGwAhACEAHkAeQCBAIEAkgCSAIIAggB8AHwAYwBjAFgAWABnAGcASwBLADAAMAAtAC0ASQBJAHcAdwBnAGcAOQA5AA4ADgDz//P/2v/a/87/zv/Z/9n/+v/6/93/3f/C/8L/x//H/7//v//D/8P/pv+m/4P/g/9S/1L/P/8//2P/Y/9c/1z/Q/9D/1n/Wf9z/3P/e/97/3P/c/9S/1L/Qf9B/1f/V/9q/2r/jP+M/7v/u/+9/73/oP+g/6D/oP96/3r/XP9c/z7/Pv8Z/xn/M/8z/2f/Z/+y/7L/wf/B/93/3f/Y/9j/zP/M/9n/2f/X/9f/8P/w/wIAAgDv/+//zv/O//b/9v/2//b/8f/x/xAAEAAAAAAAAQABACcAJwAmACYAOwA7AHAAcABoAGgARABEACoAKgATABMABwAHACIAIgBMAEwATgBOAFIAUgBdAF0AaQBpAHIAcgCMAIwAhACEAK8ArwDaANoAzwDPAKkAqQCMAIwAeAB4ALMAswDdAN0A1ADUAMEAwQB9AH0AcABwAHUAdQBmAGYAgwCDAGIAYgAtAC0AUgBSAE4ATgA1ADUADAAMALX/tf/u/+7/EgASAO//7/9MAEwAhQCFAHYAdgAnACcA1f/V/87/zv/i/+L/HwAfAEAAQAAuAC4A7v/u/4f/h//r/uv+0v7S/rb+tv6q/qr+Av8C//L+8v7Y/tj+3v7e/v/+//76/vr+2P7Y/pf+l/7a/tr+RP9E/77/vv8lACUAOAA4AA0ADQCy/7L/of+h/8j/yP+3/7f/x//H/wcABwA1ADUAz//P/3z/fP9P/0//XP9c/8D/wP+7/7v/yf/J/zEAMQBFAEUAMAAwABMAEwA0ADQAOgA6AB4AHgBHAEcAmgCaAKYApgBeAF4AWwBbADYANgA9AD0APgA+ABIAEgA/AD8A+v/6/0wATAAIAAgA7//v/0IAQgDO/87/HQAdAGAAYAA7ADsAYwBjADoAOgAkACQAMQAxAAAAAAAhACEAEQARAO3/7f8CAAIAJQAlANv/2//1//X/9f/1//L/8v8HAAcAJgAmAEQARABMAEwATABMAEcARwBBAEEARABEAH0AfQB9AH0AfgB+AGkAaQB3AHcAvf+9/4wBjAH4//j/af9p/y4BLgEM/wz/wwDDAPYA9gDl/+X/MwAzAAb+Bv7w/vD+Uv9S/0cARwDYANgAx//H/0P/Q/9e/17/gf+B/53/nf9EAEQAA/8D//j++P5e/17/Cf8J/7D+sP7r/ev9Gv8a/4D/gP/FAMUA4gDiAA4ADgCZAJkA3f7d/sb+xv4tAC0AKwArAL7/vv9TAFMAPQE9AXcAdwD4APgA7v7u/vb+9v6g/6D/mv+a/0n/Sf/j/+P/LP4s/pP/k/+WAZYBeQB5AH//f//PAM8ABP4E/p3/nf+c/5z/of+h/3kDeQP0//T/AwADAFUAVQDu/e79iP+I/5H/kf+BAIEAvwK/Aoj/iP8//j/+eQB5AGH/Yf9c/1z/yP7I/nH/cf/Z/9n/ff19/fP68/os/iz+9fr1+l79Xv1MAEwAJAAkAJf/l//t/u3+6vzq/Kr9qv0c/xz/FgEWAX8CfwJ8AnwCiAGIAfMC8wKLAIsAQwBDAPn++f4W/xb/rgGuAXcEdwTvAu8Cff99/2ICYgIK/gr+S/1L/asBqwG4/bj9aP1o/dEA0QCu/67/RgJGAoACgALv/+//Pv8+/zb8NvzY+Nj4uAG4AYIDggMLBwsH7QXtBfv++/5QAFAAiQSJBCoAKgC/A78DgQCBAIQAhADcBdwFeAV4BcwAzABRAFEA0frR+ocBhwFrBWsF7gPuAw8EDwTB/sH+DfwN/PP/8/8TARMBQwNDAzAEMARKAkoCBQIFAt0C3QIVAxUD3QLdAksCSwKfAZ8B4QPhA90C3QKdA50DTABMAGD/YP9aAVoBEwUTBfQE9AQpAikCJf8l/5T8lPxV+lX6rP6s/kL9Qv3p/un+SAJIAm4BbgEZ/hn+8/7z/h37HftF+kX6lPyU/Ef7R/v3/Pf8xP/E/4YAhgAZARkBdf11/Yz+jP4c/hz+zPvM+4D9gP1G+0b7DvsO+w0BDQEEAwQDkP6Q/nn/ef9+/H78Hvwe/AoACgDj/uP+u/y7/O/87/xY/lj+rv+u/8z9zP3y//L/fP18/XX9df2WAJYAzQDNADL9Mv0g/iD+Mvwy/Gz6bPp//3///gD+AMX/xf/9//3/lP6U/gj/CP9O/07/hwGHAYP/g//t/O387f/t//////+OAI4AvwK/AhUDFQP8APwAtgK2AiQBJAFw/XD9gP+A/2gAaABaAVoBTAJMAtUB1QEOAg4CBgEGATEDMQMzADMAVP5U/vD/8P82AjYCAAIAAisBKwFLAEsAYv9i/6MCowIfBB8E5ALkApMCkwI3ATcB0QDRAJsAmwAwAjACxwDHAC8BLwEQAxADeQJ5AhEDEQPRAdEBWQBZAGz+bP4w/zD/ugC6AK8BrwFOAk4C+P/4/wz+DP7k/OT8Ff8V/9L/0v9T/1P/2wDbAMD+wP75//n/LAEsAe//7/+7/7v/JAEkASYAJgDIAMgAfwJ/AqUBpQGAAoAC9AH0AUP+Q/7y/vL+tQG1AU0DTQPyAvICwwHDARkAGQDh/uH+Y/9j/wkBCQFmAGYAV/9X/8//z/9W/1b/YP5g/mT/ZP8I/gj+nf6d/sP/w/8P/w//BP0E/dr+2v46/jr+c/1z/Zr9mv3V+9X7CvwK/FT+VP4G/wb/bP5s/hD/EP+2/rb+5/3n/XD+cP6x/bH9Av8C/ygAKACZ/5n/EgASAOL+4v6k/6T/Nf81/+X95f1s/Wz9XP1c/V3/Xf+b/5v//f/9/1H/Uf+j/qP+Nv82/2r9av3q/ur+Vv5W/gr+Cv4f/h/+Yf9h/7z/vP/h/+H/Cv8K//3+/f76APoA/QH9AXcCdwIzAjMCo/+j/9MA0wAMAQwBPQA9AKoAqgCg/6D/9gD2AIEBgQGGAYYB2wDbAJ0AnQCj/6P/8v7y/oT+hP4E/wT/7wDvAM0AzQAbAhsCKgIqAnoAegB1AHUAkf+R/9b/1v9FAEUAewB7AKkAqQAJAAkAk/+T/+X/5f9KAkoCgAGAAV0CXQKPAI8ABgAGAIkBiQFcAFwA+QD5ADYBNgHqAOoA6QDpAIoAigCc/5z/wQHBAV4BXgEAAAAAdAB0AB3/Hf9T/1P/CgEKAb0AvQA4ATgB/P/8/20AbQDDAMMAhACEAO4A7gCxALEAdv92/5z/nP+L/4v/H/8f/+gA6AC9Ab0BHgEeAVwCXAKDAIMAvv++/yYAJgDB/8H/pACkAHIAcgBQ/1D/fP58/oD+gP4R/xH/R/9H/8T/xP+wALAA0wDTAF//X/+AAIAApv6m/gT/BP+4/7j/x//H/8z/zP/4//j/RgBGAFH/Uf/a/tr+cP1w/aL9ov2w/rD+8v7y/qP/o//p/+n/MQAxAE8ATwBnAGcAiwCLAEYARgAV/xX/w//D/1T/VP9n/2f/5f/l/98A3wBvAG8AmwCbAIQBhAGa/5r//v7+/lsAWwAFAQUBCgEKAWsAawCj/6P/tP+0/2EAYQAkASQBqACoAK0ArQCd/p3+lP+U/7b/tv+cAJwAxADEAKcApwBSAFIAtwG3AecB5wFzAXMBYgBiAAAAAACNAI0AsACwAKoAqgABAAEAGQAZACUAJQDt/+3/xQDFAEYARgCe/57/Rv9G/9H/0f9i/2L/+f75/lf/V//K/8r/T/9P/3b/dv+d/p3+IP4g/p39nf0l/iX+5f7l/oT/hP/b/tv++/77/vj++P7F/sX+hgCGAM0AzQDyAfIBXwJfAq4BrgGfAZ8B/gH+AV4BXgGVAZUB3wDfAEQARADtAO0AzgDOAP3//f8C/wL/MP4w/mL+Yv5D/kP+cf1x/Xr/ev9Z/1n/mv+a/+T/5P/O/s7+qP+o/yYAJgCS/5L/c/9z/xEAEQAm/yb/h/+H/wP/A/9F/0X/DwAPAKsBqwGyArICawFrAYD/gP8w/jD+EfwR/Kb8pvx2/Xb94/7j/ub/5v9WAFYA6wDrAF//X/8b/hv+B/wH/Cv7K/vd+937gv2C/Wb+Zv67/7v/jgCOAMUAxQAFAAUAff59/pX+lf4K/gr+Bv4G/iv+K/7Z/Nn8W/1b/Zr/mv8EAAQACgIKAv4A/gCZAJkAz//P//7//v/FAMUAZgBmAJoBmgFVAVUBiAKIAvQD9AOHBYcF6gTqBAACAAJr/2v/R/5H/h4BHgF2A3YDDwQPBBsDGwOcApwCAAIAAkkBSQGeA54DTwRPBPMD8wMtBC0EtQK1ArgCuAJHAkcC8f/x/5X/lf8hACEAvQC9ALYCtgI1AjUCYwFjAUkASQBJ/0n/K/8r/5//n//f/9//0v/S/+T/5P8j/yP/hP+E/8b/xv8WABYAHQAdANEA0QBqAWoBMwEzAY0BjQHZANkABgEGAdoA2gBfAF8AE/8T/3D+cP45/zn/mwCbADgBOAEaARoBpwCnANj/2P9YAFgAuwC7AC4ALgBCAUIBEQIRAr8BvwH2APYAMwEzAfMA8wB8AXwBuwG7ATwBPAHF/8X/0/7T/m/+b/4B/gH+1f7V/uH94f19/n3+MP8w/2P/Y/+H/4f/J/0n/Vv8W/zC/ML86Pzo/B7/Hv9GAEYAuv+6/7/+v/66/7r/+gD6AEEAQQARABEATQBNAHkBeQGvAK8Aqv+q/y/+L/5T/VP9Zfxl/Nr72vtf+1/7dPt0+4T8hPz1/PX8z/zP/B/9H/0s/Sz9sv2y/UP+Q/7o/uj+4P/g/7IAsgB7AXsBxAHEAUIDQgOaA5oDWQRZBMQFxAWhBKEE0QPRAxcDFwOkAaQBAwEDAeIA4gBwAXABXwNfA6EDoQOLAosC8wDzAP7//v+sAKwAPwI/Aq8DrwMQAxADvAK8AsMEwwSUBZQFNAQ0BMYExgQABQAFEgQSBDgDOAPmAeYBVQFVAeQA5ACl/6X/Kv8q/4P/g/+A/4D/Nf81/3H/cf8J/wn/0PzQ/Nf61/oQ+RD5H/kf+Rb6FvrL+8v7nfyd/Gn9af3O/c79Hf0d/Tz8PPxf+1/7+fv5+5n8mfx9/X39AP8A/wj/CP99/n3+Yfxh/Cz8LPxa+1r7WPtY+wT9BP3F/MX8vPy8/Lv8u/xl/GX86Pvo+wL8AvwG/Ab8z/7P/gEAAQAhACEArv+u/18AXwAQABAAXABcAM7/zv+x/7H/3QHdAeAB4AFlAmUCMwMzA8cBxwGDAYMBvgG+AXkAeQBIAUgBzADMAO8A7wBjAGMAUQBRAP7+/v6aAJoAVwBXAPb+9v5AAEAAYP1g/a39rf0CAQIBMQAxAMcBxwGEAoQCZAFkAQIAAgB6AXoBA/0D/SgAKADI/sj+2P3Y/ZoCmgJYAVgB6QDpAMABwAG8/Lz8wvvC+x/+H/6X/Zf9mv6a/rL/sv+2AbYBgv6C/tr+2v4H+wf7EPwQ/CP8I/xt+237Mvsy+zv7O/vU+9T7kvuS+3X+df4z+zP7Zfpl+v38/fzx/vH+ngCeADMDMwPY/9j/eQB5AKcCpwJOA04DlgWWBYwEjAROBU4FGQUZBSkHKQdoA2gDhQSFBEoFSgVfBF8E0QbRBkIFQgXwBfAF0QTRBBoEGgSmAqYCVgRWBFEEUQTQBNAE6wPrA1MCUwLuAO4ArP+s/5IAkgCsAawB4AHgAYECgQLdAd0B+//7/y7/Lv8o/Sj9eP94/xr+Gv6u/a79x/7H/nj/eP+9AL0AqQCpAEr+Sv5F/UX9Yf5h/uL94v2J/Yn9Uv1S/b7+vv5s/2z/PAE8AVoBWgGiAaIB8gHyAQ4BDgHEAcQBqQCpALkAuQBJAUkBcQJxAkMCQwIrAysDyQLJAkQCRAJPAk8CmQCZAJn+mf6P/Y/9pP2k/WL/Yv+fAZ8BwALAAokCiQKMAowCwgDCAIn+if71/fX9af1p/Xj+eP6OAI4AIAEgAVIBUgEaARoBMP8w//z9/P0X/xf/8/7z/hwAHACDAYMBlAGUAS8BLwEsACwA3gDeAHYBdgHVANUAvf+9/yf/J/8y/jL+cP1w/eb95v1D/kP+sv2y/Sb+Jv5k/WT9Ev4S/oj+iP7W/db9zP7M/nD+cP46/jr+sf6x/qj+qP4f/h/+qv2q/Y79jv3f/d/9FP4U/mj+aP4K/wr/If4h/rH9sf05/jn+eP54/i3/Lf+G/ob+0/7T/o0AjQAfAR8BAQEBAUgASABp/2n/df51/kD+QP4r/yv/3v/e/3wAfABQAFAAqACoAOcA5wBLAEsA7gDuABkBGQEiACIA2P/Y/2r/av9y/3L/RABEAMb/xv/Z/tn+yP7I/mv+a/5M/kz+if+J/9H+0f5x/XH9Zf1l/cL9wv1f/l/+oP+g/5IAkgCFAIUAIAAgAAr/Cv9h/mH+pf6l/rj+uP7u/u7+w//D/30AfQA4ADgASABIANIA0gBx/3H/Sv5K/kb/Rv9RAFEAVABUANYA1gB8AHwAy//L/8n/yf++/77/lwCXAAYBBgFLAEsAhACEAOYA5gBcAFwAiACIABcBFwFvAG8A3f/d/8X/xf8VABUAzwDPANgA2ABuAG4Atv+2/+n+6f7r/uv+nv+e/9H/0f9ZAFkADwEPAUgBSAGYAZgBLwEvAe//7/8d/x3/NP80//f+9/7f/t/+uP+4/6kAqQA1ADUA3P/c/8r/yv8k/yT/F/8X/zcANwD3APcANQE1AdMB0wFfAl8C4wLjAscBxwGQAJAAlwCXAHEAcQDz//P/pACkADIBMgG/AL8AIAEgAWoBagHJAMkACAAIAIUAhQDAAcABQAJAArcCtwIoAygDcAJwAu8B7wEXAhcCRgFGAaAAoAAZARkBsQCxAC8ALwBoAGgAAQABAOb/5v8YABgAfP98/1X/Vf/f/9//KQApANcA1wAfAR8BtwC3ACoBKgESAhICLAEsAYAAgAB+AH4A0f/R/+7/7v/AAMAAFQEVAev/6/+g/6D/PQA9AMD/wP/i/+L/EAEQAUEBQQFqAWoBewF7AeUA5QCKAIoADgAOADsAOwBuAW4BuQG5AacBpwHGAsYCogKiAloBWgFHAEcAWP9Y/2X/Zf/xAPEAwgHCAWEBYQEUARQBSwBLANT/1P/Y/9j/of+h/7D/sP+B/4H/0P7Q/n//f/87/zv/lv6W/nn+ef5S/VL9j/yP/F/8X/w+/T795P3k/fb99v0n/if+u/67/or+iv6q/qr+Lv8u/9/+3/6r/qv+b/5v/iz+LP66/br9qv2q/aX9pf0h/iH+Tf5N/qT+pP7e/t7+Rf5F/oD+gP4B/wH/B/8H/zv/O//s/+z/6ADoAHsBewG0AbQB8QDxAGQAZAAEAAQAGQAZABEBEQE+AT4BYQFhAckAyQAqACoAif+J/w//D//r/uv+Y/9j///////l/+X/x//H/9T+1P7t/u3+cv9y/6D/oP+K/4r/xf/F/+H+4f7T/tP+Wf9Z/2z/bP+//7//9//3/3r/ev9h/2H/RP9E/wz/DP9I/0j/l/+X/w7/Dv9r/2v/d/93/9r/2v9y/3L/J/4n/qf9p/0C/gL+/P78/rr/uv9NAE0AlwCXAIMAgwCz/7P/OP84/wX/Bf+C/oL+2v7a/iX/Jf9c/1z/CgAKAGQAZAD+//7/rP+s/5H/kf+G/4b/PAA8AKoAqgDqAOoAtgC2AD8APwCj/6P/yP/I/14AXgAiASIBqAGoAYkBiQEPAQ8BCgAKAOb/5v+4ALgA2ADYAP8A/wDpAOkAJAEkASwBLAE2ADYAVv9W/2//b//e/97/XwBfAHIBcgH3AfcB1wHXAeUB5QHAAcABvQC9AIsAiwBbAVsB0gHSAWMCYwI9Aj0CkAGQAfUA9QBSAFIAFgAWALf/t/8X/xf/Fv8W/+r/6v9OAE4Aif+J/9j+2P7t/u3+Rv9G/6j/qP+GAIYA3gDeACEAIQCcAJwA+AD4AJ0AnQDVANUAzADMANEA0QD6APoAmQGZAS4CLgImAiYCWQFZAQkACQA6/zr/MP8w/yz/LP+L/4v/if+J/5L/kv9k/2T/hf+F/0H/Qf9H/kf+6P7o/sT/xP9T/1P/l/+X/xEAEQBwAHAAUgFSAX8BfwEEAQQBwADAAJwAnABpAGkABgAGAKX/pf9+AH4AAAEAAYQAhAC7ALsAZgBmAE7/Tv8O/w7/Xv9e/x4AHgD3APcA1wDXACQAJAAOAA4AQgBCAJAAkACAAIAASgBKAMQAxAAFAQUBFAEUAfUA9QBNAE0AUf9R/zP/M/+L/4v/EwATAA8BDwEYABgAHv8e/4n/if/e/97/uf+5//L/8v/LAMsAJgEmAdgA2ADbANsAaABoABwAHAAoACgA5P/k/9z/3P8sACwApACkAMcAxwCnAKcAZ/9n/9T+1P4K/wr/tv+2//z//P/o/+j/9/73/oj+iP75/vn+Uv9S/8D/wP8LAAsA8P/w/yUAJQBVAFUA/v/+/+D/4P+E/4T/Lf8t/1r/Wv+v/6//6P/o/1L/Uv8b/xv/sf6x/mn+af4k/iT+5/3n/Qb+Bv7I/sj+ZP9k/0j/SP9Q/1D/Gf8Z/63+rf5r/mv+Pf49/uT95P3M/cz90/7T/rD/sP+D/4P/4/7j/t/+3/5p/2n/c/9z/0//T//8//z/FwEXAbwBvAEzATMB6f/p/yD/IP9m/2b/OP84/9X/1f/7//v/HAAcAKkAqQCVAJUADAAMAA4ADgCB/4H/Uf9R/1j/WP+Z/5n/3v/e/2cAZwAeAR4BLgEuARABEAFiAGIAJwAnANkA2QA/AT8BMAEwAcUAxQC8ALwAsQCxALMAswBpAGkAMAAwAEoASgBSAFIATgBOAMX/xf+T/5P/tv+2//P/8/8PAA8A+P/4//n/+f8vAC8AYQBhAH4AfgBpAGkAw//D/3L/cv/3//f/lQCVAJ4AngByAHIADAAMAOj/6P8gACAAqwCrAMsAywDOAM4AfgB+AA0ADQD+//7/XwBfAGYAZgA6ADoAGQAZAGMAYwADAQMBHQEdAZ8AnwAiACIABAAEAB8AHwAJAAkAOgA6AGwAbADnAOcA+AD4AL0AvQCHAIcArwCvAJ8AnwCCAIIAuQC5APMA8wAOAQ4B+AD4AKQApACZAJkAdQB1AGQAZACcAJwAHwAfAPr/+v8AAAAA/f/9/wIAAgAGAAYABQAFAAIAAgADAAMAAAAAAAIAAgAAAAAABQAFAAYABgAEAAQABAAEAP3//f/6//r//////wMAAwD/////AAAAAP3//f/8//z///////3//f//////AQABAAAAAAAAAAAA/////wIAAgAEAAQABwAHAAUABQABAAEABQAFAAIAAgA=\" type=\"audio/wav\" />\n",
              "                    Your browser does not support the audio element.\n",
              "                </audio>\n",
              "              "
            ]
          },
          "metadata": {},
          "execution_count": 54
        }
      ]
    },
    {
      "cell_type": "code",
      "source": [
        "def label_to_index(word):\n",
        "    # Return the position of the word in labels\n",
        "    return torch.tensor(labels.index(word))\n",
        "\n",
        "\n",
        "def index_to_label(index):\n",
        "    # Return the word corresponding to the index in labels\n",
        "    # This is the inverse of label_to_index\n",
        "    return labels[index]\n",
        "\n",
        "\n",
        "word_start = \"yes\"\n",
        "index = label_to_index(word_start)\n",
        "word_recovered = index_to_label(index)\n",
        "\n",
        "print(word_start, \"-->\", index, \"-->\", word_recovered)"
      ],
      "metadata": {
        "id": "2tZJu3IeS6wG",
        "outputId": "760b0e7a-71fb-4faf-c21a-9b0f1047a909",
        "colab": {
          "base_uri": "https://localhost:8080/"
        }
      },
      "execution_count": null,
      "outputs": [
        {
          "output_type": "stream",
          "name": "stdout",
          "text": [
            "yes --> tensor(33) --> yes\n"
          ]
        }
      ]
    },
    {
      "cell_type": "code",
      "source": [
        "def pad_sequence(batch):\n",
        "    # Make all tensor in a batch the same length by padding with zeros\n",
        "    batch = [item.t() for item in batch]\n",
        "    batch = torch.nn.utils.rnn.pad_sequence(batch, batch_first=True, padding_value=0.)\n",
        "    return batch.permute(0, 2, 1)\n",
        "\n",
        "\n",
        "def collate_fn(batch):\n",
        "\n",
        "    # A data tuple has the form:\n",
        "    # waveform, sample_rate, label, speaker_id, utterance_number\n",
        "\n",
        "    tensors, targets = [], []\n",
        "\n",
        "    # Gather in lists, and encode labels as indices\n",
        "    for waveform, _, label, *_ in batch:\n",
        "        tensors += [waveform]\n",
        "        targets += [label_to_index(label)]\n",
        "\n",
        "    # Group the list of tensors into a batched tensor\n",
        "    tensors = pad_sequence(tensors)\n",
        "    targets = torch.stack(targets)\n",
        "\n",
        "    return tensors, targets\n",
        "\n",
        "\n",
        "batch_size = 10\n",
        "\n",
        "if device == \"cuda\":\n",
        "    num_workers = 16\n",
        "    pin_memory = True\n",
        "else:\n",
        "    num_workers = 0\n",
        "    pin_memory = False\n",
        "\n",
        "train_loader = torch.utils.data.DataLoader(\n",
        "    train_set,\n",
        "    batch_size=batch_size,\n",
        "    shuffle=True,\n",
        "    collate_fn=collate_fn,\n",
        "    num_workers=num_workers,\n",
        "    pin_memory=pin_memory,\n",
        ")\n",
        "test_loader = torch.utils.data.DataLoader(\n",
        "    test_set,\n",
        "    batch_size=batch_size,\n",
        "    shuffle=False,\n",
        "    drop_last=False,\n",
        "    collate_fn=collate_fn,\n",
        "    num_workers=num_workers,\n",
        "    pin_memory=pin_memory,\n",
        ")"
      ],
      "metadata": {
        "id": "8SDCGUtiTEs3"
      },
      "execution_count": null,
      "outputs": []
    },
    {
      "cell_type": "code",
      "source": [
        "# Load pre-trained model\n",
        "model = M5(n_input=1, n_output=len(labels))  # Adjust n_input and n_output based on your task\n",
        "model.load_state_dict(torch.load('/content/m5_speech_commands.pth'))\n",
        "model.to(device)\n",
        "model.eval()  # Set the model to evaluation mode\n"
      ],
      "metadata": {
        "id": "JPHLI4rYQNi7",
        "outputId": "d5b95a06-92e5-4632-8902-67446f37660a",
        "colab": {
          "base_uri": "https://localhost:8080/"
        }
      },
      "execution_count": null,
      "outputs": [
        {
          "output_type": "execute_result",
          "data": {
            "text/plain": [
              "M5(\n",
              "  (conv1): Conv1d(1, 32, kernel_size=(80,), stride=(16,))\n",
              "  (bn1): BatchNorm1d(32, eps=1e-05, momentum=0.1, affine=True, track_running_stats=True)\n",
              "  (pool1): MaxPool1d(kernel_size=4, stride=4, padding=0, dilation=1, ceil_mode=False)\n",
              "  (conv2): Conv1d(32, 32, kernel_size=(3,), stride=(1,))\n",
              "  (bn2): BatchNorm1d(32, eps=1e-05, momentum=0.1, affine=True, track_running_stats=True)\n",
              "  (pool2): MaxPool1d(kernel_size=4, stride=4, padding=0, dilation=1, ceil_mode=False)\n",
              "  (conv3): Conv1d(32, 64, kernel_size=(3,), stride=(1,))\n",
              "  (bn3): BatchNorm1d(64, eps=1e-05, momentum=0.1, affine=True, track_running_stats=True)\n",
              "  (pool3): MaxPool1d(kernel_size=4, stride=4, padding=0, dilation=1, ceil_mode=False)\n",
              "  (conv4): Conv1d(64, 64, kernel_size=(3,), stride=(1,))\n",
              "  (bn4): BatchNorm1d(64, eps=1e-05, momentum=0.1, affine=True, track_running_stats=True)\n",
              "  (pool4): MaxPool1d(kernel_size=4, stride=4, padding=0, dilation=1, ceil_mode=False)\n",
              "  (fc1): Linear(in_features=64, out_features=35, bias=True)\n",
              ")"
            ]
          },
          "metadata": {},
          "execution_count": 57
        }
      ]
    },
    {
      "cell_type": "code",
      "source": [],
      "metadata": {
        "id": "aiZYyif-QjHz"
      },
      "execution_count": null,
      "outputs": []
    },
    {
      "cell_type": "code",
      "source": [
        "# Freeze all layers except the final fully connected layer\n",
        "for param in model.parameters():\n",
        "    param.requires_grad = False\n",
        "\n",
        "for param in model.fc1.parameters():  # Unfreeze the final layer for training\n",
        "    param.requires_grad = True\n"
      ],
      "metadata": {
        "id": "XTBZMS4cQ4JH"
      },
      "execution_count": null,
      "outputs": []
    },
    {
      "cell_type": "code",
      "source": [
        "import torch.optim as optim\n",
        "import torch.nn as nn\n",
        "\n",
        "criterion = nn.CrossEntropyLoss()  # Adjust if needed\n",
        "optimizer = optim.Adam(model.parameters(), lr=0.001)  # Lower learning rate for fine-tuning\n"
      ],
      "metadata": {
        "id": "w2h3x9kARwe_"
      },
      "execution_count": null,
      "outputs": []
    },
    {
      "cell_type": "code",
      "source": [
        "labels = sorted(list(set(datapoint[2] for datapoint in train_set)))\n",
        "labels\n"
      ],
      "metadata": {
        "id": "JusguxDpUwCK",
        "outputId": "630b0348-fd5b-48eb-fffc-4c3c886c7a73",
        "colab": {
          "base_uri": "https://localhost:8080/"
        }
      },
      "execution_count": null,
      "outputs": [
        {
          "output_type": "execute_result",
          "data": {
            "text/plain": [
              "['backward',\n",
              " 'bed',\n",
              " 'bird',\n",
              " 'cat',\n",
              " 'dog',\n",
              " 'down',\n",
              " 'eight',\n",
              " 'five',\n",
              " 'follow',\n",
              " 'forward',\n",
              " 'four',\n",
              " 'go',\n",
              " 'happy',\n",
              " 'house',\n",
              " 'learn',\n",
              " 'left',\n",
              " 'marvin',\n",
              " 'nine',\n",
              " 'no',\n",
              " 'off',\n",
              " 'on',\n",
              " 'one',\n",
              " 'right',\n",
              " 'seven',\n",
              " 'sheila',\n",
              " 'six',\n",
              " 'stop',\n",
              " 'three',\n",
              " 'tree',\n",
              " 'two',\n",
              " 'up',\n",
              " 'visual',\n",
              " 'wow',\n",
              " 'yes',\n",
              " 'zero']"
            ]
          },
          "metadata": {},
          "execution_count": 65
        }
      ]
    },
    {
      "cell_type": "code",
      "source": [
        "model.train()  # Set the model to training mode\n",
        "\n",
        "log_interval = 10\n",
        "n_epoch = 16\n",
        "\n",
        "pbar_update = 1 / (len(train_loader) + len(test_loader))\n",
        "losses = []\n",
        "\n",
        "# The transform needs to live on the same device as the model and the data.\n",
        "transform = transform.to(device)\n",
        "with tqdm(total=n_epoch) as pbar:\n",
        "    for epoch in range(1, n_epoch + 1):\n",
        "        train(model, epoch, log_interval)\n",
        "        test(model, epoch)\n",
        "        scheduler.step()\n",
        "\n",
        "# Let's plot the training loss versus the number of iteration.\n",
        "plt.plot(losses);\n",
        "plt.title(\"training loss\");\n"
      ],
      "metadata": {
        "id": "Ql-DuY5cSHNx",
        "outputId": "e979869e-7e45-4dd8-f3b9-671d8f199459",
        "colab": {
          "base_uri": "https://localhost:8080/",
          "height": 1000
        }
      },
      "execution_count": null,
      "outputs": [
        {
          "output_type": "stream",
          "name": "stderr",
          "text": [
            "  0%|          | 0.043478260869565216/16 [00:00<01:13,  4.63s/it]"
          ]
        },
        {
          "output_type": "stream",
          "name": "stdout",
          "text": [
            "Train Epoch: 1 [0/535 (0%)]\tLoss: 1.323103\n"
          ]
        },
        {
          "output_type": "stream",
          "name": "stderr",
          "text": [
            "  1%|          | 0.1884057971014493/16 [00:00<01:08,  4.34s/it] "
          ]
        },
        {
          "output_type": "stream",
          "name": "stdout",
          "text": [
            "Train Epoch: 1 [100/535 (19%)]\tLoss: 1.900123\n"
          ]
        },
        {
          "output_type": "stream",
          "name": "stderr",
          "text": [
            "  2%|▏         | 0.3333333333333334/16 [00:01<01:23,  5.35s/it]"
          ]
        },
        {
          "output_type": "stream",
          "name": "stdout",
          "text": [
            "Train Epoch: 1 [200/535 (37%)]\tLoss: 0.660024\n"
          ]
        },
        {
          "output_type": "stream",
          "name": "stderr",
          "text": [
            "  3%|▎         | 0.4782608695652176/16 [00:02<01:26,  5.58s/it] "
          ]
        },
        {
          "output_type": "stream",
          "name": "stdout",
          "text": [
            "Train Epoch: 1 [300/535 (56%)]\tLoss: 1.570910\n"
          ]
        },
        {
          "output_type": "stream",
          "name": "stderr",
          "text": [
            "  4%|▍         | 0.6231884057971012/16 [00:03<01:24,  5.50s/it]"
          ]
        },
        {
          "output_type": "stream",
          "name": "stdout",
          "text": [
            "Train Epoch: 1 [400/535 (74%)]\tLoss: 1.257939\n"
          ]
        },
        {
          "output_type": "stream",
          "name": "stderr",
          "text": [
            "  5%|▍         | 0.7681159420289848/16 [00:03<01:01,  4.04s/it]"
          ]
        },
        {
          "output_type": "stream",
          "name": "stdout",
          "text": [
            "Train Epoch: 1 [500/535 (93%)]\tLoss: 0.829635\n"
          ]
        },
        {
          "output_type": "stream",
          "name": "stderr",
          "text": [
            "  6%|▋         | 1.0289855072463754/16 [00:04<00:53,  3.58s/it]"
          ]
        },
        {
          "output_type": "stream",
          "name": "stdout",
          "text": [
            "\n",
            "Test Epoch: 1\tAccuracy: 87/145 (60%)\n",
            "\n",
            "Train Epoch: 2 [0/535 (0%)]\tLoss: 0.705284\n"
          ]
        },
        {
          "output_type": "stream",
          "name": "stderr",
          "text": [
            "  8%|▊         | 1.202898550724637/16 [00:05<00:54,  3.71s/it]"
          ]
        },
        {
          "output_type": "stream",
          "name": "stdout",
          "text": [
            "Train Epoch: 2 [100/535 (19%)]\tLoss: 1.447238\n"
          ]
        },
        {
          "output_type": "stream",
          "name": "stderr",
          "text": [
            "  8%|▊         | 1.3478260869565217/16 [00:05<00:54,  3.71s/it]"
          ]
        },
        {
          "output_type": "stream",
          "name": "stdout",
          "text": [
            "Train Epoch: 2 [200/535 (37%)]\tLoss: 1.030103\n"
          ]
        },
        {
          "output_type": "stream",
          "name": "stderr",
          "text": [
            "  9%|▉         | 1.4927536231884064/16 [00:06<00:55,  3.83s/it]"
          ]
        },
        {
          "output_type": "stream",
          "name": "stdout",
          "text": [
            "Train Epoch: 2 [300/535 (56%)]\tLoss: 0.582197\n"
          ]
        },
        {
          "output_type": "stream",
          "name": "stderr",
          "text": [
            " 10%|█         | 1.6376811594202911/16 [00:07<00:54,  3.80s/it]"
          ]
        },
        {
          "output_type": "stream",
          "name": "stdout",
          "text": [
            "Train Epoch: 2 [400/535 (74%)]\tLoss: 1.266209\n"
          ]
        },
        {
          "output_type": "stream",
          "name": "stderr",
          "text": [
            " 11%|█         | 1.7971014492753643/16 [00:07<00:50,  3.58s/it]"
          ]
        },
        {
          "output_type": "stream",
          "name": "stdout",
          "text": [
            "Train Epoch: 2 [500/535 (93%)]\tLoss: 1.407802\n"
          ]
        },
        {
          "output_type": "stream",
          "name": "stderr",
          "text": [
            " 13%|█▎        | 2.043478260869568/16 [00:08<00:51,  3.67s/it]"
          ]
        },
        {
          "output_type": "stream",
          "name": "stdout",
          "text": [
            "\n",
            "Test Epoch: 2\tAccuracy: 91/145 (63%)\n",
            "\n",
            "Train Epoch: 3 [0/535 (0%)]\tLoss: 1.853072\n"
          ]
        },
        {
          "output_type": "stream",
          "name": "stderr",
          "text": [
            " 14%|█▎        | 2.1884057971014528/16 [00:09<00:52,  3.82s/it]"
          ]
        },
        {
          "output_type": "stream",
          "name": "stdout",
          "text": [
            "Train Epoch: 3 [100/535 (19%)]\tLoss: 1.063182\n"
          ]
        },
        {
          "output_type": "stream",
          "name": "stderr",
          "text": [
            " 15%|█▍        | 2.3333333333333375/16 [00:09<00:53,  3.89s/it]"
          ]
        },
        {
          "output_type": "stream",
          "name": "stdout",
          "text": [
            "Train Epoch: 3 [200/535 (37%)]\tLoss: 1.510522\n"
          ]
        },
        {
          "output_type": "stream",
          "name": "stderr",
          "text": [
            " 15%|█▌        | 2.478260869565222/16 [00:10<00:52,  3.91s/it] "
          ]
        },
        {
          "output_type": "stream",
          "name": "stdout",
          "text": [
            "Train Epoch: 3 [300/535 (56%)]\tLoss: 1.717840\n"
          ]
        },
        {
          "output_type": "stream",
          "name": "stderr",
          "text": [
            " 16%|█▋        | 2.623188405797107/16 [00:10<00:52,  3.93s/it]"
          ]
        },
        {
          "output_type": "stream",
          "name": "stdout",
          "text": [
            "Train Epoch: 3 [400/535 (74%)]\tLoss: 0.926896\n"
          ]
        },
        {
          "output_type": "stream",
          "name": "stderr",
          "text": [
            " 17%|█▋        | 2.7681159420289916/16 [00:11<00:52,  3.97s/it]"
          ]
        },
        {
          "output_type": "stream",
          "name": "stdout",
          "text": [
            "Train Epoch: 3 [500/535 (93%)]\tLoss: 0.561408\n"
          ]
        },
        {
          "output_type": "stream",
          "name": "stderr",
          "text": [
            " 19%|█▉        | 3.028985507246384/16 [00:12<00:48,  3.75s/it] "
          ]
        },
        {
          "output_type": "stream",
          "name": "stdout",
          "text": [
            "\n",
            "Test Epoch: 3\tAccuracy: 92/145 (63%)\n",
            "\n",
            "Train Epoch: 4 [0/535 (0%)]\tLoss: 1.805665\n"
          ]
        },
        {
          "output_type": "stream",
          "name": "stderr",
          "text": [
            " 20%|██        | 3.2028985507246457/16 [00:13<00:49,  3.90s/it]"
          ]
        },
        {
          "output_type": "stream",
          "name": "stdout",
          "text": [
            "Train Epoch: 4 [100/535 (19%)]\tLoss: 0.304795\n"
          ]
        },
        {
          "output_type": "stream",
          "name": "stderr",
          "text": [
            " 21%|██        | 3.3188405797101534/16 [00:13<01:04,  5.05s/it]"
          ]
        },
        {
          "output_type": "stream",
          "name": "stdout",
          "text": [
            "Train Epoch: 4 [200/535 (37%)]\tLoss: 0.303576\n"
          ]
        },
        {
          "output_type": "stream",
          "name": "stderr",
          "text": [
            " 22%|██▏       | 3.463768115942038/16 [00:14<01:11,  5.74s/it]"
          ]
        },
        {
          "output_type": "stream",
          "name": "stdout",
          "text": [
            "Train Epoch: 4 [300/535 (56%)]\tLoss: 1.451659\n"
          ]
        },
        {
          "output_type": "stream",
          "name": "stderr",
          "text": [
            " 23%|██▎       | 3.608695652173923/16 [00:15<01:12,  5.87s/it]"
          ]
        },
        {
          "output_type": "stream",
          "name": "stdout",
          "text": [
            "Train Epoch: 4 [400/535 (74%)]\tLoss: 0.955723\n"
          ]
        },
        {
          "output_type": "stream",
          "name": "stderr",
          "text": [
            " 24%|██▎       | 3.797101449275373/16 [00:16<00:51,  4.20s/it] "
          ]
        },
        {
          "output_type": "stream",
          "name": "stdout",
          "text": [
            "Train Epoch: 4 [500/535 (93%)]\tLoss: 0.752875\n"
          ]
        },
        {
          "output_type": "stream",
          "name": "stderr",
          "text": [
            " 25%|██▌       | 4.043478260869577/16 [00:17<00:46,  3.93s/it]"
          ]
        },
        {
          "output_type": "stream",
          "name": "stdout",
          "text": [
            "\n",
            "Test Epoch: 4\tAccuracy: 105/145 (72%)\n",
            "\n",
            "Train Epoch: 5 [0/535 (0%)]\tLoss: 1.273694\n"
          ]
        },
        {
          "output_type": "stream",
          "name": "stderr",
          "text": [
            " 26%|██▌       | 4.188405797101462/16 [00:17<00:45,  3.84s/it]"
          ]
        },
        {
          "output_type": "stream",
          "name": "stdout",
          "text": [
            "Train Epoch: 5 [100/535 (19%)]\tLoss: 0.860272\n"
          ]
        },
        {
          "output_type": "stream",
          "name": "stderr",
          "text": [
            " 27%|██▋       | 4.333333333333346/16 [00:18<00:46,  4.02s/it]"
          ]
        },
        {
          "output_type": "stream",
          "name": "stdout",
          "text": [
            "Train Epoch: 5 [200/535 (37%)]\tLoss: 0.894993\n"
          ]
        },
        {
          "output_type": "stream",
          "name": "stderr",
          "text": [
            " 28%|██▊       | 4.478260869565231/16 [00:18<00:45,  3.99s/it]"
          ]
        },
        {
          "output_type": "stream",
          "name": "stdout",
          "text": [
            "Train Epoch: 5 [300/535 (56%)]\tLoss: 0.823298\n"
          ]
        },
        {
          "output_type": "stream",
          "name": "stderr",
          "text": [
            " 29%|██▉       | 4.623188405797116/16 [00:19<00:44,  3.95s/it]"
          ]
        },
        {
          "output_type": "stream",
          "name": "stdout",
          "text": [
            "Train Epoch: 5 [400/535 (74%)]\tLoss: 0.835765\n"
          ]
        },
        {
          "output_type": "stream",
          "name": "stderr",
          "text": [
            " 30%|██▉       | 4.7681159420290005/16 [00:20<00:43,  3.91s/it]"
          ]
        },
        {
          "output_type": "stream",
          "name": "stdout",
          "text": [
            "Train Epoch: 5 [500/535 (93%)]\tLoss: 0.828963\n"
          ]
        },
        {
          "output_type": "stream",
          "name": "stderr",
          "text": [
            " 32%|███▏      | 5.043478260869581/16 [00:21<00:41,  3.78s/it] "
          ]
        },
        {
          "output_type": "stream",
          "name": "stdout",
          "text": [
            "\n",
            "Test Epoch: 5\tAccuracy: 110/145 (76%)\n",
            "\n",
            "Train Epoch: 6 [0/535 (0%)]\tLoss: 0.566372\n"
          ]
        },
        {
          "output_type": "stream",
          "name": "stderr",
          "text": [
            " 32%|███▏      | 5.188405797101466/16 [00:21<00:41,  3.84s/it]"
          ]
        },
        {
          "output_type": "stream",
          "name": "stdout",
          "text": [
            "Train Epoch: 6 [100/535 (19%)]\tLoss: 1.028032\n"
          ]
        },
        {
          "output_type": "stream",
          "name": "stderr",
          "text": [
            " 33%|███▎      | 5.333333333333351/16 [00:22<00:41,  3.93s/it]"
          ]
        },
        {
          "output_type": "stream",
          "name": "stdout",
          "text": [
            "Train Epoch: 6 [200/535 (37%)]\tLoss: 1.050523\n"
          ]
        },
        {
          "output_type": "stream",
          "name": "stderr",
          "text": [
            " 34%|███▍      | 5.4782608695652355/16 [00:22<00:40,  3.81s/it]"
          ]
        },
        {
          "output_type": "stream",
          "name": "stdout",
          "text": [
            "Train Epoch: 6 [300/535 (56%)]\tLoss: 0.519003\n"
          ]
        },
        {
          "output_type": "stream",
          "name": "stderr",
          "text": [
            " 35%|███▌      | 5.62318840579712/16 [00:23<00:42,  4.05s/it] "
          ]
        },
        {
          "output_type": "stream",
          "name": "stdout",
          "text": [
            "Train Epoch: 6 [400/535 (74%)]\tLoss: 0.545253\n"
          ]
        },
        {
          "output_type": "stream",
          "name": "stderr",
          "text": [
            " 36%|███▌      | 5.768115942029005/16 [00:23<00:39,  3.90s/it]"
          ]
        },
        {
          "output_type": "stream",
          "name": "stdout",
          "text": [
            "Train Epoch: 6 [500/535 (93%)]\tLoss: 0.898815\n"
          ]
        },
        {
          "output_type": "stream",
          "name": "stderr",
          "text": [
            " 38%|███▊      | 6.028985507246397/16 [00:24<00:35,  3.56s/it]"
          ]
        },
        {
          "output_type": "stream",
          "name": "stdout",
          "text": [
            "\n",
            "Test Epoch: 6\tAccuracy: 111/145 (77%)\n",
            "\n",
            "Train Epoch: 7 [0/535 (0%)]\tLoss: 0.505398\n"
          ]
        },
        {
          "output_type": "stream",
          "name": "stderr",
          "text": [
            " 39%|███▉      | 6.202898550724659/16 [00:25<00:36,  3.73s/it]"
          ]
        },
        {
          "output_type": "stream",
          "name": "stdout",
          "text": [
            "Train Epoch: 7 [100/535 (19%)]\tLoss: 0.552505\n"
          ]
        },
        {
          "output_type": "stream",
          "name": "stderr",
          "text": [
            " 40%|███▉      | 6.333333333333355/16 [00:26<00:43,  4.46s/it]"
          ]
        },
        {
          "output_type": "stream",
          "name": "stdout",
          "text": [
            "Train Epoch: 7 [200/535 (37%)]\tLoss: 1.183349\n"
          ]
        },
        {
          "output_type": "stream",
          "name": "stderr",
          "text": [
            " 40%|████      | 6.47826086956524/16 [00:26<00:49,  5.18s/it] "
          ]
        },
        {
          "output_type": "stream",
          "name": "stdout",
          "text": [
            "Train Epoch: 7 [300/535 (56%)]\tLoss: 0.709548\n"
          ]
        },
        {
          "output_type": "stream",
          "name": "stderr",
          "text": [
            " 41%|████▏     | 6.623188405797125/16 [00:27<00:51,  5.52s/it]"
          ]
        },
        {
          "output_type": "stream",
          "name": "stdout",
          "text": [
            "Train Epoch: 7 [400/535 (74%)]\tLoss: 0.770277\n"
          ]
        },
        {
          "output_type": "stream",
          "name": "stderr",
          "text": [
            " 42%|████▏     | 6.768115942029009/16 [00:28<00:50,  5.47s/it]"
          ]
        },
        {
          "output_type": "stream",
          "name": "stdout",
          "text": [
            "Train Epoch: 7 [500/535 (93%)]\tLoss: 1.283567\n"
          ]
        },
        {
          "output_type": "stream",
          "name": "stderr",
          "text": [
            " 44%|████▍     | 7.04347826086959/16 [00:29<00:32,  3.67s/it] "
          ]
        },
        {
          "output_type": "stream",
          "name": "stdout",
          "text": [
            "\n",
            "Test Epoch: 7\tAccuracy: 113/145 (78%)\n",
            "\n",
            "Train Epoch: 8 [0/535 (0%)]\tLoss: 0.347103\n"
          ]
        },
        {
          "output_type": "stream",
          "name": "stderr",
          "text": [
            " 45%|████▍     | 7.188405797101475/16 [00:29<00:31,  3.62s/it]"
          ]
        },
        {
          "output_type": "stream",
          "name": "stdout",
          "text": [
            "Train Epoch: 8 [100/535 (19%)]\tLoss: 0.641143\n"
          ]
        },
        {
          "output_type": "stream",
          "name": "stderr",
          "text": [
            " 46%|████▌     | 7.33333333333336/16 [00:30<00:32,  3.80s/it] "
          ]
        },
        {
          "output_type": "stream",
          "name": "stdout",
          "text": [
            "Train Epoch: 8 [200/535 (37%)]\tLoss: 1.034464\n"
          ]
        },
        {
          "output_type": "stream",
          "name": "stderr",
          "text": [
            " 47%|████▋     | 7.478260869565244/16 [00:31<00:32,  3.82s/it]"
          ]
        },
        {
          "output_type": "stream",
          "name": "stdout",
          "text": [
            "Train Epoch: 8 [300/535 (56%)]\tLoss: 1.046340\n"
          ]
        },
        {
          "output_type": "stream",
          "name": "stderr",
          "text": [
            " 48%|████▊     | 7.623188405797129/16 [00:31<00:31,  3.79s/it]"
          ]
        },
        {
          "output_type": "stream",
          "name": "stdout",
          "text": [
            "Train Epoch: 8 [400/535 (74%)]\tLoss: 0.270207\n"
          ]
        },
        {
          "output_type": "stream",
          "name": "stderr",
          "text": [
            " 49%|████▊     | 7.768115942029014/16 [00:32<00:32,  3.97s/it]"
          ]
        },
        {
          "output_type": "stream",
          "name": "stdout",
          "text": [
            "Train Epoch: 8 [500/535 (93%)]\tLoss: 1.177444\n"
          ]
        },
        {
          "output_type": "stream",
          "name": "stderr",
          "text": [
            " 50%|█████     | 8.028985507246404/16 [00:33<00:29,  3.75s/it]"
          ]
        },
        {
          "output_type": "stream",
          "name": "stdout",
          "text": [
            "\n",
            "Test Epoch: 8\tAccuracy: 116/145 (80%)\n",
            "\n",
            "Train Epoch: 9 [0/535 (0%)]\tLoss: 1.482112\n"
          ]
        },
        {
          "output_type": "stream",
          "name": "stderr",
          "text": [
            " 51%|█████▏    | 8.202898550724655/16 [00:33<00:29,  3.82s/it]"
          ]
        },
        {
          "output_type": "stream",
          "name": "stdout",
          "text": [
            "Train Epoch: 9 [100/535 (19%)]\tLoss: 0.201966\n"
          ]
        },
        {
          "output_type": "stream",
          "name": "stderr",
          "text": [
            " 52%|█████▏    | 8.34782608695653/16 [00:34<00:29,  3.87s/it] "
          ]
        },
        {
          "output_type": "stream",
          "name": "stdout",
          "text": [
            "Train Epoch: 9 [200/535 (37%)]\tLoss: 0.352158\n"
          ]
        },
        {
          "output_type": "stream",
          "name": "stderr",
          "text": [
            " 53%|█████▎    | 8.492753623188406/16 [00:34<00:28,  3.86s/it]"
          ]
        },
        {
          "output_type": "stream",
          "name": "stdout",
          "text": [
            "Train Epoch: 9 [300/535 (56%)]\tLoss: 0.400531\n"
          ]
        },
        {
          "output_type": "stream",
          "name": "stderr",
          "text": [
            " 54%|█████▍    | 8.637681159420282/16 [00:35<00:29,  4.01s/it]"
          ]
        },
        {
          "output_type": "stream",
          "name": "stdout",
          "text": [
            "Train Epoch: 9 [400/535 (74%)]\tLoss: 1.073570\n"
          ]
        },
        {
          "output_type": "stream",
          "name": "stderr",
          "text": [
            " 55%|█████▍    | 8.797101449275345/16 [00:36<00:26,  3.63s/it]"
          ]
        },
        {
          "output_type": "stream",
          "name": "stdout",
          "text": [
            "Train Epoch: 9 [500/535 (93%)]\tLoss: 0.738163\n"
          ]
        },
        {
          "output_type": "stream",
          "name": "stderr",
          "text": [
            " 57%|█████▋    | 9.043478260869534/16 [00:37<00:26,  3.75s/it]"
          ]
        },
        {
          "output_type": "stream",
          "name": "stdout",
          "text": [
            "\n",
            "Test Epoch: 9\tAccuracy: 122/145 (84%)\n",
            "\n",
            "Train Epoch: 10 [0/535 (0%)]\tLoss: 0.242371\n"
          ]
        },
        {
          "output_type": "stream",
          "name": "stderr",
          "text": [
            " 57%|█████▋    | 9.18840579710141/16 [00:37<00:26,  3.94s/it] "
          ]
        },
        {
          "output_type": "stream",
          "name": "stdout",
          "text": [
            "Train Epoch: 10 [100/535 (19%)]\tLoss: 0.362244\n"
          ]
        },
        {
          "output_type": "stream",
          "name": "stderr",
          "text": [
            " 58%|█████▊    | 9.333333333333286/16 [00:38<00:27,  4.08s/it]"
          ]
        },
        {
          "output_type": "stream",
          "name": "stdout",
          "text": [
            "Train Epoch: 10 [200/535 (37%)]\tLoss: 0.369067\n"
          ]
        },
        {
          "output_type": "stream",
          "name": "stderr",
          "text": [
            " 59%|█████▉    | 9.478260869565162/16 [00:39<00:35,  5.39s/it]"
          ]
        },
        {
          "output_type": "stream",
          "name": "stdout",
          "text": [
            "Train Epoch: 10 [300/535 (56%)]\tLoss: 0.215206\n"
          ]
        },
        {
          "output_type": "stream",
          "name": "stderr",
          "text": [
            " 60%|██████    | 9.623188405797038/16 [00:39<00:37,  5.83s/it]"
          ]
        },
        {
          "output_type": "stream",
          "name": "stdout",
          "text": [
            "Train Epoch: 10 [400/535 (74%)]\tLoss: 0.297259\n"
          ]
        },
        {
          "output_type": "stream",
          "name": "stderr",
          "text": [
            " 61%|██████    | 9.768115942028913/16 [00:40<00:36,  5.84s/it]"
          ]
        },
        {
          "output_type": "stream",
          "name": "stdout",
          "text": [
            "Train Epoch: 10 [500/535 (93%)]\tLoss: 0.753640\n"
          ]
        },
        {
          "output_type": "stream",
          "name": "stderr",
          "text": [
            " 63%|██████▎   | 10.043478260869477/16 [00:41<00:23,  3.86s/it]"
          ]
        },
        {
          "output_type": "stream",
          "name": "stdout",
          "text": [
            "\n",
            "Test Epoch: 10\tAccuracy: 124/145 (86%)\n",
            "\n",
            "Train Epoch: 11 [0/535 (0%)]\tLoss: 0.638082\n"
          ]
        },
        {
          "output_type": "stream",
          "name": "stderr",
          "text": [
            " 64%|██████▎   | 10.188405797101353/16 [00:42<00:23,  4.04s/it]"
          ]
        },
        {
          "output_type": "stream",
          "name": "stdout",
          "text": [
            "Train Epoch: 11 [100/535 (19%)]\tLoss: 0.630875\n"
          ]
        },
        {
          "output_type": "stream",
          "name": "stderr",
          "text": [
            " 65%|██████▍   | 10.33333333333323/16 [00:43<00:22,  3.92s/it] "
          ]
        },
        {
          "output_type": "stream",
          "name": "stdout",
          "text": [
            "Train Epoch: 11 [200/535 (37%)]\tLoss: 0.753498\n"
          ]
        },
        {
          "output_type": "stream",
          "name": "stderr",
          "text": [
            " 65%|██████▌   | 10.478260869565105/16 [00:43<00:21,  3.89s/it]"
          ]
        },
        {
          "output_type": "stream",
          "name": "stdout",
          "text": [
            "Train Epoch: 11 [300/535 (56%)]\tLoss: 0.169643\n"
          ]
        },
        {
          "output_type": "stream",
          "name": "stderr",
          "text": [
            " 66%|██████▋   | 10.62318840579698/16 [00:44<00:21,  3.93s/it] "
          ]
        },
        {
          "output_type": "stream",
          "name": "stdout",
          "text": [
            "Train Epoch: 11 [400/535 (74%)]\tLoss: 0.527000\n"
          ]
        },
        {
          "output_type": "stream",
          "name": "stderr",
          "text": [
            " 67%|██████▋   | 10.768115942028857/16 [00:44<00:20,  3.95s/it]"
          ]
        },
        {
          "output_type": "stream",
          "name": "stdout",
          "text": [
            "Train Epoch: 11 [500/535 (93%)]\tLoss: 0.488363\n"
          ]
        },
        {
          "output_type": "stream",
          "name": "stderr",
          "text": [
            " 69%|██████▉   | 11.028985507246233/16 [00:45<00:18,  3.78s/it]"
          ]
        },
        {
          "output_type": "stream",
          "name": "stdout",
          "text": [
            "\n",
            "Test Epoch: 11\tAccuracy: 127/145 (88%)\n",
            "\n",
            "Train Epoch: 12 [0/535 (0%)]\tLoss: 0.500892\n"
          ]
        },
        {
          "output_type": "stream",
          "name": "stderr",
          "text": [
            " 70%|███████   | 11.202898550724484/16 [00:46<00:19,  3.99s/it]"
          ]
        },
        {
          "output_type": "stream",
          "name": "stdout",
          "text": [
            "Train Epoch: 12 [100/535 (19%)]\tLoss: 0.682403\n"
          ]
        },
        {
          "output_type": "stream",
          "name": "stderr",
          "text": [
            " 71%|███████   | 11.34782608695636/16 [00:47<00:18,  3.97s/it] "
          ]
        },
        {
          "output_type": "stream",
          "name": "stdout",
          "text": [
            "Train Epoch: 12 [200/535 (37%)]\tLoss: 0.913325\n"
          ]
        },
        {
          "output_type": "stream",
          "name": "stderr",
          "text": [
            " 72%|███████▏  | 11.492753623188236/16 [00:47<00:17,  3.91s/it]"
          ]
        },
        {
          "output_type": "stream",
          "name": "stdout",
          "text": [
            "Train Epoch: 12 [300/535 (56%)]\tLoss: 0.118145\n"
          ]
        },
        {
          "output_type": "stream",
          "name": "stderr",
          "text": [
            " 73%|███████▎  | 11.637681159420111/16 [00:48<00:17,  4.12s/it]"
          ]
        },
        {
          "output_type": "stream",
          "name": "stdout",
          "text": [
            "Train Epoch: 12 [400/535 (74%)]\tLoss: 0.771734\n"
          ]
        },
        {
          "output_type": "stream",
          "name": "stderr",
          "text": [
            " 73%|███████▎  | 11.753623188405612/16 [00:48<00:18,  4.24s/it]"
          ]
        },
        {
          "output_type": "stream",
          "name": "stdout",
          "text": [
            "Train Epoch: 12 [500/535 (93%)]\tLoss: 0.485344\n"
          ]
        },
        {
          "output_type": "stream",
          "name": "stderr",
          "text": [
            " 75%|███████▌  | 12.043478260869364/16 [00:49<00:14,  3.78s/it]"
          ]
        },
        {
          "output_type": "stream",
          "name": "stdout",
          "text": [
            "\n",
            "Test Epoch: 12\tAccuracy: 125/145 (86%)\n",
            "\n",
            "Train Epoch: 13 [0/535 (0%)]\tLoss: 0.339032\n"
          ]
        },
        {
          "output_type": "stream",
          "name": "stderr",
          "text": [
            " 76%|███████▌  | 12.18840579710124/16 [00:50<00:14,  3.88s/it] "
          ]
        },
        {
          "output_type": "stream",
          "name": "stdout",
          "text": [
            "Train Epoch: 13 [100/535 (19%)]\tLoss: 0.773744\n"
          ]
        },
        {
          "output_type": "stream",
          "name": "stderr",
          "text": [
            " 77%|███████▋  | 12.333333333333115/16 [00:50<00:14,  3.92s/it]"
          ]
        },
        {
          "output_type": "stream",
          "name": "stdout",
          "text": [
            "Train Epoch: 13 [200/535 (37%)]\tLoss: 0.626974\n"
          ]
        },
        {
          "output_type": "stream",
          "name": "stderr",
          "text": [
            " 78%|███████▊  | 12.478260869564991/16 [00:51<00:18,  5.16s/it]"
          ]
        },
        {
          "output_type": "stream",
          "name": "stdout",
          "text": [
            "Train Epoch: 13 [300/535 (56%)]\tLoss: 0.790633\n"
          ]
        },
        {
          "output_type": "stream",
          "name": "stderr",
          "text": [
            " 79%|███████▉  | 12.623188405796867/16 [00:52<00:19,  5.67s/it]"
          ]
        },
        {
          "output_type": "stream",
          "name": "stdout",
          "text": [
            "Train Epoch: 13 [400/535 (74%)]\tLoss: 0.718283\n"
          ]
        },
        {
          "output_type": "stream",
          "name": "stderr",
          "text": [
            " 80%|███████▉  | 12.768115942028743/16 [00:53<00:18,  5.84s/it]"
          ]
        },
        {
          "output_type": "stream",
          "name": "stdout",
          "text": [
            "Train Epoch: 13 [500/535 (93%)]\tLoss: 0.696299\n"
          ]
        },
        {
          "output_type": "stream",
          "name": "stderr",
          "text": [
            " 82%|████████▏ | 13.043478260869307/16 [00:54<00:11,  4.01s/it]"
          ]
        },
        {
          "output_type": "stream",
          "name": "stdout",
          "text": [
            "\n",
            "Test Epoch: 13\tAccuracy: 132/145 (91%)\n",
            "\n",
            "Train Epoch: 14 [0/535 (0%)]\tLoss: 0.636721\n"
          ]
        },
        {
          "output_type": "stream",
          "name": "stderr",
          "text": [
            " 82%|████████▏ | 13.188405797101183/16 [00:55<00:10,  3.84s/it]"
          ]
        },
        {
          "output_type": "stream",
          "name": "stdout",
          "text": [
            "Train Epoch: 14 [100/535 (19%)]\tLoss: 0.582432\n"
          ]
        },
        {
          "output_type": "stream",
          "name": "stderr",
          "text": [
            " 83%|████████▎ | 13.333333333333059/16 [00:55<00:10,  3.78s/it]"
          ]
        },
        {
          "output_type": "stream",
          "name": "stdout",
          "text": [
            "Train Epoch: 14 [200/535 (37%)]\tLoss: 0.428680\n"
          ]
        },
        {
          "output_type": "stream",
          "name": "stderr",
          "text": [
            " 84%|████████▍ | 13.478260869564934/16 [00:56<00:09,  3.84s/it]"
          ]
        },
        {
          "output_type": "stream",
          "name": "stdout",
          "text": [
            "Train Epoch: 14 [300/535 (56%)]\tLoss: 0.421796\n"
          ]
        },
        {
          "output_type": "stream",
          "name": "stderr",
          "text": [
            " 85%|████████▌ | 13.62318840579681/16 [00:56<00:09,  3.95s/it] "
          ]
        },
        {
          "output_type": "stream",
          "name": "stdout",
          "text": [
            "Train Epoch: 14 [400/535 (74%)]\tLoss: 0.163321\n"
          ]
        },
        {
          "output_type": "stream",
          "name": "stderr",
          "text": [
            " 86%|████████▌ | 13.768115942028686/16 [00:57<00:08,  3.95s/it]"
          ]
        },
        {
          "output_type": "stream",
          "name": "stdout",
          "text": [
            "Train Epoch: 14 [500/535 (93%)]\tLoss: 0.367478\n"
          ]
        },
        {
          "output_type": "stream",
          "name": "stderr",
          "text": [
            " 88%|████████▊ | 14.028985507246063/16 [00:58<00:07,  3.69s/it]"
          ]
        },
        {
          "output_type": "stream",
          "name": "stdout",
          "text": [
            "\n",
            "Test Epoch: 14\tAccuracy: 133/145 (92%)\n",
            "\n",
            "Train Epoch: 15 [0/535 (0%)]\tLoss: 0.471180\n"
          ]
        },
        {
          "output_type": "stream",
          "name": "stderr",
          "text": [
            " 89%|████████▉ | 14.202898550724314/16 [00:58<00:07,  4.00s/it]"
          ]
        },
        {
          "output_type": "stream",
          "name": "stdout",
          "text": [
            "Train Epoch: 15 [100/535 (19%)]\tLoss: 0.629109\n"
          ]
        },
        {
          "output_type": "stream",
          "name": "stderr",
          "text": [
            " 90%|████████▉ | 14.34782608695619/16 [00:59<00:06,  4.03s/it] "
          ]
        },
        {
          "output_type": "stream",
          "name": "stdout",
          "text": [
            "Train Epoch: 15 [200/535 (37%)]\tLoss: 0.189428\n"
          ]
        },
        {
          "output_type": "stream",
          "name": "stderr",
          "text": [
            " 91%|█████████ | 14.492753623188065/16 [01:00<00:06,  4.06s/it]"
          ]
        },
        {
          "output_type": "stream",
          "name": "stdout",
          "text": [
            "Train Epoch: 15 [300/535 (56%)]\tLoss: 0.183415\n"
          ]
        },
        {
          "output_type": "stream",
          "name": "stderr",
          "text": [
            " 91%|█████████▏| 14.637681159419941/16 [01:00<00:05,  3.81s/it]"
          ]
        },
        {
          "output_type": "stream",
          "name": "stdout",
          "text": [
            "Train Epoch: 15 [400/535 (74%)]\tLoss: 0.261172\n"
          ]
        },
        {
          "output_type": "stream",
          "name": "stderr",
          "text": [
            " 92%|█████████▏| 14.753623188405442/16 [01:01<00:04,  3.97s/it]"
          ]
        },
        {
          "output_type": "stream",
          "name": "stdout",
          "text": [
            "Train Epoch: 15 [500/535 (93%)]\tLoss: 0.316950\n"
          ]
        },
        {
          "output_type": "stream",
          "name": "stderr",
          "text": [
            " 94%|█████████▍| 15.043478260869193/16 [01:02<00:03,  3.80s/it]"
          ]
        },
        {
          "output_type": "stream",
          "name": "stdout",
          "text": [
            "\n",
            "Test Epoch: 15\tAccuracy: 131/145 (90%)\n",
            "\n",
            "Train Epoch: 16 [0/535 (0%)]\tLoss: 0.653405\n"
          ]
        },
        {
          "output_type": "stream",
          "name": "stderr",
          "text": [
            " 95%|█████████▍| 15.188405797101069/16 [01:02<00:03,  3.81s/it]"
          ]
        },
        {
          "output_type": "stream",
          "name": "stdout",
          "text": [
            "Train Epoch: 16 [100/535 (19%)]\tLoss: 0.294380\n"
          ]
        },
        {
          "output_type": "stream",
          "name": "stderr",
          "text": [
            " 96%|█████████▌| 15.333333333332945/16 [01:03<00:02,  3.92s/it]"
          ]
        },
        {
          "output_type": "stream",
          "name": "stdout",
          "text": [
            "Train Epoch: 16 [200/535 (37%)]\tLoss: 0.273168\n"
          ]
        },
        {
          "output_type": "stream",
          "name": "stderr",
          "text": [
            " 97%|█████████▋| 15.47826086956482/16 [01:04<00:02,  4.93s/it] "
          ]
        },
        {
          "output_type": "stream",
          "name": "stdout",
          "text": [
            "Train Epoch: 16 [300/535 (56%)]\tLoss: 0.304271\n"
          ]
        },
        {
          "output_type": "stream",
          "name": "stderr",
          "text": [
            " 98%|█████████▊| 15.623188405796697/16 [01:04<00:02,  5.38s/it]"
          ]
        },
        {
          "output_type": "stream",
          "name": "stdout",
          "text": [
            "Train Epoch: 16 [400/535 (74%)]\tLoss: 0.230182\n"
          ]
        },
        {
          "output_type": "stream",
          "name": "stderr",
          "text": [
            " 99%|█████████▊| 15.768115942028572/16 [01:05<00:01,  5.52s/it]"
          ]
        },
        {
          "output_type": "stream",
          "name": "stdout",
          "text": [
            "Train Epoch: 16 [500/535 (93%)]\tLoss: 0.131387\n"
          ]
        },
        {
          "output_type": "stream",
          "name": "stderr",
          "text": [
            "100%|█████████▉| 15.999999999999574/16 [01:06<00:00,  4.17s/it]\n"
          ]
        },
        {
          "output_type": "stream",
          "name": "stdout",
          "text": [
            "\n",
            "Test Epoch: 16\tAccuracy: 130/145 (90%)\n",
            "\n"
          ]
        },
        {
          "output_type": "display_data",
          "data": {
            "text/plain": [
              "<Figure size 640x480 with 1 Axes>"
            ],
            "image/png": "[encoded data removed]"
          },
          "metadata": {}
        }
      ]
    },
    {
      "cell_type": "code",
      "source": [],
      "metadata": {
        "id": "xhglYjAsSOf8"
      },
      "execution_count": null,
      "outputs": []
    }
  ],
  "metadata": {
    "kernelspec": {
      "display_name": "Python 3",
      "name": "python3"
    },
    "language_info": {
      "codemirror_mode": {
        "name": "ipython",
        "version": 3
      },
      "file_extension": ".py",
      "mimetype": "text/x-python",
      "name": "python",
      "nbconvert_exporter": "python",
      "pygments_lexer": "ipython3",
      "version": "3.10.9"
    },
    "colab": {
      "provenance": [],
      "gpuType": "T4"
    },
    "accelerator": "GPU",
    "widgets": {
      "application/vnd.jupyter.widget-state+json": {
        "e94056cef8fb4927a77912271104d2b9": {
          "model_module": "@jupyter-widgets/controls",
          "model_name": "HBoxModel",
          "model_module_version": "1.5.0",
          "state": {
            "_dom_classes": [],
            "_model_module": "@jupyter-widgets/controls",
            "_model_module_version": "1.5.0",
            "_model_name": "HBoxModel",
            "_view_count": null,
            "_view_module": "@jupyter-widgets/controls",
            "_view_module_version": "1.5.0",
            "_view_name": "HBoxView",
            "box_style": "",
            "children": [
              "IPY_MODEL_fce6ebb655574ff9bba8b79f3287e8d0",
              "IPY_MODEL_c4b49cedfc09477e9da086695cf2cf71",
              "IPY_MODEL_cdaf8d7601c347daa6d2728686f13df5"
            ],
            "layout": "IPY_MODEL_f849f314cbea4a819295b3d717643211"
          }
        },
        "fce6ebb655574ff9bba8b79f3287e8d0": {
          "model_module": "@jupyter-widgets/controls",
          "model_name": "HTMLModel",
          "model_module_version": "1.5.0",
          "state": {
            "_dom_classes": [],
            "_model_module": "@jupyter-widgets/controls",
            "_model_module_version": "1.5.0",
            "_model_name": "HTMLModel",
            "_view_count": null,
            "_view_module": "@jupyter-widgets/controls",
            "_view_module_version": "1.5.0",
            "_view_name": "HTMLView",
            "description": "",
            "description_tooltip": null,
            "layout": "IPY_MODEL_696e0836ddd9426084a97a608e630426",
            "placeholder": "​",
            "style": "IPY_MODEL_fdeda8e0737e45039d7022b2aec31ba4",
            "value": "100%"
          }
        },
        "c4b49cedfc09477e9da086695cf2cf71": {
          "model_module": "@jupyter-widgets/controls",
          "model_name": "FloatProgressModel",
          "model_module_version": "1.5.0",
          "state": {
            "_dom_classes": [],
            "_model_module": "@jupyter-widgets/controls",
            "_model_module_version": "1.5.0",
            "_model_name": "FloatProgressModel",
            "_view_count": null,
            "_view_module": "@jupyter-widgets/controls",
            "_view_module_version": "1.5.0",
            "_view_name": "ProgressView",
            "bar_style": "success",
            "description": "",
            "description_tooltip": null,
            "layout": "IPY_MODEL_0c5b7414434849a0b909414a52d47967",
            "max": 2428923189,
            "min": 0,
            "orientation": "horizontal",
            "style": "IPY_MODEL_7c894401bb53410bbc4492abfeee3a46",
            "value": 2428923189
          }
        },
        "cdaf8d7601c347daa6d2728686f13df5": {
          "model_module": "@jupyter-widgets/controls",
          "model_name": "HTMLModel",
          "model_module_version": "1.5.0",
          "state": {
            "_dom_classes": [],
            "_model_module": "@jupyter-widgets/controls",
            "_model_module_version": "1.5.0",
            "_model_name": "HTMLModel",
            "_view_count": null,
            "_view_module": "@jupyter-widgets/controls",
            "_view_module_version": "1.5.0",
            "_view_name": "HTMLView",
            "description": "",
            "description_tooltip": null,
            "layout": "IPY_MODEL_a98cd080db8b465e88304b9498393727",
            "placeholder": "​",
            "style": "IPY_MODEL_a0f39cce7e46435eb3632bf1c74eff02",
            "value": " 2.26G/2.26G [00:39&lt;00:00, 46.6MB/s]"
          }
        },
        "f849f314cbea4a819295b3d717643211": {
          "model_module": "@jupyter-widgets/base",
          "model_name": "LayoutModel",
          "model_module_version": "1.2.0",
          "state": {
            "_model_module": "@jupyter-widgets/base",
            "_model_module_version": "1.2.0",
            "_model_name": "LayoutModel",
            "_view_count": null,
            "_view_module": "@jupyter-widgets/base",
            "_view_module_version": "1.2.0",
            "_view_name": "LayoutView",
            "align_content": null,
            "align_items": null,
            "align_self": null,
            "border": null,
            "bottom": null,
            "display": null,
            "flex": null,
            "flex_flow": null,
            "grid_area": null,
            "grid_auto_columns": null,
            "grid_auto_flow": null,
            "grid_auto_rows": null,
            "grid_column": null,
            "grid_gap": null,
            "grid_row": null,
            "grid_template_areas": null,
            "grid_template_columns": null,
            "grid_template_rows": null,
            "height": null,
            "justify_content": null,
            "justify_items": null,
            "left": null,
            "margin": null,
            "max_height": null,
            "max_width": null,
            "min_height": null,
            "min_width": null,
            "object_fit": null,
            "object_position": null,
            "order": null,
            "overflow": null,
            "overflow_x": null,
            "overflow_y": null,
            "padding": null,
            "right": null,
            "top": null,
            "visibility": null,
            "width": null
          }
        },
        "696e0836ddd9426084a97a608e630426": {
          "model_module": "@jupyter-widgets/base",
          "model_name": "LayoutModel",
          "model_module_version": "1.2.0",
          "state": {
            "_model_module": "@jupyter-widgets/base",
            "_model_module_version": "1.2.0",
            "_model_name": "LayoutModel",
            "_view_count": null,
            "_view_module": "@jupyter-widgets/base",
            "_view_module_version": "1.2.0",
            "_view_name": "LayoutView",
            "align_content": null,
            "align_items": null,
            "align_self": null,
            "border": null,
            "bottom": null,
            "display": null,
            "flex": null,
            "flex_flow": null,
            "grid_area": null,
            "grid_auto_columns": null,
            "grid_auto_flow": null,
            "grid_auto_rows": null,
            "grid_column": null,
            "grid_gap": null,
            "grid_row": null,
            "grid_template_areas": null,
            "grid_template_columns": null,
            "grid_template_rows": null,
            "height": null,
            "justify_content": null,
            "justify_items": null,
            "left": null,
            "margin": null,
            "max_height": null,
            "max_width": null,
            "min_height": null,
            "min_width": null,
            "object_fit": null,
            "object_position": null,
            "order": null,
            "overflow": null,
            "overflow_x": null,
            "overflow_y": null,
            "padding": null,
            "right": null,
            "top": null,
            "visibility": null,
            "width": null
          }
        },
        "fdeda8e0737e45039d7022b2aec31ba4": {
          "model_module": "@jupyter-widgets/controls",
          "model_name": "DescriptionStyleModel",
          "model_module_version": "1.5.0",
          "state": {
            "_model_module": "@jupyter-widgets/controls",
            "_model_module_version": "1.5.0",
            "_model_name": "DescriptionStyleModel",
            "_view_count": null,
            "_view_module": "@jupyter-widgets/base",
            "_view_module_version": "1.2.0",
            "_view_name": "StyleView",
            "description_width": ""
          }
        },
        "0c5b7414434849a0b909414a52d47967": {
          "model_module": "@jupyter-widgets/base",
          "model_name": "LayoutModel",
          "model_module_version": "1.2.0",
          "state": {
            "_model_module": "@jupyter-widgets/base",
            "_model_module_version": "1.2.0",
            "_model_name": "LayoutModel",
            "_view_count": null,
            "_view_module": "@jupyter-widgets/base",
            "_view_module_version": "1.2.0",
            "_view_name": "LayoutView",
            "align_content": null,
            "align_items": null,
            "align_self": null,
            "border": null,
            "bottom": null,
            "display": null,
            "flex": null,
            "flex_flow": null,
            "grid_area": null,
            "grid_auto_columns": null,
            "grid_auto_flow": null,
            "grid_auto_rows": null,
            "grid_column": null,
            "grid_gap": null,
            "grid_row": null,
            "grid_template_areas": null,
            "grid_template_columns": null,
            "grid_template_rows": null,
            "height": null,
            "justify_content": null,
            "justify_items": null,
            "left": null,
            "margin": null,
            "max_height": null,
            "max_width": null,
            "min_height": null,
            "min_width": null,
            "object_fit": null,
            "object_position": null,
            "order": null,
            "overflow": null,
            "overflow_x": null,
            "overflow_y": null,
            "padding": null,
            "right": null,
            "top": null,
            "visibility": null,
            "width": null
          }
        },
        "7c894401bb53410bbc4492abfeee3a46": {
          "model_module": "@jupyter-widgets/controls",
          "model_name": "ProgressStyleModel",
          "model_module_version": "1.5.0",
          "state": {
            "_model_module": "@jupyter-widgets/controls",
            "_model_module_version": "1.5.0",
            "_model_name": "ProgressStyleModel",
            "_view_count": null,
            "_view_module": "@jupyter-widgets/base",
            "_view_module_version": "1.2.0",
            "_view_name": "StyleView",
            "bar_color": null,
            "description_width": ""
          }
        },
        "a98cd080db8b465e88304b9498393727": {
          "model_module": "@jupyter-widgets/base",
          "model_name": "LayoutModel",
          "model_module_version": "1.2.0",
          "state": {
            "_model_module": "@jupyter-widgets/base",
            "_model_module_version": "1.2.0",
            "_model_name": "LayoutModel",
            "_view_count": null,
            "_view_module": "@jupyter-widgets/base",
            "_view_module_version": "1.2.0",
            "_view_name": "LayoutView",
            "align_content": null,
            "align_items": null,
            "align_self": null,
            "border": null,
            "bottom": null,
            "display": null,
            "flex": null,
            "flex_flow": null,
            "grid_area": null,
            "grid_auto_columns": null,
            "grid_auto_flow": null,
            "grid_auto_rows": null,
            "grid_column": null,
            "grid_gap": null,
            "grid_row": null,
            "grid_template_areas": null,
            "grid_template_columns": null,
            "grid_template_rows": null,
            "height": null,
            "justify_content": null,
            "justify_items": null,
            "left": null,
            "margin": null,
            "max_height": null,
            "max_width": null,
            "min_height": null,
            "min_width": null,
            "object_fit": null,
            "object_position": null,
            "order": null,
            "overflow": null,
            "overflow_x": null,
            "overflow_y": null,
            "padding": null,
            "right": null,
            "top": null,
            "visibility": null,
            "width": null
          }
        },
        "a0f39cce7e46435eb3632bf1c74eff02": {
          "model_module": "@jupyter-widgets/controls",
          "model_name": "DescriptionStyleModel",
          "model_module_version": "1.5.0",
          "state": {
            "_model_module": "@jupyter-widgets/controls",
            "_model_module_version": "1.5.0",
            "_model_name": "DescriptionStyleModel",
            "_view_count": null,
            "_view_module": "@jupyter-widgets/base",
            "_view_module_version": "1.2.0",
            "_view_name": "StyleView",
            "description_width": ""
          }
        }
      }
    }
  },
  "nbformat": 4,
  "nbformat_minor": 0
}